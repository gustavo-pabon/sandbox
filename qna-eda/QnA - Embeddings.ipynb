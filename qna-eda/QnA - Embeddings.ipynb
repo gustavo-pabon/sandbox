{
 "cells": [
  {
   "cell_type": "code",
   "execution_count": 9,
   "id": "c6f2dd89-b640-480c-8345-a27968cf2531",
   "metadata": {},
   "outputs": [],
   "source": [
    "import pandas as pd\n",
    "import json\n",
    "from openai import AzureOpenAI\n",
    "import os\n",
    "import numpy as np\n",
    "import pickle\n",
    "from tqdm import tqdm"
   ]
  },
  {
   "cell_type": "code",
   "execution_count": 2,
   "id": "9ac784c5-0380-4474-bbe4-2d35034c41fd",
   "metadata": {},
   "outputs": [],
   "source": [
    "with open('config.json','r') as config_file:\n",
    "    config = json.load(config_file)\n",
    "aoai_endpoint = config['AzureOpenAIEndpoint']\n",
    "aoai_apikey = config['AzureOpenAIAPIKey']\n",
    "aoai_chat_deployment_name = config['AzureOpenAIChatDeploymentName']\n",
    "aoai_embeddings_deployment_name = config['AzureOpenAIEmbeddingsDeploymentName']\n",
    "aoai_client = AzureOpenAI(\n",
    "    api_key=aoai_apikey,  \n",
    "    api_version=\"2024-02-01\",\n",
    "    azure_endpoint = aoai_endpoint\n",
    ")"
   ]
  },
  {
   "cell_type": "code",
   "execution_count": 3,
   "id": "c17b015a-2145-412c-b30b-7a75ef12eda4",
   "metadata": {},
   "outputs": [
    {
     "name": "stdout",
     "output_type": "stream",
     "text": [
      "QnA shape: (661, 6)\n",
      "CPU times: total: 125 ms\n",
      "Wall time: 624 ms\n"
     ]
    },
    {
     "data": {
      "text/html": [
       "<div>\n",
       "<style scoped>\n",
       "    .dataframe tbody tr th:only-of-type {\n",
       "        vertical-align: middle;\n",
       "    }\n",
       "\n",
       "    .dataframe tbody tr th {\n",
       "        vertical-align: top;\n",
       "    }\n",
       "\n",
       "    .dataframe thead th {\n",
       "        text-align: right;\n",
       "    }\n",
       "</style>\n",
       "<table border=\"1\" class=\"dataframe\">\n",
       "  <thead>\n",
       "    <tr style=\"text-align: right;\">\n",
       "      <th></th>\n",
       "      <th>id</th>\n",
       "      <th>pergunta</th>\n",
       "      <th>resposta</th>\n",
       "      <th>tags</th>\n",
       "      <th>title</th>\n",
       "      <th>uid</th>\n",
       "    </tr>\n",
       "  </thead>\n",
       "  <tbody>\n",
       "    <tr>\n",
       "      <th>0</th>\n",
       "      <td>17</td>\n",
       "      <td>Quais os benefícios dos cartões Click?</td>\n",
       "      <td>&lt;p&gt;&lt;strong&gt;Assunto: Benefícios do cartão de cr...</td>\n",
       "      <td>['final']</td>\n",
       "      <td>[PF] [Benefícios] [IA gen] Benefícios dos cart...</td>\n",
       "      <td>blt4f5a77237fdcf7ac</td>\n",
       "    </tr>\n",
       "    <tr>\n",
       "      <th>1</th>\n",
       "      <td>61</td>\n",
       "      <td>Meu cartão tem direito à sala vip?</td>\n",
       "      <td>&lt;p&gt;Dependendo do tipo de cartão, você tem aces...</td>\n",
       "      <td>[]</td>\n",
       "      <td>[PF] [Benefícios] [IA gen] Meu cartão tem dire...</td>\n",
       "      <td>blt1d112fef0d835dbf</td>\n",
       "    </tr>\n",
       "    <tr>\n",
       "      <th>2</th>\n",
       "      <td>68</td>\n",
       "      <td>Quais são os benefícios do cartão The One?</td>\n",
       "      <td>&lt;p&gt;&lt;strong&gt;O que é e como pedir o cartão The O...</td>\n",
       "      <td>[]</td>\n",
       "      <td>[PF] [Benefícios] [IA gen] Benefícios do cartã...</td>\n",
       "      <td>bltd9528ee11abd7873</td>\n",
       "    </tr>\n",
       "    <tr>\n",
       "      <th>3</th>\n",
       "      <td>69</td>\n",
       "      <td>Instituto Ayrton Senna Platinum (mastercard)</td>\n",
       "      <td>&lt;p&gt;Renda mínimaR$ 1.000,00&amp;nbsp;&lt;/p&gt;&lt;p&gt;Anuidad...</td>\n",
       "      <td>[]</td>\n",
       "      <td>[PF] [Benefícios] [IA gen] Instituto Ayrton Se...</td>\n",
       "      <td>bltd2bb3abc1adb7852</td>\n",
       "    </tr>\n",
       "    <tr>\n",
       "      <th>4</th>\n",
       "      <td>70</td>\n",
       "      <td>Instituto Ayrton Senna Platinum (visa)</td>\n",
       "      <td>&lt;p&gt;Renda mínima R$ 1.000,00&amp;nbsp;&lt;/p&gt;&lt;p&gt;Anuida...</td>\n",
       "      <td>[]</td>\n",
       "      <td>[PF] [Benefícios] [IA gen] Instituto Ayrton Se...</td>\n",
       "      <td>blt16b7d04514a969b3</td>\n",
       "    </tr>\n",
       "    <tr>\n",
       "      <th>...</th>\n",
       "      <td>...</td>\n",
       "      <td>...</td>\n",
       "      <td>...</td>\n",
       "      <td>...</td>\n",
       "      <td>...</td>\n",
       "      <td>...</td>\n",
       "    </tr>\n",
       "    <tr>\n",
       "      <th>656</th>\n",
       "      <td>34531</td>\n",
       "      <td>Quais os benefícios dos cartões Vivo Platinum?</td>\n",
       "      <td>&lt;p&gt;Benefícios dos cartões Vivo Platinum&lt;/p&gt;&lt;p&gt;...</td>\n",
       "      <td>[]</td>\n",
       "      <td>[PF][Benefícios] [IA gen] Benefícios dos cartõ...</td>\n",
       "      <td>blt140f0b59f9a3cb76</td>\n",
       "    </tr>\n",
       "    <tr>\n",
       "      <th>657</th>\n",
       "      <td>34532</td>\n",
       "      <td>Samsung Platinum</td>\n",
       "      <td>&lt;p&gt;Renda mínima R$ 1.500,00&lt;/p&gt;&lt;p&gt;&lt;/p&gt;&lt;p&gt;Anuid...</td>\n",
       "      <td>[]</td>\n",
       "      <td>[PF] [Benefícios] [IA gen] Samsung Platinum</td>\n",
       "      <td>blt5336bb9098c193cc</td>\n",
       "    </tr>\n",
       "    <tr>\n",
       "      <th>658</th>\n",
       "      <td>34533</td>\n",
       "      <td>Decathlon Platinum</td>\n",
       "      <td>&lt;p&gt;Renda mínima R$ 800,00&lt;/p&gt;&lt;p&gt;Anuidade gráti...</td>\n",
       "      <td>[]</td>\n",
       "      <td>[PF] [Benefícios] [IA gen] Decathlon Platinum</td>\n",
       "      <td>blt73a6afc9343cbae0</td>\n",
       "    </tr>\n",
       "    <tr>\n",
       "      <th>659</th>\n",
       "      <td>34534</td>\n",
       "      <td>Quais os benefícios dos cartões TIM?</td>\n",
       "      <td>&lt;p&gt;Benefícios dos cartões TIM&lt;/p&gt;&lt;p&gt;Informaçõe...</td>\n",
       "      <td>[]</td>\n",
       "      <td>[PF] [Benefícios] [IA gen] Benefícios dos cart...</td>\n",
       "      <td>bltd11ca24f97300331</td>\n",
       "    </tr>\n",
       "    <tr>\n",
       "      <th>660</th>\n",
       "      <td>34535</td>\n",
       "      <td>Cartão Magalu Platinum (visa)</td>\n",
       "      <td>&lt;p&gt;Renda mínima R$ 800,00&amp;nbsp;&lt;/p&gt;&lt;p&gt;Anuidade...</td>\n",
       "      <td>[]</td>\n",
       "      <td>[PF] [Benefícios] [IA gen] Cartão Magalu Plati...</td>\n",
       "      <td>bltf6d39871e12da4aa</td>\n",
       "    </tr>\n",
       "  </tbody>\n",
       "</table>\n",
       "<p>661 rows × 6 columns</p>\n",
       "</div>"
      ],
      "text/plain": [
       "        id                                        pergunta  \\\n",
       "0       17          Quais os benefícios dos cartões Click?   \n",
       "1       61              Meu cartão tem direito à sala vip?   \n",
       "2       68      Quais são os benefícios do cartão The One?   \n",
       "3       69    Instituto Ayrton Senna Platinum (mastercard)   \n",
       "4       70          Instituto Ayrton Senna Platinum (visa)   \n",
       "..     ...                                             ...   \n",
       "656  34531  Quais os benefícios dos cartões Vivo Platinum?   \n",
       "657  34532                                Samsung Platinum   \n",
       "658  34533                             Decathlon Platinum    \n",
       "659  34534            Quais os benefícios dos cartões TIM?   \n",
       "660  34535                   Cartão Magalu Platinum (visa)   \n",
       "\n",
       "                                              resposta       tags  \\\n",
       "0    <p><strong>Assunto: Benefícios do cartão de cr...  ['final']   \n",
       "1    <p>Dependendo do tipo de cartão, você tem aces...         []   \n",
       "2    <p><strong>O que é e como pedir o cartão The O...         []   \n",
       "3    <p>Renda mínimaR$ 1.000,00&nbsp;</p><p>Anuidad...         []   \n",
       "4    <p>Renda mínima R$ 1.000,00&nbsp;</p><p>Anuida...         []   \n",
       "..                                                 ...        ...   \n",
       "656  <p>Benefícios dos cartões Vivo Platinum</p><p>...         []   \n",
       "657  <p>Renda mínima R$ 1.500,00</p><p></p><p>Anuid...         []   \n",
       "658  <p>Renda mínima R$ 800,00</p><p>Anuidade gráti...         []   \n",
       "659  <p>Benefícios dos cartões TIM</p><p>Informaçõe...         []   \n",
       "660  <p>Renda mínima R$ 800,00&nbsp;</p><p>Anuidade...         []   \n",
       "\n",
       "                                                 title                  uid  \n",
       "0    [PF] [Benefícios] [IA gen] Benefícios dos cart...  blt4f5a77237fdcf7ac  \n",
       "1    [PF] [Benefícios] [IA gen] Meu cartão tem dire...  blt1d112fef0d835dbf  \n",
       "2    [PF] [Benefícios] [IA gen] Benefícios do cartã...  bltd9528ee11abd7873  \n",
       "3    [PF] [Benefícios] [IA gen] Instituto Ayrton Se...  bltd2bb3abc1adb7852  \n",
       "4    [PF] [Benefícios] [IA gen] Instituto Ayrton Se...  blt16b7d04514a969b3  \n",
       "..                                                 ...                  ...  \n",
       "656  [PF][Benefícios] [IA gen] Benefícios dos cartõ...  blt140f0b59f9a3cb76  \n",
       "657        [PF] [Benefícios] [IA gen] Samsung Platinum  blt5336bb9098c193cc  \n",
       "658      [PF] [Benefícios] [IA gen] Decathlon Platinum  blt73a6afc9343cbae0  \n",
       "659  [PF] [Benefícios] [IA gen] Benefícios dos cart...  bltd11ca24f97300331  \n",
       "660  [PF] [Benefícios] [IA gen] Cartão Magalu Plati...  bltf6d39871e12da4aa  \n",
       "\n",
       "[661 rows x 6 columns]"
      ]
     },
     "execution_count": 3,
     "metadata": {},
     "output_type": "execute_result"
    }
   ],
   "source": [
    "%%time\n",
    "df_qna = pd.read_csv(\"local_data/prepared.csv\")\n",
    "print(f\"QnA shape: {df_qna.shape}\")\n",
    "df_qna"
   ]
  },
  {
   "cell_type": "markdown",
   "id": "ece47815-bf91-4a6e-99aa-c5806f35fffb",
   "metadata": {},
   "source": [
    "# Create Embeddings for Answers\n",
    "\n",
    "*\\*\\*IF THE ANSWER HAS MORE THAN THE MAXIMUM NUMBER OF TOKENS FOR THE EMBEDDINGS MODEL, A CHAT MODEL IS USED TO SUMMARIZE IT, AND THEN THE SUMMARY IS EMBEDDED\\*\\**"
   ]
  },
  {
   "cell_type": "code",
   "execution_count": 4,
   "id": "237006c3-1a53-4b70-b666-6cf49a069030",
   "metadata": {},
   "outputs": [
    {
     "name": "stdout",
     "output_type": "stream",
     "text": [
      "(661, 1536)\n"
     ]
    },
    {
     "data": {
      "text/plain": [
       "array([[ 0.00146169,  0.01871423, -0.03199973, ...,  0.00021403,\n",
       "         0.00383962,  0.00499351],\n",
       "       [-0.01133289,  0.01012021,  0.02701622, ..., -0.01521566,\n",
       "        -0.00603079,  0.01791293],\n",
       "       [-0.02621103, -0.002022  ,  0.0171054 , ...,  0.00745273,\n",
       "        -0.01175849,  0.01981121],\n",
       "       ...,\n",
       "       [ 0.01569564,  0.03622417, -0.04164425, ...,  0.00428242,\n",
       "         0.00133314,  0.04451237],\n",
       "       [-0.01553899,  0.00998357, -0.00298004, ...,  0.00093578,\n",
       "         0.00306097,  0.02353971],\n",
       "       [-0.00034272,  0.01770813, -0.0522969 , ..., -0.00382021,\n",
       "        -0.00464494,  0.05260583]])"
      ]
     },
     "execution_count": 4,
     "metadata": {},
     "output_type": "execute_result"
    }
   ],
   "source": [
    "count = 0\n",
    "answer_embeddings = []\n",
    "for answer in tqdm(df_qna['resposta'].values):\n",
    "    try:\n",
    "        embedding = aoai_client.embeddings.create(\n",
    "                    input=[answer], \n",
    "                    model=aoai_embeddings_deployment_name\n",
    "        ).data[0].embedding\n",
    "    except Exception as e:\n",
    "        if \"context length\" in e.message:\n",
    "            prompt = \"## Crie um longo resumo detalhado de 8000 tokens em português para a seguinte página HTML:\\n\\n\" + answer\n",
    "            summary = aoai_client.chat.completions.create(\n",
    "                messages=[{\"role\": \"user\", \"content\": prompt}], \n",
    "                model=aoai_chat_deployment_name, \n",
    "                temperature=0\n",
    "            ).choices[0].message.content\n",
    "            embedding = aoai_client.embeddings.create(\n",
    "                    input=[summary], \n",
    "                    model=aoai_embeddings_deployment_name\n",
    "            ).data[0].embedding\n",
    "    answer_embeddings.append(embedding)\n",
    "\n",
    "answer_embeddings_ar = np.array(answer_embeddings)\n",
    "print(answer_embeddings_ar.shape)\n",
    "answer_embeddings_ar"
   ]
  },
  {
   "cell_type": "code",
   "execution_count": 7,
   "id": "7bf9de3e-1663-40f5-8198-5c90794912a4",
   "metadata": {},
   "outputs": [],
   "source": [
    "with open('local_data/answer_embeddings.pkl', mode='wb') as pkl_file:\n",
    "    pickle.dump(answer_embeddings_ar, pkl_file)"
   ]
  },
  {
   "cell_type": "markdown",
   "id": "85f67c2b-46d6-4d7d-9807-3e2ccb45a288",
   "metadata": {},
   "source": [
    "# Create Embeddings of Questions"
   ]
  },
  {
   "cell_type": "code",
   "execution_count": 10,
   "id": "48802324-e87a-4850-aecd-66a8810bec5d",
   "metadata": {},
   "outputs": [
    {
     "name": "stderr",
     "output_type": "stream",
     "text": [
      "100%|███████████████████████████████████████████████████████████████████████████████████████████████████████████████████████████| 661/661 [01:20<00:00,  8.24it/s]\n"
     ]
    },
    {
     "name": "stdout",
     "output_type": "stream",
     "text": [
      "(661, 1536)\n"
     ]
    },
    {
     "data": {
      "text/plain": [
       "array([[ 0.02774474,  0.00365294, -0.02350792, ...,  0.00263921,\n",
       "        -0.00758168,  0.00979986],\n",
       "       [ 0.00078652,  0.00399377, -0.00828338, ..., -0.00700901,\n",
       "        -0.02218762,  0.00384301],\n",
       "       [ 0.0098039 , -0.00761893,  0.02033613, ...,  0.02031337,\n",
       "        -0.00892764,  0.00621919],\n",
       "       ...,\n",
       "       [ 0.07793394, -0.00479394, -0.03930265, ...,  0.03538637,\n",
       "         0.0031575 ,  0.04579248],\n",
       "       [-0.00318145, -0.00140842, -0.00160963, ...,  0.01419498,\n",
       "         0.00307342,  0.03366175],\n",
       "       [ 0.00579197, -0.00796867, -0.04693921, ..., -0.00610447,\n",
       "        -0.01190722,  0.01705803]])"
      ]
     },
     "execution_count": 10,
     "metadata": {},
     "output_type": "execute_result"
    }
   ],
   "source": [
    "question_embeddings = []\n",
    "for question in tqdm(df_qna['pergunta'].values):\n",
    "    embedding = aoai_client.embeddings.create(\n",
    "                input=[question], \n",
    "                model=aoai_embeddings_deployment_name\n",
    "    ).data[0].embedding\n",
    "    question_embeddings.append(embedding)\n",
    "\n",
    "question_embeddings_ar = np.array(question_embeddings)\n",
    "print(question_embeddings_ar.shape)\n",
    "question_embeddings_ar"
   ]
  },
  {
   "cell_type": "code",
   "execution_count": 11,
   "id": "04299edf-07cf-49b0-8946-d9c7f83f421d",
   "metadata": {},
   "outputs": [],
   "source": [
    "with open('local_data/question_embeddings.pkl', mode='wb') as pkl_file:\n",
    "    pickle.dump(question_embeddings_ar, pkl_file)"
   ]
  },
  {
   "cell_type": "code",
   "execution_count": null,
   "id": "3ef8fed0-f07e-473e-81ab-727f3c43cf7b",
   "metadata": {},
   "outputs": [],
   "source": []
  }
 ],
 "metadata": {
  "kernelspec": {
   "display_name": "Python 3 (ipykernel)",
   "language": "python",
   "name": "python3"
  },
  "language_info": {
   "codemirror_mode": {
    "name": "ipython",
    "version": 3
   },
   "file_extension": ".py",
   "mimetype": "text/x-python",
   "name": "python",
   "nbconvert_exporter": "python",
   "pygments_lexer": "ipython3",
   "version": "3.12.3"
  }
 },
 "nbformat": 4,
 "nbformat_minor": 5
}
