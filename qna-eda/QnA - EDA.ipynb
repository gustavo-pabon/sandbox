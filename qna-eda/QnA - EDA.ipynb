{
 "cells": [
  {
   "cell_type": "markdown",
   "id": "c8b541c5-9b32-42ea-97e2-574a8ed3c81a",
   "metadata": {},
   "source": [
    "# Round 1 of Exploratory Data Analysis (EDA) for QnA data at LLMOPs Project\n",
    "\n",
    "This notebook includes the results and code of the first round of EDA on the QnA data part of the credit card benefits project"
   ]
  },
  {
   "cell_type": "code",
   "execution_count": 1,
   "id": "fa466e97-fce2-45a7-9e03-eeabd6a41663",
   "metadata": {},
   "outputs": [],
   "source": [
    "import pandas as pd\n",
    "import matplotlib.pyplot as plt\n",
    "from IPython.display import display, Markdown"
   ]
  },
  {
   "cell_type": "code",
   "execution_count": 2,
   "id": "36f72491-be67-4256-8b81-a3c3a02e6c62",
   "metadata": {},
   "outputs": [
    {
     "name": "stdout",
     "output_type": "stream",
     "text": [
      "Raw shape: (39796, 465)\n",
      "Raw sample:\n",
      "CPU times: total: 2.73 s\n",
      "Wall time: 6.37 s\n"
     ]
    },
    {
     "data": {
      "text/html": [
       "<div>\n",
       "<style scoped>\n",
       "    .dataframe tbody tr th:only-of-type {\n",
       "        vertical-align: middle;\n",
       "    }\n",
       "\n",
       "    .dataframe tbody tr th {\n",
       "        vertical-align: top;\n",
       "    }\n",
       "\n",
       "    .dataframe thead th {\n",
       "        text-align: right;\n",
       "    }\n",
       "</style>\n",
       "<table border=\"1\" class=\"dataframe\">\n",
       "  <thead>\n",
       "    <tr style=\"text-align: right;\">\n",
       "      <th></th>\n",
       "      <th>id</th>\n",
       "      <th>amigo contextualizada</th>\n",
       "      <th>assunto</th>\n",
       "      <th>atalhos</th>\n",
       "      <th>canal</th>\n",
       "      <th>chave</th>\n",
       "      <th>created_at</th>\n",
       "      <th>created_by</th>\n",
       "      <th>faqs relacionadas</th>\n",
       "      <th>id vignette</th>\n",
       "      <th>...</th>\n",
       "      <th>Unnamed: 455</th>\n",
       "      <th>Unnamed: 456</th>\n",
       "      <th>Unnamed: 457</th>\n",
       "      <th>Unnamed: 458</th>\n",
       "      <th>Unnamed: 459</th>\n",
       "      <th>Unnamed: 460</th>\n",
       "      <th>Unnamed: 461</th>\n",
       "      <th>Unnamed: 462</th>\n",
       "      <th>Unnamed: 463</th>\n",
       "      <th>Unnamed: 464</th>\n",
       "    </tr>\n",
       "  </thead>\n",
       "  <tbody>\n",
       "    <tr>\n",
       "      <th>16769</th>\n",
       "      <td>16769</td>\n",
       "      <td>NaN</td>\n",
       "      <td>Saldo</td>\n",
       "      <td>NaN</td>\n",
       "      <td>NaN</td>\n",
       "      <td></td>\n",
       "      <td>2021-05-14 18:40:17.371000+00:00</td>\n",
       "      <td>blt2db73e8283c60439</td>\n",
       "      <td>[]</td>\n",
       "      <td>02dd3729e187e510VgnVCM2000009d3e3a0a____</td>\n",
       "      <td>...</td>\n",
       "      <td>NaN</td>\n",
       "      <td>NaN</td>\n",
       "      <td>NaN</td>\n",
       "      <td>NaN</td>\n",
       "      <td>NaN</td>\n",
       "      <td>NaN</td>\n",
       "      <td>NaN</td>\n",
       "      <td>NaN</td>\n",
       "      <td>NaN</td>\n",
       "      <td>NaN</td>\n",
       "    </tr>\n",
       "    <tr>\n",
       "      <th>7018</th>\n",
       "      <td>7018</td>\n",
       "      <td>NaN</td>\n",
       "      <td>Planos Player's Bank</td>\n",
       "      <td>NaN</td>\n",
       "      <td>NaN</td>\n",
       "      <td>NaN</td>\n",
       "      <td>2023-03-22 19:55:17.274000+00:00</td>\n",
       "      <td>blt43949dc9b5ef8f15</td>\n",
       "      <td>[]</td>\n",
       "      <td>NaN</td>\n",
       "      <td>...</td>\n",
       "      <td>NaN</td>\n",
       "      <td>NaN</td>\n",
       "      <td>NaN</td>\n",
       "      <td>NaN</td>\n",
       "      <td>NaN</td>\n",
       "      <td>NaN</td>\n",
       "      <td>NaN</td>\n",
       "      <td>NaN</td>\n",
       "      <td>NaN</td>\n",
       "      <td>NaN</td>\n",
       "    </tr>\n",
       "    <tr>\n",
       "      <th>27530</th>\n",
       "      <td>27530</td>\n",
       "      <td>NaN</td>\n",
       "      <td>Compras no Cartão e Contestação</td>\n",
       "      <td>NaN</td>\n",
       "      <td>NaN</td>\n",
       "      <td>NaN</td>\n",
       "      <td>2023-01-27 20:26:32.529000+00:00</td>\n",
       "      <td>blt43949dc9b5ef8f15</td>\n",
       "      <td>[]</td>\n",
       "      <td>NaN</td>\n",
       "      <td>...</td>\n",
       "      <td>NaN</td>\n",
       "      <td>NaN</td>\n",
       "      <td>NaN</td>\n",
       "      <td>NaN</td>\n",
       "      <td>NaN</td>\n",
       "      <td>NaN</td>\n",
       "      <td>NaN</td>\n",
       "      <td>NaN</td>\n",
       "      <td>NaN</td>\n",
       "      <td>NaN</td>\n",
       "    </tr>\n",
       "    <tr>\n",
       "      <th>38499</th>\n",
       "      <td>38499</td>\n",
       "      <td>81139d1d-aaa8-404d-9a0f-f4fee375a64a</td>\n",
       "      <td>Tracking de cartões</td>\n",
       "      <td>NaN</td>\n",
       "      <td>537fb21b-3da3-4295-b99d-92d6227b2188</td>\n",
       "      <td></td>\n",
       "      <td>2022-03-15 22:48:14.688000+00:00</td>\n",
       "      <td>bltd497be6c16d95e78</td>\n",
       "      <td>[]</td>\n",
       "      <td>NaN</td>\n",
       "      <td>...</td>\n",
       "      <td>NaN</td>\n",
       "      <td>NaN</td>\n",
       "      <td>NaN</td>\n",
       "      <td>NaN</td>\n",
       "      <td>NaN</td>\n",
       "      <td>NaN</td>\n",
       "      <td>NaN</td>\n",
       "      <td>NaN</td>\n",
       "      <td>NaN</td>\n",
       "      <td>NaN</td>\n",
       "    </tr>\n",
       "    <tr>\n",
       "      <th>11477</th>\n",
       "      <td>11477</td>\n",
       "      <td>NaN</td>\n",
       "      <td>pagar</td>\n",
       "      <td>NaN</td>\n",
       "      <td>NaN</td>\n",
       "      <td></td>\n",
       "      <td>2021-05-14 14:40:16.722000+00:00</td>\n",
       "      <td>blt2db73e8283c60439</td>\n",
       "      <td>[]</td>\n",
       "      <td>b731cf6a03493710VgnVCM1000009c3e3a0a____</td>\n",
       "      <td>...</td>\n",
       "      <td>NaN</td>\n",
       "      <td>NaN</td>\n",
       "      <td>NaN</td>\n",
       "      <td>NaN</td>\n",
       "      <td>NaN</td>\n",
       "      <td>NaN</td>\n",
       "      <td>NaN</td>\n",
       "      <td>NaN</td>\n",
       "      <td>NaN</td>\n",
       "      <td>NaN</td>\n",
       "    </tr>\n",
       "  </tbody>\n",
       "</table>\n",
       "<p>5 rows × 465 columns</p>\n",
       "</div>"
      ],
      "text/plain": [
       "          id                 amigo contextualizada  \\\n",
       "16769  16769                                   NaN   \n",
       "7018    7018                                   NaN   \n",
       "27530  27530                                   NaN   \n",
       "38499  38499  81139d1d-aaa8-404d-9a0f-f4fee375a64a   \n",
       "11477  11477                                   NaN   \n",
       "\n",
       "                               assunto atalhos  \\\n",
       "16769                            Saldo     NaN   \n",
       "7018              Planos Player's Bank     NaN   \n",
       "27530  Compras no Cartão e Contestação     NaN   \n",
       "38499              Tracking de cartões     NaN   \n",
       "11477                            pagar     NaN   \n",
       "\n",
       "                                      canal chave  \\\n",
       "16769                                   NaN         \n",
       "7018                                    NaN   NaN   \n",
       "27530                                   NaN   NaN   \n",
       "38499  537fb21b-3da3-4295-b99d-92d6227b2188         \n",
       "11477                                   NaN         \n",
       "\n",
       "                             created_at           created_by  \\\n",
       "16769  2021-05-14 18:40:17.371000+00:00  blt2db73e8283c60439   \n",
       "7018   2023-03-22 19:55:17.274000+00:00  blt43949dc9b5ef8f15   \n",
       "27530  2023-01-27 20:26:32.529000+00:00  blt43949dc9b5ef8f15   \n",
       "38499  2022-03-15 22:48:14.688000+00:00  bltd497be6c16d95e78   \n",
       "11477  2021-05-14 14:40:16.722000+00:00  blt2db73e8283c60439   \n",
       "\n",
       "      faqs relacionadas                               id vignette  ...  \\\n",
       "16769                []  02dd3729e187e510VgnVCM2000009d3e3a0a____  ...   \n",
       "7018                 []                                       NaN  ...   \n",
       "27530                []                                       NaN  ...   \n",
       "38499                []                                       NaN  ...   \n",
       "11477                []  b731cf6a03493710VgnVCM1000009c3e3a0a____  ...   \n",
       "\n",
       "      Unnamed: 455 Unnamed: 456 Unnamed: 457 Unnamed: 458 Unnamed: 459  \\\n",
       "16769          NaN          NaN          NaN          NaN          NaN   \n",
       "7018           NaN          NaN          NaN          NaN          NaN   \n",
       "27530          NaN          NaN          NaN          NaN          NaN   \n",
       "38499          NaN          NaN          NaN          NaN          NaN   \n",
       "11477          NaN          NaN          NaN          NaN          NaN   \n",
       "\n",
       "      Unnamed: 460 Unnamed: 461 Unnamed: 462 Unnamed: 463 Unnamed: 464  \n",
       "16769          NaN          NaN          NaN          NaN          NaN  \n",
       "7018           NaN          NaN          NaN          NaN          NaN  \n",
       "27530          NaN          NaN          NaN          NaN          NaN  \n",
       "38499          NaN          NaN          NaN          NaN          NaN  \n",
       "11477          NaN          NaN          NaN          NaN          NaN  \n",
       "\n",
       "[5 rows x 465 columns]"
      ]
     },
     "execution_count": 2,
     "metadata": {},
     "output_type": "execute_result"
    }
   ],
   "source": [
    "%%time\n",
    "#df_raw = pd.read_excel(\"local_data/raw_data_cms_3_teste_source.xlsx\", \"raw_data_cms_2\")\n",
    "df_raw = pd.read_csv(\n",
    "    \"local_data/raw_data_cms_3_teste_cleaned.csv\", \n",
    "    dtype={\n",
    "        'amigo contextualizada':str, \n",
    "        'atalhos':str,\n",
    "        'intencao contextualizada':str,\n",
    "        'relacionamentos':str,\n",
    "        'texto_botao_contextualizada':str,\n",
    "        'titulo_atalhos':str\n",
    "    }\n",
    ")\n",
    "print(f\"Raw shape: {df_raw.shape}\")\n",
    "print(\"Raw sample:\")\n",
    "df_raw.sample(5)"
   ]
  },
  {
   "cell_type": "markdown",
   "id": "e58e6cf0-7b04-41d4-8ab5-e84568425118",
   "metadata": {},
   "source": [
    "# Applying Known Filters\n",
    "* **Assunto:** benefícios\n",
    "* **Producto:** Cartão de Crédito\n",
    "* **Tags**: Is not *rascunho*"
   ]
  },
  {
   "cell_type": "code",
   "execution_count": 3,
   "id": "e80fa16a-3a1d-40b4-a74e-57544e958ad5",
   "metadata": {},
   "outputs": [
    {
     "name": "stdout",
     "output_type": "stream",
     "text": [
      "(661, 465)\n"
     ]
    }
   ],
   "source": [
    "df_raw = df_raw[df_raw['assunto'] == 'benefícios']\n",
    "df_raw = df_raw[df_raw['produto'] == 'Cartão de Crédito']\n",
    "df_raw = df_raw[df_raw['tags'] != \"['rascunho']\"]\n",
    "print(df_raw.shape)"
   ]
  },
  {
   "cell_type": "code",
   "execution_count": 4,
   "id": "5f81784d-2ac0-4d5a-bd1b-f9998d4a471a",
   "metadata": {},
   "outputs": [],
   "source": [
    "columns = df_raw.columns[:35]"
   ]
  },
  {
   "cell_type": "code",
   "execution_count": 5,
   "id": "2c9fc323-3f5c-47df-b4d8-925ee760edee",
   "metadata": {},
   "outputs": [],
   "source": [
    "col_idx = 0"
   ]
  },
  {
   "cell_type": "code",
   "execution_count": 6,
   "id": "23cb50c2-5b38-41ff-96f6-8f5e276c33d5",
   "metadata": {},
   "outputs": [
    {
     "data": {
      "text/markdown": [
       "# Analysis Column 0: id"
      ],
      "text/plain": [
       "<IPython.core.display.Markdown object>"
      ]
     },
     "metadata": {},
     "output_type": "display_data"
    }
   ],
   "source": [
    "col_nm = df_raw.columns[col_idx]\n",
    "display(Markdown(f\"# Analysis Column {col_idx}: {col_nm}\"))\n",
    "col_idx += 1"
   ]
  },
  {
   "cell_type": "code",
   "execution_count": 7,
   "id": "6a5330c6-a1df-4162-ae97-bd544ab7d086",
   "metadata": {},
   "outputs": [
    {
     "name": "stdout",
     "output_type": "stream",
     "text": [
      "Values of column id that are not numeric and occurs only once\n",
      "Empty DataFrame\n",
      "Columns: [id, count]\n",
      "Index: []\n",
      "\n",
      "Indexes and values of column id that are not numeric\n",
      "Errors found: 0\n"
     ]
    },
    {
     "data": {
      "text/plain": [
       "Series([], Name: id, dtype: int64)"
      ]
     },
     "execution_count": 7,
     "metadata": {},
     "output_type": "execute_result"
    }
   ],
   "source": [
    "df_col_freq = pd.DataFrame(df_raw[col_nm].value_counts()).reset_index()\n",
    "#df_col_freq[df_col_freq['count']>1]\n",
    "print(f\"Values of column {col_nm} that are not numeric and occurs only once\")\n",
    "print(df_col_freq[(df_col_freq['count']==1)&(~df_col_freq[col_nm].astype(str).str.isnumeric())])\n",
    "print()\n",
    "print(f\"Indexes and values of column {col_nm} that are not numeric\")\n",
    "df_err = df_raw.loc[~df_raw[col_nm].astype(str).str.isnumeric(),col_nm]\n",
    "print(f\"Errors found: {df_err.shape[0]}\")\n",
    "df_err"
   ]
  },
  {
   "cell_type": "markdown",
   "id": "396eefbc-6111-4f65-b21b-6f6065ce8ece",
   "metadata": {},
   "source": [
    "## Example of an error in column 1\n",
    "\n",
    "![](local_data/data_quality_issues.png \"Example of data quality issues\")"
   ]
  },
  {
   "cell_type": "code",
   "execution_count": 8,
   "id": "276e20a0-d4fc-4ad9-86ab-b9856648f16d",
   "metadata": {},
   "outputs": [
    {
     "data": {
      "text/markdown": [
       "# Analysis Column 1: amigo contextualizada"
      ],
      "text/plain": [
       "<IPython.core.display.Markdown object>"
      ]
     },
     "metadata": {},
     "output_type": "display_data"
    }
   ],
   "source": [
    "col_nm = df_raw.columns[col_idx]\n",
    "display(Markdown(f\"# Analysis Column {col_idx}: {col_nm}\"))\n",
    "col_idx += 1"
   ]
  },
  {
   "cell_type": "code",
   "execution_count": 9,
   "id": "6d041d2d-80a0-4b2e-aefe-0d607f35c20a",
   "metadata": {},
   "outputs": [
    {
     "data": {
      "text/markdown": [
       "## Percentage of nulls 100.00%"
      ],
      "text/plain": [
       "<IPython.core.display.Markdown object>"
      ]
     },
     "metadata": {},
     "output_type": "display_data"
    },
    {
     "data": {
      "text/html": [
       "<div>\n",
       "<style scoped>\n",
       "    .dataframe tbody tr th:only-of-type {\n",
       "        vertical-align: middle;\n",
       "    }\n",
       "\n",
       "    .dataframe tbody tr th {\n",
       "        vertical-align: top;\n",
       "    }\n",
       "\n",
       "    .dataframe thead th {\n",
       "        text-align: right;\n",
       "    }\n",
       "</style>\n",
       "<table border=\"1\" class=\"dataframe\">\n",
       "  <thead>\n",
       "    <tr style=\"text-align: right;\">\n",
       "      <th></th>\n",
       "      <th>amigo contextualizada</th>\n",
       "      <th>count</th>\n",
       "    </tr>\n",
       "  </thead>\n",
       "  <tbody>\n",
       "  </tbody>\n",
       "</table>\n",
       "</div>"
      ],
      "text/plain": [
       "Empty DataFrame\n",
       "Columns: [amigo contextualizada, count]\n",
       "Index: []"
      ]
     },
     "execution_count": 9,
     "metadata": {},
     "output_type": "execute_result"
    }
   ],
   "source": [
    "null_pct = df_raw[df_raw[col_nm].isna()].shape[0]/df_raw.shape[0]\n",
    "display(Markdown(f\"## Percentage of nulls {null_pct:.2%}\"))\n",
    "pd.DataFrame(df_raw[col_nm].value_counts()).reset_index()"
   ]
  },
  {
   "cell_type": "code",
   "execution_count": 10,
   "id": "3791aa38-254c-4eb1-a212-442d6b93c625",
   "metadata": {},
   "outputs": [
    {
     "data": {
      "text/markdown": [
       "# Analysis Column 2: assunto"
      ],
      "text/plain": [
       "<IPython.core.display.Markdown object>"
      ]
     },
     "metadata": {},
     "output_type": "display_data"
    }
   ],
   "source": [
    "col_nm = df_raw.columns[col_idx]\n",
    "display(Markdown(f\"# Analysis Column {col_idx}: {col_nm}\"))\n",
    "col_idx += 1"
   ]
  },
  {
   "cell_type": "code",
   "execution_count": 11,
   "id": "6a4f39f9-9b39-46df-b70e-e51c798cd686",
   "metadata": {},
   "outputs": [
    {
     "data": {
      "text/markdown": [
       "## Percentage of nulls 0.00%"
      ],
      "text/plain": [
       "<IPython.core.display.Markdown object>"
      ]
     },
     "metadata": {},
     "output_type": "display_data"
    },
    {
     "data": {
      "text/html": [
       "<div>\n",
       "<style scoped>\n",
       "    .dataframe tbody tr th:only-of-type {\n",
       "        vertical-align: middle;\n",
       "    }\n",
       "\n",
       "    .dataframe tbody tr th {\n",
       "        vertical-align: top;\n",
       "    }\n",
       "\n",
       "    .dataframe thead th {\n",
       "        text-align: right;\n",
       "    }\n",
       "</style>\n",
       "<table border=\"1\" class=\"dataframe\">\n",
       "  <thead>\n",
       "    <tr style=\"text-align: right;\">\n",
       "      <th></th>\n",
       "      <th>assunto</th>\n",
       "      <th>count</th>\n",
       "    </tr>\n",
       "  </thead>\n",
       "  <tbody>\n",
       "    <tr>\n",
       "      <th>0</th>\n",
       "      <td>benefícios</td>\n",
       "      <td>661</td>\n",
       "    </tr>\n",
       "  </tbody>\n",
       "</table>\n",
       "</div>"
      ],
      "text/plain": [
       "      assunto  count\n",
       "0  benefícios    661"
      ]
     },
     "execution_count": 11,
     "metadata": {},
     "output_type": "execute_result"
    }
   ],
   "source": [
    "null_pct = df_raw[df_raw[col_nm].isna()].shape[0]/df_raw.shape[0]\n",
    "display(Markdown(f\"## Percentage of nulls {null_pct:.2%}\"))\n",
    "pd.DataFrame(df_raw[col_nm].value_counts()).reset_index()\n"
   ]
  },
  {
   "cell_type": "markdown",
   "id": "b788bcd5-8f0e-4bf7-92fd-589f15ef4d36",
   "metadata": {},
   "source": [
    "## Highlights\n",
    "* Can we use `assunto` to filter all the QnA related to *Cartâo da crédito*? DONE!"
   ]
  },
  {
   "cell_type": "code",
   "execution_count": 12,
   "id": "df034e82-012e-4f8d-8656-0f467de2f237",
   "metadata": {},
   "outputs": [
    {
     "data": {
      "text/markdown": [
       "# Analysis Column 3: atalhos"
      ],
      "text/plain": [
       "<IPython.core.display.Markdown object>"
      ]
     },
     "metadata": {},
     "output_type": "display_data"
    }
   ],
   "source": [
    "col_nm = df_raw.columns[col_idx]\n",
    "display(Markdown(f\"# Analysis Column {col_idx}: {col_nm}\"))\n",
    "col_idx += 1"
   ]
  },
  {
   "cell_type": "code",
   "execution_count": 13,
   "id": "f2754b1a-096a-4ff5-a4b9-272fc794bc32",
   "metadata": {},
   "outputs": [
    {
     "data": {
      "text/markdown": [
       "## Percentage of nulls 0.00%"
      ],
      "text/plain": [
       "<IPython.core.display.Markdown object>"
      ]
     },
     "metadata": {},
     "output_type": "display_data"
    },
    {
     "data": {
      "text/html": [
       "<div>\n",
       "<style scoped>\n",
       "    .dataframe tbody tr th:only-of-type {\n",
       "        vertical-align: middle;\n",
       "    }\n",
       "\n",
       "    .dataframe tbody tr th {\n",
       "        vertical-align: top;\n",
       "    }\n",
       "\n",
       "    .dataframe thead th {\n",
       "        text-align: right;\n",
       "    }\n",
       "</style>\n",
       "<table border=\"1\" class=\"dataframe\">\n",
       "  <thead>\n",
       "    <tr style=\"text-align: right;\">\n",
       "      <th></th>\n",
       "      <th>count</th>\n",
       "    </tr>\n",
       "    <tr>\n",
       "      <th>atalhos</th>\n",
       "      <th></th>\n",
       "    </tr>\n",
       "  </thead>\n",
       "  <tbody>\n",
       "    <tr>\n",
       "      <th>[]</th>\n",
       "      <td>661</td>\n",
       "    </tr>\n",
       "  </tbody>\n",
       "</table>\n",
       "</div>"
      ],
      "text/plain": [
       "         count\n",
       "atalhos       \n",
       "[]         661"
      ]
     },
     "execution_count": 13,
     "metadata": {},
     "output_type": "execute_result"
    }
   ],
   "source": [
    "null_pct = df_raw[df_raw[col_nm].isna()].shape[0]/df_raw.shape[0]\n",
    "display(Markdown(f\"## Percentage of nulls {null_pct:.2%}\"))\n",
    "pd.DataFrame(df_raw[col_nm].value_counts())"
   ]
  },
  {
   "cell_type": "code",
   "execution_count": 14,
   "id": "2392bc47-6a53-46ef-a56d-0620b7c6aafc",
   "metadata": {},
   "outputs": [
    {
     "data": {
      "text/markdown": [
       "# Analysis Column 4: canal"
      ],
      "text/plain": [
       "<IPython.core.display.Markdown object>"
      ]
     },
     "metadata": {},
     "output_type": "display_data"
    }
   ],
   "source": [
    "col_nm = df_raw.columns[col_idx]\n",
    "display(Markdown(f\"# Analysis Column {col_idx}: {col_nm}\"))\n",
    "col_idx += 1"
   ]
  },
  {
   "cell_type": "code",
   "execution_count": 15,
   "id": "10395a5f-02bd-4018-8779-18d0d70dc5cf",
   "metadata": {},
   "outputs": [
    {
     "data": {
      "text/markdown": [
       "## Percentage of nulls 100.00%"
      ],
      "text/plain": [
       "<IPython.core.display.Markdown object>"
      ]
     },
     "metadata": {},
     "output_type": "display_data"
    },
    {
     "data": {
      "text/html": [
       "<div>\n",
       "<style scoped>\n",
       "    .dataframe tbody tr th:only-of-type {\n",
       "        vertical-align: middle;\n",
       "    }\n",
       "\n",
       "    .dataframe tbody tr th {\n",
       "        vertical-align: top;\n",
       "    }\n",
       "\n",
       "    .dataframe thead th {\n",
       "        text-align: right;\n",
       "    }\n",
       "</style>\n",
       "<table border=\"1\" class=\"dataframe\">\n",
       "  <thead>\n",
       "    <tr style=\"text-align: right;\">\n",
       "      <th></th>\n",
       "      <th>count</th>\n",
       "    </tr>\n",
       "    <tr>\n",
       "      <th>canal</th>\n",
       "      <th></th>\n",
       "    </tr>\n",
       "  </thead>\n",
       "  <tbody>\n",
       "  </tbody>\n",
       "</table>\n",
       "</div>"
      ],
      "text/plain": [
       "Empty DataFrame\n",
       "Columns: [count]\n",
       "Index: []"
      ]
     },
     "execution_count": 15,
     "metadata": {},
     "output_type": "execute_result"
    }
   ],
   "source": [
    "null_pct = df_raw[df_raw[col_nm].isna()].shape[0]/df_raw.shape[0]\n",
    "display(Markdown(f\"## Percentage of nulls {null_pct:.2%}\"))\n",
    "pd.DataFrame(df_raw[col_nm].value_counts())"
   ]
  },
  {
   "cell_type": "code",
   "execution_count": 16,
   "id": "9bdc41dd-4000-453a-accf-24aab576da71",
   "metadata": {},
   "outputs": [
    {
     "data": {
      "text/markdown": [
       "# Analysis Column 5: chave"
      ],
      "text/plain": [
       "<IPython.core.display.Markdown object>"
      ]
     },
     "metadata": {},
     "output_type": "display_data"
    }
   ],
   "source": [
    "col_nm = df_raw.columns[col_idx]\n",
    "display(Markdown(f\"# Analysis Column {col_idx}: {col_nm}\"))\n",
    "col_idx += 1"
   ]
  },
  {
   "cell_type": "code",
   "execution_count": 17,
   "id": "1c32427b-12eb-43e8-8827-14d83cdad381",
   "metadata": {},
   "outputs": [
    {
     "data": {
      "text/markdown": [
       "## Percentage of nulls 100.00%"
      ],
      "text/plain": [
       "<IPython.core.display.Markdown object>"
      ]
     },
     "metadata": {},
     "output_type": "display_data"
    },
    {
     "data": {
      "text/html": [
       "<div>\n",
       "<style scoped>\n",
       "    .dataframe tbody tr th:only-of-type {\n",
       "        vertical-align: middle;\n",
       "    }\n",
       "\n",
       "    .dataframe tbody tr th {\n",
       "        vertical-align: top;\n",
       "    }\n",
       "\n",
       "    .dataframe thead th {\n",
       "        text-align: right;\n",
       "    }\n",
       "</style>\n",
       "<table border=\"1\" class=\"dataframe\">\n",
       "  <thead>\n",
       "    <tr style=\"text-align: right;\">\n",
       "      <th></th>\n",
       "      <th>count</th>\n",
       "    </tr>\n",
       "    <tr>\n",
       "      <th>chave</th>\n",
       "      <th></th>\n",
       "    </tr>\n",
       "  </thead>\n",
       "  <tbody>\n",
       "  </tbody>\n",
       "</table>\n",
       "</div>"
      ],
      "text/plain": [
       "Empty DataFrame\n",
       "Columns: [count]\n",
       "Index: []"
      ]
     },
     "execution_count": 17,
     "metadata": {},
     "output_type": "execute_result"
    }
   ],
   "source": [
    "null_pct = df_raw[df_raw[col_nm].isna()].shape[0]/df_raw.shape[0]\n",
    "display(Markdown(f\"## Percentage of nulls {null_pct:.2%}\"))\n",
    "pd.DataFrame(df_raw[col_nm].value_counts())"
   ]
  },
  {
   "cell_type": "code",
   "execution_count": 18,
   "id": "abc2f6fd-e11e-4fb9-8ae0-8cde330ba3a7",
   "metadata": {},
   "outputs": [
    {
     "data": {
      "text/markdown": [
       "# Analysis Column 6: created_at"
      ],
      "text/plain": [
       "<IPython.core.display.Markdown object>"
      ]
     },
     "metadata": {},
     "output_type": "display_data"
    }
   ],
   "source": [
    "col_nm = df_raw.columns[col_idx]\n",
    "display(Markdown(f\"# Analysis Column {col_idx}: {col_nm}\"))\n",
    "col_idx += 1"
   ]
  },
  {
   "cell_type": "code",
   "execution_count": 19,
   "id": "94d880ee-b648-4589-a72d-d2c7e3892529",
   "metadata": {},
   "outputs": [
    {
     "data": {
      "text/markdown": [
       "## Percentage of nulls 0.00%"
      ],
      "text/plain": [
       "<IPython.core.display.Markdown object>"
      ]
     },
     "metadata": {},
     "output_type": "display_data"
    },
    {
     "data": {
      "image/png": "[encoded data removed]",
      "text/plain": [
       "<Figure size 640x480 with 1 Axes>"
      ]
     },
     "metadata": {},
     "output_type": "display_data"
    }
   ],
   "source": [
    "null_pct = df_raw[df_raw[col_nm].isna()].shape[0]/df_raw.shape[0]\n",
    "display(Markdown(f\"## Percentage of nulls {null_pct:.2%}\"))\n",
    "df_time_freq = pd.DataFrame(df_raw[col_nm].value_counts()).reset_index()\n",
    "df_time_freq['date'] = pd.to_datetime(df_time_freq[col_nm].str[:10]).dt.date\n",
    "df_date_freq = df_time_freq.groupby('date').sum('count')\n",
    "#plt.figure(figsize=(15,5))\n",
    "plt.plot(df_date_freq)\n",
    "plt.xticks(rotation=90)\n",
    "pass"
   ]
  },
  {
   "cell_type": "code",
   "execution_count": 20,
   "id": "3f097798-8af4-4c9d-b710-3def5c688438",
   "metadata": {},
   "outputs": [
    {
     "data": {
      "text/markdown": [
       "# Analysis Column 7: created_by"
      ],
      "text/plain": [
       "<IPython.core.display.Markdown object>"
      ]
     },
     "metadata": {},
     "output_type": "display_data"
    }
   ],
   "source": [
    "col_nm = df_raw.columns[col_idx]\n",
    "display(Markdown(f\"# Analysis Column {col_idx}: {col_nm}\"))\n",
    "col_idx += 1"
   ]
  },
  {
   "cell_type": "code",
   "execution_count": 21,
   "id": "94e99e10-524a-4acf-bb2f-91efdbcd636e",
   "metadata": {},
   "outputs": [
    {
     "data": {
      "text/markdown": [
       "## Percentage of nulls 0.00%"
      ],
      "text/plain": [
       "<IPython.core.display.Markdown object>"
      ]
     },
     "metadata": {},
     "output_type": "display_data"
    },
    {
     "data": {
      "text/html": [
       "<div>\n",
       "<style scoped>\n",
       "    .dataframe tbody tr th:only-of-type {\n",
       "        vertical-align: middle;\n",
       "    }\n",
       "\n",
       "    .dataframe tbody tr th {\n",
       "        vertical-align: top;\n",
       "    }\n",
       "\n",
       "    .dataframe thead th {\n",
       "        text-align: right;\n",
       "    }\n",
       "</style>\n",
       "<table border=\"1\" class=\"dataframe\">\n",
       "  <thead>\n",
       "    <tr style=\"text-align: right;\">\n",
       "      <th></th>\n",
       "      <th>count</th>\n",
       "    </tr>\n",
       "    <tr>\n",
       "      <th>created_by</th>\n",
       "      <th></th>\n",
       "    </tr>\n",
       "  </thead>\n",
       "  <tbody>\n",
       "    <tr>\n",
       "      <th>blta65848e67b47489f</th>\n",
       "      <td>370</td>\n",
       "    </tr>\n",
       "    <tr>\n",
       "      <th>blt882749c0616d51f4</th>\n",
       "      <td>291</td>\n",
       "    </tr>\n",
       "  </tbody>\n",
       "</table>\n",
       "</div>"
      ],
      "text/plain": [
       "                     count\n",
       "created_by                \n",
       "blta65848e67b47489f    370\n",
       "blt882749c0616d51f4    291"
      ]
     },
     "execution_count": 21,
     "metadata": {},
     "output_type": "execute_result"
    }
   ],
   "source": [
    "null_pct = df_raw[df_raw[col_nm].isna()].shape[0]/df_raw.shape[0]\n",
    "display(Markdown(f\"## Percentage of nulls {null_pct:.2%}\"))\n",
    "pd.DataFrame(df_raw[col_nm].value_counts())"
   ]
  },
  {
   "cell_type": "code",
   "execution_count": 22,
   "id": "733e7994-26e0-42f3-9aeb-c0a384d866af",
   "metadata": {},
   "outputs": [
    {
     "data": {
      "text/markdown": [
       "# Analysis Column 8: faqs relacionadas"
      ],
      "text/plain": [
       "<IPython.core.display.Markdown object>"
      ]
     },
     "metadata": {},
     "output_type": "display_data"
    }
   ],
   "source": [
    "col_nm = df_raw.columns[col_idx]\n",
    "display(Markdown(f\"# Analysis Column {col_idx}: {col_nm}\"))\n",
    "col_idx += 1"
   ]
  },
  {
   "cell_type": "code",
   "execution_count": 23,
   "id": "dc8124a4-1f94-448a-b638-1c3ed9b97a9e",
   "metadata": {},
   "outputs": [
    {
     "data": {
      "text/markdown": [
       "## Percentage of nulls 0.00%"
      ],
      "text/plain": [
       "<IPython.core.display.Markdown object>"
      ]
     },
     "metadata": {},
     "output_type": "display_data"
    },
    {
     "data": {
      "text/html": [
       "<div>\n",
       "<style scoped>\n",
       "    .dataframe tbody tr th:only-of-type {\n",
       "        vertical-align: middle;\n",
       "    }\n",
       "\n",
       "    .dataframe tbody tr th {\n",
       "        vertical-align: top;\n",
       "    }\n",
       "\n",
       "    .dataframe thead th {\n",
       "        text-align: right;\n",
       "    }\n",
       "</style>\n",
       "<table border=\"1\" class=\"dataframe\">\n",
       "  <thead>\n",
       "    <tr style=\"text-align: right;\">\n",
       "      <th></th>\n",
       "      <th>count</th>\n",
       "    </tr>\n",
       "    <tr>\n",
       "      <th>faqs relacionadas</th>\n",
       "      <th></th>\n",
       "    </tr>\n",
       "  </thead>\n",
       "  <tbody>\n",
       "    <tr>\n",
       "      <th>[]</th>\n",
       "      <td>661</td>\n",
       "    </tr>\n",
       "  </tbody>\n",
       "</table>\n",
       "</div>"
      ],
      "text/plain": [
       "                   count\n",
       "faqs relacionadas       \n",
       "[]                   661"
      ]
     },
     "execution_count": 23,
     "metadata": {},
     "output_type": "execute_result"
    }
   ],
   "source": [
    "null_pct = df_raw[df_raw[col_nm].isna()].shape[0]/df_raw.shape[0]\n",
    "display(Markdown(f\"## Percentage of nulls {null_pct:.2%}\"))\n",
    "pd.DataFrame(df_raw[col_nm].value_counts())"
   ]
  },
  {
   "cell_type": "code",
   "execution_count": 24,
   "id": "16193c9f-707e-42cc-8a70-1e658d184b59",
   "metadata": {},
   "outputs": [
    {
     "data": {
      "text/markdown": [
       "# Analysis Column 9: id vignette"
      ],
      "text/plain": [
       "<IPython.core.display.Markdown object>"
      ]
     },
     "metadata": {},
     "output_type": "display_data"
    }
   ],
   "source": [
    "col_nm = df_raw.columns[col_idx]\n",
    "display(Markdown(f\"# Analysis Column {col_idx}: {col_nm}\"))\n",
    "col_idx += 1"
   ]
  },
  {
   "cell_type": "code",
   "execution_count": 25,
   "id": "8ad4fa2d-5727-4a60-aac3-c133d67d1cc2",
   "metadata": {},
   "outputs": [
    {
     "data": {
      "text/markdown": [
       "## Percentage of nulls 100.00%"
      ],
      "text/plain": [
       "<IPython.core.display.Markdown object>"
      ]
     },
     "metadata": {},
     "output_type": "display_data"
    },
    {
     "data": {
      "text/html": [
       "<div>\n",
       "<style scoped>\n",
       "    .dataframe tbody tr th:only-of-type {\n",
       "        vertical-align: middle;\n",
       "    }\n",
       "\n",
       "    .dataframe tbody tr th {\n",
       "        vertical-align: top;\n",
       "    }\n",
       "\n",
       "    .dataframe thead th {\n",
       "        text-align: right;\n",
       "    }\n",
       "</style>\n",
       "<table border=\"1\" class=\"dataframe\">\n",
       "  <thead>\n",
       "    <tr style=\"text-align: right;\">\n",
       "      <th></th>\n",
       "      <th>count</th>\n",
       "    </tr>\n",
       "    <tr>\n",
       "      <th>id vignette</th>\n",
       "      <th></th>\n",
       "    </tr>\n",
       "  </thead>\n",
       "  <tbody>\n",
       "  </tbody>\n",
       "</table>\n",
       "</div>"
      ],
      "text/plain": [
       "Empty DataFrame\n",
       "Columns: [count]\n",
       "Index: []"
      ]
     },
     "execution_count": 25,
     "metadata": {},
     "output_type": "execute_result"
    }
   ],
   "source": [
    "null_pct = df_raw[df_raw[col_nm].isna()].shape[0]/df_raw.shape[0]\n",
    "display(Markdown(f\"## Percentage of nulls {null_pct:.2%}\"))\n",
    "pd.DataFrame(df_raw[col_nm].value_counts())"
   ]
  },
  {
   "cell_type": "code",
   "execution_count": 26,
   "id": "dc5e78bc-e859-4643-84d5-05b267c72202",
   "metadata": {},
   "outputs": [
    {
     "data": {
      "text/markdown": [
       "# Analysis Column 10: intencao contextualizada"
      ],
      "text/plain": [
       "<IPython.core.display.Markdown object>"
      ]
     },
     "metadata": {},
     "output_type": "display_data"
    }
   ],
   "source": [
    "col_nm = df_raw.columns[col_idx]\n",
    "display(Markdown(f\"# Analysis Column {col_idx}: {col_nm}\"))\n",
    "col_idx += 1"
   ]
  },
  {
   "cell_type": "code",
   "execution_count": 27,
   "id": "cce824a4-5466-4ebf-a152-d5f134f860d0",
   "metadata": {},
   "outputs": [
    {
     "data": {
      "text/markdown": [
       "## Percentage of nulls 100.00%"
      ],
      "text/plain": [
       "<IPython.core.display.Markdown object>"
      ]
     },
     "metadata": {},
     "output_type": "display_data"
    },
    {
     "data": {
      "text/html": [
       "<div>\n",
       "<style scoped>\n",
       "    .dataframe tbody tr th:only-of-type {\n",
       "        vertical-align: middle;\n",
       "    }\n",
       "\n",
       "    .dataframe tbody tr th {\n",
       "        vertical-align: top;\n",
       "    }\n",
       "\n",
       "    .dataframe thead th {\n",
       "        text-align: right;\n",
       "    }\n",
       "</style>\n",
       "<table border=\"1\" class=\"dataframe\">\n",
       "  <thead>\n",
       "    <tr style=\"text-align: right;\">\n",
       "      <th></th>\n",
       "      <th>count</th>\n",
       "    </tr>\n",
       "    <tr>\n",
       "      <th>intencao contextualizada</th>\n",
       "      <th></th>\n",
       "    </tr>\n",
       "  </thead>\n",
       "  <tbody>\n",
       "  </tbody>\n",
       "</table>\n",
       "</div>"
      ],
      "text/plain": [
       "Empty DataFrame\n",
       "Columns: [count]\n",
       "Index: []"
      ]
     },
     "execution_count": 27,
     "metadata": {},
     "output_type": "execute_result"
    }
   ],
   "source": [
    "null_pct = df_raw[df_raw[col_nm].isna()].shape[0]/df_raw.shape[0]\n",
    "display(Markdown(f\"## Percentage of nulls {null_pct:.2%}\"))\n",
    "pd.DataFrame(df_raw[col_nm].value_counts())"
   ]
  },
  {
   "cell_type": "code",
   "execution_count": 28,
   "id": "b573a357-77cc-4a25-8f76-689edb1c4b3e",
   "metadata": {},
   "outputs": [
    {
     "data": {
      "text/markdown": [
       "# Analysis Column 11: menus"
      ],
      "text/plain": [
       "<IPython.core.display.Markdown object>"
      ]
     },
     "metadata": {},
     "output_type": "display_data"
    }
   ],
   "source": [
    "col_nm = df_raw.columns[col_idx]\n",
    "display(Markdown(f\"# Analysis Column {col_idx}: {col_nm}\"))\n",
    "col_idx += 1"
   ]
  },
  {
   "cell_type": "code",
   "execution_count": 29,
   "id": "c925647f-8ce3-44da-955b-c33cc7bcff0d",
   "metadata": {},
   "outputs": [
    {
     "data": {
      "text/markdown": [
       "## Percentage of nulls 100.00%"
      ],
      "text/plain": [
       "<IPython.core.display.Markdown object>"
      ]
     },
     "metadata": {},
     "output_type": "display_data"
    },
    {
     "data": {
      "text/html": [
       "<div>\n",
       "<style scoped>\n",
       "    .dataframe tbody tr th:only-of-type {\n",
       "        vertical-align: middle;\n",
       "    }\n",
       "\n",
       "    .dataframe tbody tr th {\n",
       "        vertical-align: top;\n",
       "    }\n",
       "\n",
       "    .dataframe thead th {\n",
       "        text-align: right;\n",
       "    }\n",
       "</style>\n",
       "<table border=\"1\" class=\"dataframe\">\n",
       "  <thead>\n",
       "    <tr style=\"text-align: right;\">\n",
       "      <th></th>\n",
       "      <th>count</th>\n",
       "    </tr>\n",
       "    <tr>\n",
       "      <th>menus</th>\n",
       "      <th></th>\n",
       "    </tr>\n",
       "  </thead>\n",
       "  <tbody>\n",
       "  </tbody>\n",
       "</table>\n",
       "</div>"
      ],
      "text/plain": [
       "Empty DataFrame\n",
       "Columns: [count]\n",
       "Index: []"
      ]
     },
     "execution_count": 29,
     "metadata": {},
     "output_type": "execute_result"
    }
   ],
   "source": [
    "null_pct = df_raw[df_raw[col_nm].isna()].shape[0]/df_raw.shape[0]\n",
    "display(Markdown(f\"## Percentage of nulls {null_pct:.2%}\"))\n",
    "pd.DataFrame(df_raw[col_nm].value_counts())"
   ]
  },
  {
   "cell_type": "code",
   "execution_count": 30,
   "id": "7aecb1ea-ab8e-45cd-ad08-0ce20583bea6",
   "metadata": {},
   "outputs": [
    {
     "data": {
      "text/markdown": [
       "# Analysis Column 12: palavras chave"
      ],
      "text/plain": [
       "<IPython.core.display.Markdown object>"
      ]
     },
     "metadata": {},
     "output_type": "display_data"
    }
   ],
   "source": [
    "col_nm = df_raw.columns[col_idx]\n",
    "display(Markdown(f\"# Analysis Column {col_idx}: {col_nm}\"))\n",
    "col_idx += 1"
   ]
  },
  {
   "cell_type": "code",
   "execution_count": 31,
   "id": "6959d8f9-9c2c-41d4-a1c5-a77b2492618d",
   "metadata": {},
   "outputs": [
    {
     "data": {
      "text/markdown": [
       "## Percentage of nulls 100.00%"
      ],
      "text/plain": [
       "<IPython.core.display.Markdown object>"
      ]
     },
     "metadata": {},
     "output_type": "display_data"
    },
    {
     "data": {
      "text/html": [
       "<div>\n",
       "<style scoped>\n",
       "    .dataframe tbody tr th:only-of-type {\n",
       "        vertical-align: middle;\n",
       "    }\n",
       "\n",
       "    .dataframe tbody tr th {\n",
       "        vertical-align: top;\n",
       "    }\n",
       "\n",
       "    .dataframe thead th {\n",
       "        text-align: right;\n",
       "    }\n",
       "</style>\n",
       "<table border=\"1\" class=\"dataframe\">\n",
       "  <thead>\n",
       "    <tr style=\"text-align: right;\">\n",
       "      <th></th>\n",
       "      <th>count</th>\n",
       "    </tr>\n",
       "    <tr>\n",
       "      <th>palavras chave</th>\n",
       "      <th></th>\n",
       "    </tr>\n",
       "  </thead>\n",
       "  <tbody>\n",
       "  </tbody>\n",
       "</table>\n",
       "</div>"
      ],
      "text/plain": [
       "Empty DataFrame\n",
       "Columns: [count]\n",
       "Index: []"
      ]
     },
     "execution_count": 31,
     "metadata": {},
     "output_type": "execute_result"
    }
   ],
   "source": [
    "null_pct = df_raw[df_raw[col_nm].isna()].shape[0]/df_raw.shape[0]\n",
    "display(Markdown(f\"## Percentage of nulls {null_pct:.2%}\"))\n",
    "pd.DataFrame(df_raw[col_nm].value_counts())"
   ]
  },
  {
   "cell_type": "code",
   "execution_count": 32,
   "id": "0c7d6e4b-5d9f-4f25-b70a-9b1d60b0858f",
   "metadata": {},
   "outputs": [
    {
     "data": {
      "text/markdown": [
       "# Analysis Column 13: pergunta"
      ],
      "text/plain": [
       "<IPython.core.display.Markdown object>"
      ]
     },
     "metadata": {},
     "output_type": "display_data"
    }
   ],
   "source": [
    "col_nm = df_raw.columns[col_idx]\n",
    "display(Markdown(f\"# Analysis Column {col_idx}: {col_nm}\"))\n",
    "col_idx += 1"
   ]
  },
  {
   "cell_type": "code",
   "execution_count": 33,
   "id": "43f2012a-e9ac-4f33-915b-06afefa80c19",
   "metadata": {},
   "outputs": [
    {
     "data": {
      "text/markdown": [
       "## Percentage of nulls 0.00%"
      ],
      "text/plain": [
       "<IPython.core.display.Markdown object>"
      ]
     },
     "metadata": {},
     "output_type": "display_data"
    },
    {
     "name": "stdout",
     "output_type": "stream",
     "text": [
      "Max len: 84\n"
     ]
    },
    {
     "data": {
      "text/html": [
       "<div>\n",
       "<style scoped>\n",
       "    .dataframe tbody tr th:only-of-type {\n",
       "        vertical-align: middle;\n",
       "    }\n",
       "\n",
       "    .dataframe tbody tr th {\n",
       "        vertical-align: top;\n",
       "    }\n",
       "\n",
       "    .dataframe thead th {\n",
       "        text-align: right;\n",
       "    }\n",
       "</style>\n",
       "<table border=\"1\" class=\"dataframe\">\n",
       "  <thead>\n",
       "    <tr style=\"text-align: right;\">\n",
       "      <th></th>\n",
       "      <th>pergunta</th>\n",
       "      <th>count</th>\n",
       "      <th>len</th>\n",
       "    </tr>\n",
       "  </thead>\n",
       "  <tbody>\n",
       "    <tr>\n",
       "      <th>0</th>\n",
       "      <td>Quais os benefícios dos cartões Click?</td>\n",
       "      <td>16</td>\n",
       "      <td>38</td>\n",
       "    </tr>\n",
       "    <tr>\n",
       "      <th>1</th>\n",
       "      <td>Player's Bank Platinum</td>\n",
       "      <td>16</td>\n",
       "      <td>22</td>\n",
       "    </tr>\n",
       "    <tr>\n",
       "      <th>2</th>\n",
       "      <td>Cartão Magalu Platinum (visa)</td>\n",
       "      <td>16</td>\n",
       "      <td>29</td>\n",
       "    </tr>\n",
       "    <tr>\n",
       "      <th>3</th>\n",
       "      <td>Decathlon Platinum</td>\n",
       "      <td>16</td>\n",
       "      <td>19</td>\n",
       "    </tr>\n",
       "    <tr>\n",
       "      <th>4</th>\n",
       "      <td>Samsung Platinum</td>\n",
       "      <td>16</td>\n",
       "      <td>16</td>\n",
       "    </tr>\n",
       "    <tr>\n",
       "      <th>...</th>\n",
       "      <td>...</td>\n",
       "      <td>...</td>\n",
       "      <td>...</td>\n",
       "    </tr>\n",
       "    <tr>\n",
       "      <th>77</th>\n",
       "      <td>Azul Gold (mastercard)</td>\n",
       "      <td>1</td>\n",
       "      <td>22</td>\n",
       "    </tr>\n",
       "    <tr>\n",
       "      <th>78</th>\n",
       "      <td>Azul Gold (visa)</td>\n",
       "      <td>1</td>\n",
       "      <td>16</td>\n",
       "    </tr>\n",
       "    <tr>\n",
       "      <th>79</th>\n",
       "      <td>TIM Platinum (visa)</td>\n",
       "      <td>1</td>\n",
       "      <td>19</td>\n",
       "    </tr>\n",
       "    <tr>\n",
       "      <th>80</th>\n",
       "      <td>Vivo Platinum (visa)</td>\n",
       "      <td>1</td>\n",
       "      <td>20</td>\n",
       "    </tr>\n",
       "    <tr>\n",
       "      <th>81</th>\n",
       "      <td>Vivo Platinum (mastercard)</td>\n",
       "      <td>1</td>\n",
       "      <td>26</td>\n",
       "    </tr>\n",
       "  </tbody>\n",
       "</table>\n",
       "<p>82 rows × 3 columns</p>\n",
       "</div>"
      ],
      "text/plain": [
       "                                  pergunta  count  len\n",
       "0   Quais os benefícios dos cartões Click?     16   38\n",
       "1                   Player's Bank Platinum     16   22\n",
       "2            Cartão Magalu Platinum (visa)     16   29\n",
       "3                      Decathlon Platinum      16   19\n",
       "4                         Samsung Platinum     16   16\n",
       "..                                     ...    ...  ...\n",
       "77                  Azul Gold (mastercard)      1   22\n",
       "78                        Azul Gold (visa)      1   16\n",
       "79                     TIM Platinum (visa)      1   19\n",
       "80                    Vivo Platinum (visa)      1   20\n",
       "81              Vivo Platinum (mastercard)      1   26\n",
       "\n",
       "[82 rows x 3 columns]"
      ]
     },
     "execution_count": 33,
     "metadata": {},
     "output_type": "execute_result"
    }
   ],
   "source": [
    "null_pct = df_raw[df_raw[col_nm].isna()].shape[0]/df_raw.shape[0]\n",
    "display(Markdown(f\"## Percentage of nulls {null_pct:.2%}\"))\n",
    "#pd.DataFrame(df_raw[col_nm].value_counts()).reset_index()\n",
    "df_values = pd.DataFrame(df_raw[col_nm].value_counts()).reset_index()\n",
    "df_values['len'] = df_values[col_nm].str.len()\n",
    "print(f\"Max len: {df_values['len'].max()}\")\n",
    "df_values"
   ]
  },
  {
   "cell_type": "code",
   "execution_count": 34,
   "id": "00740d61-1e92-49a9-9396-36f5199eb969",
   "metadata": {},
   "outputs": [
    {
     "data": {
      "text/markdown": [
       "# Analysis Column 14: pergunta chave"
      ],
      "text/plain": [
       "<IPython.core.display.Markdown object>"
      ]
     },
     "metadata": {},
     "output_type": "display_data"
    }
   ],
   "source": [
    "col_nm = df_raw.columns[col_idx]\n",
    "display(Markdown(f\"# Analysis Column {col_idx}: {col_nm}\"))\n",
    "col_idx += 1"
   ]
  },
  {
   "cell_type": "code",
   "execution_count": 35,
   "id": "df2e3a02-0a0b-4d7b-a121-d89bdea323f4",
   "metadata": {},
   "outputs": [
    {
     "data": {
      "text/markdown": [
       "## Percentage of nulls 100.00%"
      ],
      "text/plain": [
       "<IPython.core.display.Markdown object>"
      ]
     },
     "metadata": {},
     "output_type": "display_data"
    },
    {
     "data": {
      "text/html": [
       "<div>\n",
       "<style scoped>\n",
       "    .dataframe tbody tr th:only-of-type {\n",
       "        vertical-align: middle;\n",
       "    }\n",
       "\n",
       "    .dataframe tbody tr th {\n",
       "        vertical-align: top;\n",
       "    }\n",
       "\n",
       "    .dataframe thead th {\n",
       "        text-align: right;\n",
       "    }\n",
       "</style>\n",
       "<table border=\"1\" class=\"dataframe\">\n",
       "  <thead>\n",
       "    <tr style=\"text-align: right;\">\n",
       "      <th></th>\n",
       "      <th>pergunta chave</th>\n",
       "      <th>count</th>\n",
       "    </tr>\n",
       "  </thead>\n",
       "  <tbody>\n",
       "  </tbody>\n",
       "</table>\n",
       "</div>"
      ],
      "text/plain": [
       "Empty DataFrame\n",
       "Columns: [pergunta chave, count]\n",
       "Index: []"
      ]
     },
     "execution_count": 35,
     "metadata": {},
     "output_type": "execute_result"
    }
   ],
   "source": [
    "null_pct = df_raw[df_raw[col_nm].isna()].shape[0]/df_raw.shape[0]\n",
    "display(Markdown(f\"## Percentage of nulls {null_pct:.2%}\"))\n",
    "pd.DataFrame(df_raw[col_nm].value_counts()).reset_index()"
   ]
  },
  {
   "cell_type": "code",
   "execution_count": 36,
   "id": "8463a3a7-3b94-4a38-8899-b09e78ac69f8",
   "metadata": {},
   "outputs": [
    {
     "data": {
      "text/markdown": [
       "# Analysis Column 15: portal"
      ],
      "text/plain": [
       "<IPython.core.display.Markdown object>"
      ]
     },
     "metadata": {},
     "output_type": "display_data"
    }
   ],
   "source": [
    "col_nm = df_raw.columns[col_idx]\n",
    "display(Markdown(f\"# Analysis Column {col_idx}: {col_nm}\"))\n",
    "col_idx += 1"
   ]
  },
  {
   "cell_type": "code",
   "execution_count": 37,
   "id": "10949469-7d10-4eae-aeac-8cffde4e1b9f",
   "metadata": {},
   "outputs": [
    {
     "data": {
      "text/markdown": [
       "## Percentage of nulls 0.00%"
      ],
      "text/plain": [
       "<IPython.core.display.Markdown object>"
      ]
     },
     "metadata": {},
     "output_type": "display_data"
    },
    {
     "data": {
      "text/html": [
       "<div>\n",
       "<style scoped>\n",
       "    .dataframe tbody tr th:only-of-type {\n",
       "        vertical-align: middle;\n",
       "    }\n",
       "\n",
       "    .dataframe tbody tr th {\n",
       "        vertical-align: top;\n",
       "    }\n",
       "\n",
       "    .dataframe thead th {\n",
       "        text-align: right;\n",
       "    }\n",
       "</style>\n",
       "<table border=\"1\" class=\"dataframe\">\n",
       "  <thead>\n",
       "    <tr style=\"text-align: right;\">\n",
       "      <th></th>\n",
       "      <th>portal</th>\n",
       "      <th>count</th>\n",
       "    </tr>\n",
       "  </thead>\n",
       "  <tbody>\n",
       "    <tr>\n",
       "      <th>0</th>\n",
       "      <td>mobile</td>\n",
       "      <td>661</td>\n",
       "    </tr>\n",
       "  </tbody>\n",
       "</table>\n",
       "</div>"
      ],
      "text/plain": [
       "   portal  count\n",
       "0  mobile    661"
      ]
     },
     "execution_count": 37,
     "metadata": {},
     "output_type": "execute_result"
    }
   ],
   "source": [
    "null_pct = df_raw[df_raw[col_nm].isna()].shape[0]/df_raw.shape[0]\n",
    "display(Markdown(f\"## Percentage of nulls {null_pct:.2%}\"))\n",
    "pd.DataFrame(df_raw[col_nm].value_counts()).reset_index()"
   ]
  },
  {
   "cell_type": "code",
   "execution_count": 38,
   "id": "49d92ee5-fdf7-4bd9-8cbf-01b1e27d0937",
   "metadata": {},
   "outputs": [
    {
     "data": {
      "text/markdown": [
       "# Analysis Column 16: produto"
      ],
      "text/plain": [
       "<IPython.core.display.Markdown object>"
      ]
     },
     "metadata": {},
     "output_type": "display_data"
    }
   ],
   "source": [
    "col_nm = df_raw.columns[col_idx]\n",
    "display(Markdown(f\"# Analysis Column {col_idx}: {col_nm}\"))\n",
    "col_idx += 1"
   ]
  },
  {
   "cell_type": "code",
   "execution_count": 39,
   "id": "dedbb252-565a-4678-b91b-971ebf325311",
   "metadata": {},
   "outputs": [
    {
     "data": {
      "text/markdown": [
       "## Percentage of nulls 0.00%"
      ],
      "text/plain": [
       "<IPython.core.display.Markdown object>"
      ]
     },
     "metadata": {},
     "output_type": "display_data"
    },
    {
     "data": {
      "text/html": [
       "<div>\n",
       "<style scoped>\n",
       "    .dataframe tbody tr th:only-of-type {\n",
       "        vertical-align: middle;\n",
       "    }\n",
       "\n",
       "    .dataframe tbody tr th {\n",
       "        vertical-align: top;\n",
       "    }\n",
       "\n",
       "    .dataframe thead th {\n",
       "        text-align: right;\n",
       "    }\n",
       "</style>\n",
       "<table border=\"1\" class=\"dataframe\">\n",
       "  <thead>\n",
       "    <tr style=\"text-align: right;\">\n",
       "      <th></th>\n",
       "      <th>produto</th>\n",
       "      <th>count</th>\n",
       "    </tr>\n",
       "  </thead>\n",
       "  <tbody>\n",
       "    <tr>\n",
       "      <th>0</th>\n",
       "      <td>Cartão de Crédito</td>\n",
       "      <td>661</td>\n",
       "    </tr>\n",
       "  </tbody>\n",
       "</table>\n",
       "</div>"
      ],
      "text/plain": [
       "             produto  count\n",
       "0  Cartão de Crédito    661"
      ]
     },
     "execution_count": 39,
     "metadata": {},
     "output_type": "execute_result"
    }
   ],
   "source": [
    "null_pct = df_raw[df_raw[col_nm].isna()].shape[0]/df_raw.shape[0]\n",
    "display(Markdown(f\"## Percentage of nulls {null_pct:.2%}\"))\n",
    "df_values = df_raw[col_nm].value_counts()\n",
    "pd.DataFrame(df_raw[col_nm].value_counts()).reset_index()"
   ]
  },
  {
   "cell_type": "markdown",
   "id": "b00b8c71-fa1e-4c3c-8b81-317866bdd078",
   "metadata": {},
   "source": [
    "## Hightlights\n",
    "* Can we use `produto` to filter all QnA related to *Cartâo de Crédito*? DONE!"
   ]
  },
  {
   "cell_type": "code",
   "execution_count": 40,
   "id": "17af6181-8513-43fc-a62c-309ddd346609",
   "metadata": {},
   "outputs": [
    {
     "data": {
      "text/markdown": [
       "# Analysis Column 17: relacionamentos"
      ],
      "text/plain": [
       "<IPython.core.display.Markdown object>"
      ]
     },
     "metadata": {},
     "output_type": "display_data"
    }
   ],
   "source": [
    "col_nm = df_raw.columns[col_idx]\n",
    "display(Markdown(f\"# Analysis Column {col_idx}: {col_nm}\"))\n",
    "col_idx += 1"
   ]
  },
  {
   "cell_type": "code",
   "execution_count": 41,
   "id": "36f8815d-4c12-4c37-8df1-f42b55611100",
   "metadata": {},
   "outputs": [
    {
     "data": {
      "text/markdown": [
       "## Percentage of nulls 0.00%"
      ],
      "text/plain": [
       "<IPython.core.display.Markdown object>"
      ]
     },
     "metadata": {},
     "output_type": "display_data"
    },
    {
     "data": {
      "text/html": [
       "<div>\n",
       "<style scoped>\n",
       "    .dataframe tbody tr th:only-of-type {\n",
       "        vertical-align: middle;\n",
       "    }\n",
       "\n",
       "    .dataframe tbody tr th {\n",
       "        vertical-align: top;\n",
       "    }\n",
       "\n",
       "    .dataframe thead th {\n",
       "        text-align: right;\n",
       "    }\n",
       "</style>\n",
       "<table border=\"1\" class=\"dataframe\">\n",
       "  <thead>\n",
       "    <tr style=\"text-align: right;\">\n",
       "      <th></th>\n",
       "      <th>count</th>\n",
       "    </tr>\n",
       "    <tr>\n",
       "      <th>relacionamentos</th>\n",
       "      <th></th>\n",
       "    </tr>\n",
       "  </thead>\n",
       "  <tbody>\n",
       "    <tr>\n",
       "      <th>[]</th>\n",
       "      <td>661</td>\n",
       "    </tr>\n",
       "  </tbody>\n",
       "</table>\n",
       "</div>"
      ],
      "text/plain": [
       "                 count\n",
       "relacionamentos       \n",
       "[]                 661"
      ]
     },
     "execution_count": 41,
     "metadata": {},
     "output_type": "execute_result"
    }
   ],
   "source": [
    "null_pct = df_raw[df_raw[col_nm].isna()].shape[0]/df_raw.shape[0]\n",
    "display(Markdown(f\"## Percentage of nulls {null_pct:.2%}\"))\n",
    "pd.DataFrame(df_raw[col_nm].value_counts())"
   ]
  },
  {
   "cell_type": "code",
   "execution_count": 42,
   "id": "08972ac0-4c63-4e2c-b41c-350c44d47835",
   "metadata": {},
   "outputs": [
    {
     "data": {
      "text/markdown": [
       "# Analysis Column 18: resposta"
      ],
      "text/plain": [
       "<IPython.core.display.Markdown object>"
      ]
     },
     "metadata": {},
     "output_type": "display_data"
    }
   ],
   "source": [
    "col_nm = df_raw.columns[col_idx]\n",
    "display(Markdown(f\"# Analysis Column {col_idx}: {col_nm}\"))\n",
    "col_idx += 1"
   ]
  },
  {
   "cell_type": "code",
   "execution_count": 43,
   "id": "df1d5eac-958a-4271-a9af-827b932cc791",
   "metadata": {},
   "outputs": [
    {
     "data": {
      "text/markdown": [
       "## Percentage of nulls 0.00%"
      ],
      "text/plain": [
       "<IPython.core.display.Markdown object>"
      ]
     },
     "metadata": {},
     "output_type": "display_data"
    },
    {
     "name": "stdout",
     "output_type": "stream",
     "text": [
      "Max len: 29237\n"
     ]
    },
    {
     "data": {
      "text/html": [
       "<div>\n",
       "<style scoped>\n",
       "    .dataframe tbody tr th:only-of-type {\n",
       "        vertical-align: middle;\n",
       "    }\n",
       "\n",
       "    .dataframe tbody tr th {\n",
       "        vertical-align: top;\n",
       "    }\n",
       "\n",
       "    .dataframe thead th {\n",
       "        text-align: right;\n",
       "    }\n",
       "</style>\n",
       "<table border=\"1\" class=\"dataframe\">\n",
       "  <thead>\n",
       "    <tr style=\"text-align: right;\">\n",
       "      <th></th>\n",
       "      <th>resposta</th>\n",
       "      <th>count</th>\n",
       "      <th>len</th>\n",
       "    </tr>\n",
       "  </thead>\n",
       "  <tbody>\n",
       "    <tr>\n",
       "      <th>0</th>\n",
       "      <td>&lt;p&gt;&lt;strong&gt;Assunto: Benefícios do cartão de cr...</td>\n",
       "      <td>16</td>\n",
       "      <td>16834</td>\n",
       "    </tr>\n",
       "    <tr>\n",
       "      <th>1</th>\n",
       "      <td>&lt;p&gt;Renda mínima R$ 800,00&lt;/p&gt;&lt;p&gt;Anuidade Sem a...</td>\n",
       "      <td>16</td>\n",
       "      <td>5107</td>\n",
       "    </tr>\n",
       "    <tr>\n",
       "      <th>2</th>\n",
       "      <td>&lt;p&gt;Renda mínima R$ 800,00&amp;nbsp;&lt;/p&gt;&lt;p&gt;Anuidade...</td>\n",
       "      <td>16</td>\n",
       "      <td>1624</td>\n",
       "    </tr>\n",
       "    <tr>\n",
       "      <th>3</th>\n",
       "      <td>&lt;p&gt;Renda mínima R$ 800,00&lt;/p&gt;&lt;p&gt;Anuidade gráti...</td>\n",
       "      <td>16</td>\n",
       "      <td>1975</td>\n",
       "    </tr>\n",
       "    <tr>\n",
       "      <th>4</th>\n",
       "      <td>&lt;p&gt;Renda mínima R$ 1.500,00&lt;/p&gt;&lt;p&gt;&lt;/p&gt;&lt;p&gt;Anuid...</td>\n",
       "      <td>16</td>\n",
       "      <td>4992</td>\n",
       "    </tr>\n",
       "    <tr>\n",
       "      <th>...</th>\n",
       "      <td>...</td>\n",
       "      <td>...</td>\n",
       "      <td>...</td>\n",
       "    </tr>\n",
       "    <tr>\n",
       "      <th>87</th>\n",
       "      <td>&lt;p&gt;Anuidade grátis gastando R$2.000/fatura&lt;/p&gt;...</td>\n",
       "      <td>1</td>\n",
       "      <td>13099</td>\n",
       "    </tr>\n",
       "    <tr>\n",
       "      <th>88</th>\n",
       "      <td>&lt;p&gt;Renda mínima R$ 800,00&lt;/p&gt;&lt;p&gt;Sem anuidade&lt;/...</td>\n",
       "      <td>1</td>\n",
       "      <td>2430</td>\n",
       "    </tr>\n",
       "    <tr>\n",
       "      <th>89</th>\n",
       "      <td>&lt;p&gt;Renda mínima R$ 800,00&lt;/p&gt;&lt;p&gt;Sem anuidade&lt;/...</td>\n",
       "      <td>1</td>\n",
       "      <td>2961</td>\n",
       "    </tr>\n",
       "    <tr>\n",
       "      <th>90</th>\n",
       "      <td>&lt;p&gt;Com o cartão The One você conta com ofertas...</td>\n",
       "      <td>1</td>\n",
       "      <td>715</td>\n",
       "    </tr>\n",
       "    <tr>\n",
       "      <th>91</th>\n",
       "      <td>&lt;p&gt;Renda mínima R$ 5.000,00&amp;nbsp;&lt;/p&gt;&lt;p&gt;Anuida...</td>\n",
       "      <td>1</td>\n",
       "      <td>3160</td>\n",
       "    </tr>\n",
       "  </tbody>\n",
       "</table>\n",
       "<p>92 rows × 3 columns</p>\n",
       "</div>"
      ],
      "text/plain": [
       "                                             resposta  count    len\n",
       "0   <p><strong>Assunto: Benefícios do cartão de cr...     16  16834\n",
       "1   <p>Renda mínima R$ 800,00</p><p>Anuidade Sem a...     16   5107\n",
       "2   <p>Renda mínima R$ 800,00&nbsp;</p><p>Anuidade...     16   1624\n",
       "3   <p>Renda mínima R$ 800,00</p><p>Anuidade gráti...     16   1975\n",
       "4   <p>Renda mínima R$ 1.500,00</p><p></p><p>Anuid...     16   4992\n",
       "..                                                ...    ...    ...\n",
       "87  <p>Anuidade grátis gastando R$2.000/fatura</p>...      1  13099\n",
       "88  <p>Renda mínima R$ 800,00</p><p>Sem anuidade</...      1   2430\n",
       "89  <p>Renda mínima R$ 800,00</p><p>Sem anuidade</...      1   2961\n",
       "90  <p>Com o cartão The One você conta com ofertas...      1    715\n",
       "91  <p>Renda mínima R$ 5.000,00&nbsp;</p><p>Anuida...      1   3160\n",
       "\n",
       "[92 rows x 3 columns]"
      ]
     },
     "execution_count": 43,
     "metadata": {},
     "output_type": "execute_result"
    }
   ],
   "source": [
    "null_pct = df_raw[df_raw[col_nm].isna()].shape[0]/df_raw.shape[0]\n",
    "display(Markdown(f\"## Percentage of nulls {null_pct:.2%}\"))\n",
    "df_values = pd.DataFrame(df_raw[col_nm].value_counts()).reset_index()\n",
    "df_values['len'] = df_values[col_nm].str.len()\n",
    "print(f\"Max len: {df_values['len'].max()}\")\n",
    "df_values"
   ]
  },
  {
   "cell_type": "code",
   "execution_count": 44,
   "id": "7162beb9-b97d-447b-92dd-929472127b21",
   "metadata": {},
   "outputs": [
    {
     "data": {
      "text/markdown": [
       "# Analysis Column 19: resposta_caixa"
      ],
      "text/plain": [
       "<IPython.core.display.Markdown object>"
      ]
     },
     "metadata": {},
     "output_type": "display_data"
    }
   ],
   "source": [
    "col_nm = df_raw.columns[col_idx]\n",
    "display(Markdown(f\"# Analysis Column {col_idx}: {col_nm}\"))\n",
    "col_idx += 1"
   ]
  },
  {
   "cell_type": "code",
   "execution_count": 45,
   "id": "a970aa6b-f5af-4492-abdc-2f977c76e074",
   "metadata": {},
   "outputs": [
    {
     "data": {
      "text/markdown": [
       "## Percentage of nulls 100.00%"
      ],
      "text/plain": [
       "<IPython.core.display.Markdown object>"
      ]
     },
     "metadata": {},
     "output_type": "display_data"
    },
    {
     "data": {
      "text/html": [
       "<div>\n",
       "<style scoped>\n",
       "    .dataframe tbody tr th:only-of-type {\n",
       "        vertical-align: middle;\n",
       "    }\n",
       "\n",
       "    .dataframe tbody tr th {\n",
       "        vertical-align: top;\n",
       "    }\n",
       "\n",
       "    .dataframe thead th {\n",
       "        text-align: right;\n",
       "    }\n",
       "</style>\n",
       "<table border=\"1\" class=\"dataframe\">\n",
       "  <thead>\n",
       "    <tr style=\"text-align: right;\">\n",
       "      <th></th>\n",
       "      <th>resposta_caixa</th>\n",
       "      <th>count</th>\n",
       "    </tr>\n",
       "  </thead>\n",
       "  <tbody>\n",
       "  </tbody>\n",
       "</table>\n",
       "</div>"
      ],
      "text/plain": [
       "Empty DataFrame\n",
       "Columns: [resposta_caixa, count]\n",
       "Index: []"
      ]
     },
     "execution_count": 45,
     "metadata": {},
     "output_type": "execute_result"
    }
   ],
   "source": [
    "null_pct = df_raw[df_raw[col_nm].isna()].shape[0]/df_raw.shape[0]\n",
    "display(Markdown(f\"## Percentage of nulls {null_pct:.2%}\"))\n",
    "pd.DataFrame(df_raw[col_nm].value_counts()).reset_index()"
   ]
  },
  {
   "cell_type": "code",
   "execution_count": 46,
   "id": "e75c4e19-1e4b-4442-b59b-5f8b2c00795e",
   "metadata": {},
   "outputs": [
    {
     "data": {
      "text/markdown": [
       "# Analysis Column 20: resposta computador"
      ],
      "text/plain": [
       "<IPython.core.display.Markdown object>"
      ]
     },
     "metadata": {},
     "output_type": "display_data"
    }
   ],
   "source": [
    "col_nm = df_raw.columns[col_idx]\n",
    "display(Markdown(f\"# Analysis Column {col_idx}: {col_nm}\"))\n",
    "col_idx += 1"
   ]
  },
  {
   "cell_type": "code",
   "execution_count": 47,
   "id": "4aaf00bb-4ad3-476e-b2ff-5df3f1db0c29",
   "metadata": {},
   "outputs": [
    {
     "data": {
      "text/markdown": [
       "## Percentage of nulls 100.00%"
      ],
      "text/plain": [
       "<IPython.core.display.Markdown object>"
      ]
     },
     "metadata": {},
     "output_type": "display_data"
    },
    {
     "data": {
      "text/html": [
       "<div>\n",
       "<style scoped>\n",
       "    .dataframe tbody tr th:only-of-type {\n",
       "        vertical-align: middle;\n",
       "    }\n",
       "\n",
       "    .dataframe tbody tr th {\n",
       "        vertical-align: top;\n",
       "    }\n",
       "\n",
       "    .dataframe thead th {\n",
       "        text-align: right;\n",
       "    }\n",
       "</style>\n",
       "<table border=\"1\" class=\"dataframe\">\n",
       "  <thead>\n",
       "    <tr style=\"text-align: right;\">\n",
       "      <th></th>\n",
       "      <th>resposta computador</th>\n",
       "      <th>count</th>\n",
       "    </tr>\n",
       "  </thead>\n",
       "  <tbody>\n",
       "  </tbody>\n",
       "</table>\n",
       "</div>"
      ],
      "text/plain": [
       "Empty DataFrame\n",
       "Columns: [resposta computador, count]\n",
       "Index: []"
      ]
     },
     "execution_count": 47,
     "metadata": {},
     "output_type": "execute_result"
    }
   ],
   "source": [
    "null_pct = df_raw[df_raw[col_nm].isna()].shape[0]/df_raw.shape[0]\n",
    "display(Markdown(f\"## Percentage of nulls {null_pct:.2%}\"))\n",
    "pd.DataFrame(df_raw[col_nm].value_counts()).reset_index()"
   ]
  },
  {
   "cell_type": "code",
   "execution_count": 48,
   "id": "4a10b396-47d1-425a-ab2f-b1babeec40c4",
   "metadata": {},
   "outputs": [
    {
     "data": {
      "text/markdown": [
       "# Analysis Column 21: resposta_telefone"
      ],
      "text/plain": [
       "<IPython.core.display.Markdown object>"
      ]
     },
     "metadata": {},
     "output_type": "display_data"
    }
   ],
   "source": [
    "col_nm = df_raw.columns[col_idx]\n",
    "display(Markdown(f\"# Analysis Column {col_idx}: {col_nm}\"))\n",
    "col_idx += 1"
   ]
  },
  {
   "cell_type": "code",
   "execution_count": 49,
   "id": "82744077-8e84-4215-9b7d-65f48ae199e5",
   "metadata": {},
   "outputs": [
    {
     "data": {
      "text/markdown": [
       "## Percentage of nulls 100.00%"
      ],
      "text/plain": [
       "<IPython.core.display.Markdown object>"
      ]
     },
     "metadata": {},
     "output_type": "display_data"
    },
    {
     "data": {
      "text/html": [
       "<div>\n",
       "<style scoped>\n",
       "    .dataframe tbody tr th:only-of-type {\n",
       "        vertical-align: middle;\n",
       "    }\n",
       "\n",
       "    .dataframe tbody tr th {\n",
       "        vertical-align: top;\n",
       "    }\n",
       "\n",
       "    .dataframe thead th {\n",
       "        text-align: right;\n",
       "    }\n",
       "</style>\n",
       "<table border=\"1\" class=\"dataframe\">\n",
       "  <thead>\n",
       "    <tr style=\"text-align: right;\">\n",
       "      <th></th>\n",
       "      <th>resposta_telefone</th>\n",
       "      <th>count</th>\n",
       "    </tr>\n",
       "  </thead>\n",
       "  <tbody>\n",
       "  </tbody>\n",
       "</table>\n",
       "</div>"
      ],
      "text/plain": [
       "Empty DataFrame\n",
       "Columns: [resposta_telefone, count]\n",
       "Index: []"
      ]
     },
     "execution_count": 49,
     "metadata": {},
     "output_type": "execute_result"
    }
   ],
   "source": [
    "null_pct = df_raw[df_raw[col_nm].isna()].shape[0]/df_raw.shape[0]\n",
    "display(Markdown(f\"## Percentage of nulls {null_pct:.2%}\"))\n",
    "pd.DataFrame(df_raw[col_nm].value_counts()).reset_index()"
   ]
  },
  {
   "cell_type": "code",
   "execution_count": 50,
   "id": "d87dd047-7f67-40c0-9995-70288a2380a1",
   "metadata": {},
   "outputs": [
    {
     "data": {
      "text/markdown": [
       "# Analysis Column 22: rota"
      ],
      "text/plain": [
       "<IPython.core.display.Markdown object>"
      ]
     },
     "metadata": {},
     "output_type": "display_data"
    }
   ],
   "source": [
    "col_nm = df_raw.columns[col_idx]\n",
    "display(Markdown(f\"# Analysis Column {col_idx}: {col_nm}\"))\n",
    "col_idx += 1"
   ]
  },
  {
   "cell_type": "code",
   "execution_count": 51,
   "id": "82e4898c-3ac5-4fd5-bda4-0385aea6f379",
   "metadata": {},
   "outputs": [
    {
     "data": {
      "text/markdown": [
       "## Percentage of nulls 100.00%"
      ],
      "text/plain": [
       "<IPython.core.display.Markdown object>"
      ]
     },
     "metadata": {},
     "output_type": "display_data"
    },
    {
     "data": {
      "text/html": [
       "<div>\n",
       "<style scoped>\n",
       "    .dataframe tbody tr th:only-of-type {\n",
       "        vertical-align: middle;\n",
       "    }\n",
       "\n",
       "    .dataframe tbody tr th {\n",
       "        vertical-align: top;\n",
       "    }\n",
       "\n",
       "    .dataframe thead th {\n",
       "        text-align: right;\n",
       "    }\n",
       "</style>\n",
       "<table border=\"1\" class=\"dataframe\">\n",
       "  <thead>\n",
       "    <tr style=\"text-align: right;\">\n",
       "      <th></th>\n",
       "      <th>rota</th>\n",
       "      <th>count</th>\n",
       "    </tr>\n",
       "  </thead>\n",
       "  <tbody>\n",
       "  </tbody>\n",
       "</table>\n",
       "</div>"
      ],
      "text/plain": [
       "Empty DataFrame\n",
       "Columns: [rota, count]\n",
       "Index: []"
      ]
     },
     "execution_count": 51,
     "metadata": {},
     "output_type": "execute_result"
    }
   ],
   "source": [
    "null_pct = df_raw[df_raw[col_nm].isna()].shape[0]/df_raw.shape[0]\n",
    "display(Markdown(f\"## Percentage of nulls {null_pct:.2%}\"))\n",
    "pd.DataFrame(df_raw[col_nm].value_counts()).reset_index()"
   ]
  },
  {
   "cell_type": "code",
   "execution_count": 52,
   "id": "7a414747-4031-4584-94c7-7e2539ee77f6",
   "metadata": {},
   "outputs": [
    {
     "data": {
      "text/markdown": [
       "# Analysis Column 23: segmento"
      ],
      "text/plain": [
       "<IPython.core.display.Markdown object>"
      ]
     },
     "metadata": {},
     "output_type": "display_data"
    }
   ],
   "source": [
    "col_nm = df_raw.columns[col_idx]\n",
    "display(Markdown(f\"# Analysis Column {col_idx}: {col_nm}\"))\n",
    "col_idx += 1"
   ]
  },
  {
   "cell_type": "code",
   "execution_count": 53,
   "id": "452bf823-7c7c-485d-953d-e799da81c1af",
   "metadata": {},
   "outputs": [
    {
     "data": {
      "text/markdown": [
       "## Percentage of nulls 0.00%"
      ],
      "text/plain": [
       "<IPython.core.display.Markdown object>"
      ]
     },
     "metadata": {},
     "output_type": "display_data"
    },
    {
     "data": {
      "text/html": [
       "<div>\n",
       "<style scoped>\n",
       "    .dataframe tbody tr th:only-of-type {\n",
       "        vertical-align: middle;\n",
       "    }\n",
       "\n",
       "    .dataframe tbody tr th {\n",
       "        vertical-align: top;\n",
       "    }\n",
       "\n",
       "    .dataframe thead th {\n",
       "        text-align: right;\n",
       "    }\n",
       "</style>\n",
       "<table border=\"1\" class=\"dataframe\">\n",
       "  <thead>\n",
       "    <tr style=\"text-align: right;\">\n",
       "      <th></th>\n",
       "      <th>count</th>\n",
       "    </tr>\n",
       "    <tr>\n",
       "      <th>segmento</th>\n",
       "      <th></th>\n",
       "    </tr>\n",
       "  </thead>\n",
       "  <tbody>\n",
       "    <tr>\n",
       "      <th>['SEM_SEGMENTO']</th>\n",
       "      <td>661</td>\n",
       "    </tr>\n",
       "  </tbody>\n",
       "</table>\n",
       "</div>"
      ],
      "text/plain": [
       "                  count\n",
       "segmento               \n",
       "['SEM_SEGMENTO']    661"
      ]
     },
     "execution_count": 53,
     "metadata": {},
     "output_type": "execute_result"
    }
   ],
   "source": [
    "null_pct = df_raw[df_raw[col_nm].isna()].shape[0]/df_raw.shape[0]\n",
    "display(Markdown(f\"## Percentage of nulls {null_pct:.2%}\"))\n",
    "pd.DataFrame(df_raw[col_nm].value_counts())"
   ]
  },
  {
   "cell_type": "markdown",
   "id": "f9c16ffa-fb76-42d2-969d-422e5993fffc",
   "metadata": {},
   "source": [
    "## Hightlights\n",
    "\n",
    "* What does `segmento` means?\n",
    "* Do we need to take it into account?"
   ]
  },
  {
   "cell_type": "code",
   "execution_count": 54,
   "id": "395965ee-b2a3-4ad0-b014-23c61db0674e",
   "metadata": {},
   "outputs": [
    {
     "data": {
      "text/markdown": [
       "# Analysis Column 24: tags"
      ],
      "text/plain": [
       "<IPython.core.display.Markdown object>"
      ]
     },
     "metadata": {},
     "output_type": "display_data"
    }
   ],
   "source": [
    "col_nm = df_raw.columns[col_idx]\n",
    "display(Markdown(f\"# Analysis Column {col_idx}: {col_nm}\"))\n",
    "col_idx += 1"
   ]
  },
  {
   "cell_type": "code",
   "execution_count": 55,
   "id": "7dc0a87d-d64b-46fc-9d57-daedd83c2400",
   "metadata": {},
   "outputs": [
    {
     "data": {
      "text/markdown": [
       "## Percentage of nulls 0.00%"
      ],
      "text/plain": [
       "<IPython.core.display.Markdown object>"
      ]
     },
     "metadata": {},
     "output_type": "display_data"
    },
    {
     "data": {
      "text/html": [
       "<div>\n",
       "<style scoped>\n",
       "    .dataframe tbody tr th:only-of-type {\n",
       "        vertical-align: middle;\n",
       "    }\n",
       "\n",
       "    .dataframe tbody tr th {\n",
       "        vertical-align: top;\n",
       "    }\n",
       "\n",
       "    .dataframe thead th {\n",
       "        text-align: right;\n",
       "    }\n",
       "</style>\n",
       "<table border=\"1\" class=\"dataframe\">\n",
       "  <thead>\n",
       "    <tr style=\"text-align: right;\">\n",
       "      <th></th>\n",
       "      <th>count</th>\n",
       "    </tr>\n",
       "    <tr>\n",
       "      <th>tags</th>\n",
       "      <th></th>\n",
       "    </tr>\n",
       "  </thead>\n",
       "  <tbody>\n",
       "    <tr>\n",
       "      <th>[]</th>\n",
       "      <td>584</td>\n",
       "    </tr>\n",
       "    <tr>\n",
       "      <th>['final']</th>\n",
       "      <td>45</td>\n",
       "    </tr>\n",
       "    <tr>\n",
       "      <th>['ia gen', 'final']</th>\n",
       "      <td>16</td>\n",
       "    </tr>\n",
       "    <tr>\n",
       "      <th>['final', 'ia gen']</th>\n",
       "      <td>16</td>\n",
       "    </tr>\n",
       "  </tbody>\n",
       "</table>\n",
       "</div>"
      ],
      "text/plain": [
       "                     count\n",
       "tags                      \n",
       "[]                     584\n",
       "['final']               45\n",
       "['ia gen', 'final']     16\n",
       "['final', 'ia gen']     16"
      ]
     },
     "execution_count": 55,
     "metadata": {},
     "output_type": "execute_result"
    }
   ],
   "source": [
    "null_pct = df_raw[df_raw[col_nm].isna()].shape[0]/df_raw.shape[0]\n",
    "display(Markdown(f\"## Percentage of nulls {null_pct:.2%}\"))\n",
    "pd.DataFrame(df_raw[col_nm].value_counts())"
   ]
  },
  {
   "cell_type": "code",
   "execution_count": 56,
   "id": "dc30bf51-513f-4380-9864-35da8e57c83e",
   "metadata": {},
   "outputs": [
    {
     "data": {
      "text/markdown": [
       "# Analysis Column 25: texto_botao_contextualizada"
      ],
      "text/plain": [
       "<IPython.core.display.Markdown object>"
      ]
     },
     "metadata": {},
     "output_type": "display_data"
    }
   ],
   "source": [
    "col_nm = df_raw.columns[col_idx]\n",
    "display(Markdown(f\"# Analysis Column {col_idx}: {col_nm}\"))\n",
    "col_idx += 1"
   ]
  },
  {
   "cell_type": "code",
   "execution_count": 57,
   "id": "bd94e6f7-4417-4765-b821-5f2929bc32ab",
   "metadata": {},
   "outputs": [
    {
     "data": {
      "text/markdown": [
       "## Percentage of nulls 100.00%"
      ],
      "text/plain": [
       "<IPython.core.display.Markdown object>"
      ]
     },
     "metadata": {},
     "output_type": "display_data"
    },
    {
     "data": {
      "text/html": [
       "<div>\n",
       "<style scoped>\n",
       "    .dataframe tbody tr th:only-of-type {\n",
       "        vertical-align: middle;\n",
       "    }\n",
       "\n",
       "    .dataframe tbody tr th {\n",
       "        vertical-align: top;\n",
       "    }\n",
       "\n",
       "    .dataframe thead th {\n",
       "        text-align: right;\n",
       "    }\n",
       "</style>\n",
       "<table border=\"1\" class=\"dataframe\">\n",
       "  <thead>\n",
       "    <tr style=\"text-align: right;\">\n",
       "      <th></th>\n",
       "      <th>count</th>\n",
       "    </tr>\n",
       "    <tr>\n",
       "      <th>texto_botao_contextualizada</th>\n",
       "      <th></th>\n",
       "    </tr>\n",
       "  </thead>\n",
       "  <tbody>\n",
       "  </tbody>\n",
       "</table>\n",
       "</div>"
      ],
      "text/plain": [
       "Empty DataFrame\n",
       "Columns: [count]\n",
       "Index: []"
      ]
     },
     "execution_count": 57,
     "metadata": {},
     "output_type": "execute_result"
    }
   ],
   "source": [
    "null_pct = df_raw[df_raw[col_nm].isna()].shape[0]/df_raw.shape[0]\n",
    "display(Markdown(f\"## Percentage of nulls {null_pct:.2%}\"))\n",
    "pd.DataFrame(df_raw[col_nm].value_counts())"
   ]
  },
  {
   "cell_type": "code",
   "execution_count": 58,
   "id": "4354e4ac-c125-439b-8f4d-acf33bce3d08",
   "metadata": {},
   "outputs": [
    {
     "data": {
      "text/markdown": [
       "# Analysis Column 26: title"
      ],
      "text/plain": [
       "<IPython.core.display.Markdown object>"
      ]
     },
     "metadata": {},
     "output_type": "display_data"
    }
   ],
   "source": [
    "col_nm = df_raw.columns[col_idx]\n",
    "display(Markdown(f\"# Analysis Column {col_idx}: {col_nm}\"))\n",
    "col_idx += 1"
   ]
  },
  {
   "cell_type": "code",
   "execution_count": 59,
   "id": "fa3257a6-d185-4350-9850-69965a66ff29",
   "metadata": {},
   "outputs": [
    {
     "data": {
      "text/markdown": [
       "## Percentage of nulls 0.00%"
      ],
      "text/plain": [
       "<IPython.core.display.Markdown object>"
      ]
     },
     "metadata": {},
     "output_type": "display_data"
    },
    {
     "data": {
      "text/html": [
       "<div>\n",
       "<style scoped>\n",
       "    .dataframe tbody tr th:only-of-type {\n",
       "        vertical-align: middle;\n",
       "    }\n",
       "\n",
       "    .dataframe tbody tr th {\n",
       "        vertical-align: top;\n",
       "    }\n",
       "\n",
       "    .dataframe thead th {\n",
       "        text-align: right;\n",
       "    }\n",
       "</style>\n",
       "<table border=\"1\" class=\"dataframe\">\n",
       "  <thead>\n",
       "    <tr style=\"text-align: right;\">\n",
       "      <th></th>\n",
       "      <th>count</th>\n",
       "    </tr>\n",
       "    <tr>\n",
       "      <th>title</th>\n",
       "      <th></th>\n",
       "    </tr>\n",
       "  </thead>\n",
       "  <tbody>\n",
       "    <tr>\n",
       "      <th>[PF] [Benefícios] [IA gen] Benefícios dos cartões Click</th>\n",
       "      <td>15</td>\n",
       "    </tr>\n",
       "    <tr>\n",
       "      <th>[PF] [Benefícios] [IA gen] Benefícios dos cartões Pão de Açúcar</th>\n",
       "      <td>15</td>\n",
       "    </tr>\n",
       "    <tr>\n",
       "      <th>[PF] [Benefícios] [IA gen] Cartão Magalu Platinum (visa)</th>\n",
       "      <td>15</td>\n",
       "    </tr>\n",
       "    <tr>\n",
       "      <th>[PF] [Benefícios] [IA gen] Benefícios dos cartões TIM</th>\n",
       "      <td>15</td>\n",
       "    </tr>\n",
       "    <tr>\n",
       "      <th>[PF] [Benefícios] [IA gen] Decathlon Platinum</th>\n",
       "      <td>15</td>\n",
       "    </tr>\n",
       "    <tr>\n",
       "      <th>...</th>\n",
       "      <td>...</td>\n",
       "    </tr>\n",
       "    <tr>\n",
       "      <th>[PF] [Benefícios] Vivo Cashback Platinum (mastercard)</th>\n",
       "      <td>1</td>\n",
       "    </tr>\n",
       "    <tr>\n",
       "      <th>[PF] [Benefícios] Vivo Cashback Platinum (visa)</th>\n",
       "      <td>1</td>\n",
       "    </tr>\n",
       "    <tr>\n",
       "      <th>[PF] [Benefícios] Itaú Uniclass Black (mastercard)</th>\n",
       "      <td>1</td>\n",
       "    </tr>\n",
       "    <tr>\n",
       "      <th>[PF] [Benefícios] N Card (visa)</th>\n",
       "      <td>1</td>\n",
       "    </tr>\n",
       "    <tr>\n",
       "      <th>[PF] [Benefícios] Extra Gold (mastercard)</th>\n",
       "      <td>1</td>\n",
       "    </tr>\n",
       "  </tbody>\n",
       "</table>\n",
       "<p>109 rows × 1 columns</p>\n",
       "</div>"
      ],
      "text/plain": [
       "                                                    count\n",
       "title                                                    \n",
       "[PF] [Benefícios] [IA gen] Benefícios dos cartõ...     15\n",
       "[PF] [Benefícios] [IA gen] Benefícios dos cartõ...     15\n",
       "[PF] [Benefícios] [IA gen] Cartão Magalu Platin...     15\n",
       "[PF] [Benefícios] [IA gen] Benefícios dos cartõ...     15\n",
       "[PF] [Benefícios] [IA gen] Decathlon Platinum          15\n",
       "...                                                   ...\n",
       "[PF] [Benefícios] Vivo Cashback Platinum (maste...      1\n",
       "[PF] [Benefícios] Vivo Cashback Platinum (visa)         1\n",
       "[PF] [Benefícios] Itaú Uniclass Black (mastercard)      1\n",
       "[PF] [Benefícios] N Card (visa)                         1\n",
       "[PF] [Benefícios] Extra Gold (mastercard)               1\n",
       "\n",
       "[109 rows x 1 columns]"
      ]
     },
     "execution_count": 59,
     "metadata": {},
     "output_type": "execute_result"
    }
   ],
   "source": [
    "null_pct = df_raw[df_raw[col_nm].isna()].shape[0]/df_raw.shape[0]\n",
    "display(Markdown(f\"## Percentage of nulls {null_pct:.2%}\"))\n",
    "pd.DataFrame(df_raw[col_nm].value_counts())"
   ]
  },
  {
   "cell_type": "markdown",
   "id": "f1771a19-a271-4e49-9b25-3d7f97fff9f7",
   "metadata": {},
   "source": [
    "## Hightlights\n",
    "* Can we use `title` to filter the QnA related to benefits? DONE! No need!"
   ]
  },
  {
   "cell_type": "code",
   "execution_count": 60,
   "id": "e7aab5ce-b073-4fdd-aa49-358d4096db83",
   "metadata": {},
   "outputs": [
    {
     "data": {
      "text/markdown": [
       "# Analysis Column 27: titularidade"
      ],
      "text/plain": [
       "<IPython.core.display.Markdown object>"
      ]
     },
     "metadata": {},
     "output_type": "display_data"
    }
   ],
   "source": [
    "col_nm = df_raw.columns[col_idx]\n",
    "display(Markdown(f\"# Analysis Column {col_idx}: {col_nm}\"))\n",
    "col_idx += 1"
   ]
  },
  {
   "cell_type": "code",
   "execution_count": 61,
   "id": "61984a29-100a-4add-a1a4-fea58d2fe50f",
   "metadata": {},
   "outputs": [
    {
     "data": {
      "text/markdown": [
       "## Percentage of nulls 0.00%"
      ],
      "text/plain": [
       "<IPython.core.display.Markdown object>"
      ]
     },
     "metadata": {},
     "output_type": "display_data"
    },
    {
     "data": {
      "text/html": [
       "<div>\n",
       "<style scoped>\n",
       "    .dataframe tbody tr th:only-of-type {\n",
       "        vertical-align: middle;\n",
       "    }\n",
       "\n",
       "    .dataframe tbody tr th {\n",
       "        vertical-align: top;\n",
       "    }\n",
       "\n",
       "    .dataframe thead th {\n",
       "        text-align: right;\n",
       "    }\n",
       "</style>\n",
       "<table border=\"1\" class=\"dataframe\">\n",
       "  <thead>\n",
       "    <tr style=\"text-align: right;\">\n",
       "      <th></th>\n",
       "      <th>count</th>\n",
       "    </tr>\n",
       "    <tr>\n",
       "      <th>titularidade</th>\n",
       "      <th></th>\n",
       "    </tr>\n",
       "  </thead>\n",
       "  <tbody>\n",
       "    <tr>\n",
       "      <th>---</th>\n",
       "      <td>661</td>\n",
       "    </tr>\n",
       "  </tbody>\n",
       "</table>\n",
       "</div>"
      ],
      "text/plain": [
       "              count\n",
       "titularidade       \n",
       "---             661"
      ]
     },
     "execution_count": 61,
     "metadata": {},
     "output_type": "execute_result"
    }
   ],
   "source": [
    "null_pct = df_raw[df_raw[col_nm].isna()].shape[0]/df_raw.shape[0]\n",
    "display(Markdown(f\"## Percentage of nulls {null_pct:.2%}\"))\n",
    "pd.DataFrame(df_raw[col_nm].value_counts())"
   ]
  },
  {
   "cell_type": "code",
   "execution_count": 62,
   "id": "a8f884c6-0f87-45b9-9e0d-35cfe93cf4d3",
   "metadata": {},
   "outputs": [
    {
     "data": {
      "text/markdown": [
       "# Analysis Column 28: titulo_atalhos"
      ],
      "text/plain": [
       "<IPython.core.display.Markdown object>"
      ]
     },
     "metadata": {},
     "output_type": "display_data"
    }
   ],
   "source": [
    "col_nm = df_raw.columns[col_idx]\n",
    "display(Markdown(f\"# Analysis Column {col_idx}: {col_nm}\"))\n",
    "col_idx += 1"
   ]
  },
  {
   "cell_type": "code",
   "execution_count": 63,
   "id": "4bd6c8ad-443e-465f-86fc-6634c0ce95d2",
   "metadata": {},
   "outputs": [
    {
     "data": {
      "text/markdown": [
       "## Percentage of nulls 0.00%"
      ],
      "text/plain": [
       "<IPython.core.display.Markdown object>"
      ]
     },
     "metadata": {},
     "output_type": "display_data"
    },
    {
     "data": {
      "text/html": [
       "<div>\n",
       "<style scoped>\n",
       "    .dataframe tbody tr th:only-of-type {\n",
       "        vertical-align: middle;\n",
       "    }\n",
       "\n",
       "    .dataframe tbody tr th {\n",
       "        vertical-align: top;\n",
       "    }\n",
       "\n",
       "    .dataframe thead th {\n",
       "        text-align: right;\n",
       "    }\n",
       "</style>\n",
       "<table border=\"1\" class=\"dataframe\">\n",
       "  <thead>\n",
       "    <tr style=\"text-align: right;\">\n",
       "      <th></th>\n",
       "      <th>count</th>\n",
       "    </tr>\n",
       "    <tr>\n",
       "      <th>titulo_atalhos</th>\n",
       "      <th></th>\n",
       "    </tr>\n",
       "  </thead>\n",
       "  <tbody>\n",
       "    <tr>\n",
       "      <th>[]</th>\n",
       "      <td>661</td>\n",
       "    </tr>\n",
       "  </tbody>\n",
       "</table>\n",
       "</div>"
      ],
      "text/plain": [
       "                count\n",
       "titulo_atalhos       \n",
       "[]                661"
      ]
     },
     "execution_count": 63,
     "metadata": {},
     "output_type": "execute_result"
    }
   ],
   "source": [
    "null_pct = df_raw[df_raw[col_nm].isna()].shape[0]/df_raw.shape[0]\n",
    "display(Markdown(f\"## Percentage of nulls {null_pct:.2%}\"))\n",
    "pd.DataFrame(df_raw[col_nm].value_counts())"
   ]
  },
  {
   "cell_type": "code",
   "execution_count": 64,
   "id": "ecdf6dc5-4fef-497a-8a44-353ff0b6a113",
   "metadata": {},
   "outputs": [
    {
     "data": {
      "text/markdown": [
       "# Analysis Column 29: top"
      ],
      "text/plain": [
       "<IPython.core.display.Markdown object>"
      ]
     },
     "metadata": {},
     "output_type": "display_data"
    }
   ],
   "source": [
    "col_nm = df_raw.columns[col_idx]\n",
    "display(Markdown(f\"# Analysis Column {col_idx}: {col_nm}\"))\n",
    "col_idx += 1"
   ]
  },
  {
   "cell_type": "code",
   "execution_count": 65,
   "id": "ff3b44ae-27dc-4886-a0c7-a1720cfb5353",
   "metadata": {},
   "outputs": [
    {
     "data": {
      "text/markdown": [
       "## Percentage of nulls 0.00%"
      ],
      "text/plain": [
       "<IPython.core.display.Markdown object>"
      ]
     },
     "metadata": {},
     "output_type": "display_data"
    },
    {
     "data": {
      "text/html": [
       "<div>\n",
       "<style scoped>\n",
       "    .dataframe tbody tr th:only-of-type {\n",
       "        vertical-align: middle;\n",
       "    }\n",
       "\n",
       "    .dataframe tbody tr th {\n",
       "        vertical-align: top;\n",
       "    }\n",
       "\n",
       "    .dataframe thead th {\n",
       "        text-align: right;\n",
       "    }\n",
       "</style>\n",
       "<table border=\"1\" class=\"dataframe\">\n",
       "  <thead>\n",
       "    <tr style=\"text-align: right;\">\n",
       "      <th></th>\n",
       "      <th>count</th>\n",
       "    </tr>\n",
       "    <tr>\n",
       "      <th>top</th>\n",
       "      <th></th>\n",
       "    </tr>\n",
       "  </thead>\n",
       "  <tbody>\n",
       "    <tr>\n",
       "      <th>---</th>\n",
       "      <td>661</td>\n",
       "    </tr>\n",
       "  </tbody>\n",
       "</table>\n",
       "</div>"
      ],
      "text/plain": [
       "     count\n",
       "top       \n",
       "---    661"
      ]
     },
     "execution_count": 65,
     "metadata": {},
     "output_type": "execute_result"
    }
   ],
   "source": [
    "null_pct = df_raw[df_raw[col_nm].isna()].shape[0]/df_raw.shape[0]\n",
    "display(Markdown(f\"## Percentage of nulls {null_pct:.2%}\"))\n",
    "pd.DataFrame(df_raw[col_nm].value_counts())"
   ]
  },
  {
   "cell_type": "code",
   "execution_count": 66,
   "id": "f97b3665-c2e5-4a9c-9d73-449c1644f6d0",
   "metadata": {},
   "outputs": [
    {
     "data": {
      "text/markdown": [
       "# Analysis Column 30: uid"
      ],
      "text/plain": [
       "<IPython.core.display.Markdown object>"
      ]
     },
     "metadata": {},
     "output_type": "display_data"
    }
   ],
   "source": [
    "col_nm = df_raw.columns[col_idx]\n",
    "display(Markdown(f\"# Analysis Column {col_idx}: {col_nm}\"))\n",
    "col_idx += 1"
   ]
  },
  {
   "cell_type": "code",
   "execution_count": 67,
   "id": "fd343ae7-ac74-436a-9aa1-075f37751eb4",
   "metadata": {},
   "outputs": [
    {
     "data": {
      "text/markdown": [
       "## Percentage of nulls 0.00%"
      ],
      "text/plain": [
       "<IPython.core.display.Markdown object>"
      ]
     },
     "metadata": {},
     "output_type": "display_data"
    },
    {
     "data": {
      "text/html": [
       "<div>\n",
       "<style scoped>\n",
       "    .dataframe tbody tr th:only-of-type {\n",
       "        vertical-align: middle;\n",
       "    }\n",
       "\n",
       "    .dataframe tbody tr th {\n",
       "        vertical-align: top;\n",
       "    }\n",
       "\n",
       "    .dataframe thead th {\n",
       "        text-align: right;\n",
       "    }\n",
       "</style>\n",
       "<table border=\"1\" class=\"dataframe\">\n",
       "  <thead>\n",
       "    <tr style=\"text-align: right;\">\n",
       "      <th></th>\n",
       "      <th>count</th>\n",
       "    </tr>\n",
       "    <tr>\n",
       "      <th>uid</th>\n",
       "      <th></th>\n",
       "    </tr>\n",
       "  </thead>\n",
       "  <tbody>\n",
       "    <tr>\n",
       "      <th>blt4f5a77237fdcf7ac</th>\n",
       "      <td>16</td>\n",
       "    </tr>\n",
       "    <tr>\n",
       "      <th>blt6b9a467e86335399</th>\n",
       "      <td>16</td>\n",
       "    </tr>\n",
       "    <tr>\n",
       "      <th>bltf6d39871e12da4aa</th>\n",
       "      <td>16</td>\n",
       "    </tr>\n",
       "    <tr>\n",
       "      <th>blt73a6afc9343cbae0</th>\n",
       "      <td>16</td>\n",
       "    </tr>\n",
       "    <tr>\n",
       "      <th>blt5336bb9098c193cc</th>\n",
       "      <td>16</td>\n",
       "    </tr>\n",
       "    <tr>\n",
       "      <th>...</th>\n",
       "      <td>...</td>\n",
       "    </tr>\n",
       "    <tr>\n",
       "      <th>blt2ffdd94920cc8cb1</th>\n",
       "      <td>1</td>\n",
       "    </tr>\n",
       "    <tr>\n",
       "      <th>bltf039a1277cbf2890</th>\n",
       "      <td>1</td>\n",
       "    </tr>\n",
       "    <tr>\n",
       "      <th>bltadd2f7fc63d92055</th>\n",
       "      <td>1</td>\n",
       "    </tr>\n",
       "    <tr>\n",
       "      <th>bltcb76074d93061663</th>\n",
       "      <td>1</td>\n",
       "    </tr>\n",
       "    <tr>\n",
       "      <th>blt6f139583f2349fb2</th>\n",
       "      <td>1</td>\n",
       "    </tr>\n",
       "  </tbody>\n",
       "</table>\n",
       "<p>89 rows × 1 columns</p>\n",
       "</div>"
      ],
      "text/plain": [
       "                     count\n",
       "uid                       \n",
       "blt4f5a77237fdcf7ac     16\n",
       "blt6b9a467e86335399     16\n",
       "bltf6d39871e12da4aa     16\n",
       "blt73a6afc9343cbae0     16\n",
       "blt5336bb9098c193cc     16\n",
       "...                    ...\n",
       "blt2ffdd94920cc8cb1      1\n",
       "bltf039a1277cbf2890      1\n",
       "bltadd2f7fc63d92055      1\n",
       "bltcb76074d93061663      1\n",
       "blt6f139583f2349fb2      1\n",
       "\n",
       "[89 rows x 1 columns]"
      ]
     },
     "execution_count": 67,
     "metadata": {},
     "output_type": "execute_result"
    }
   ],
   "source": [
    "null_pct = df_raw[df_raw[col_nm].isna()].shape[0]/df_raw.shape[0]\n",
    "display(Markdown(f\"## Percentage of nulls {null_pct:.2%}\"))\n",
    "pd.DataFrame(df_raw[col_nm].value_counts())"
   ]
  },
  {
   "cell_type": "code",
   "execution_count": 68,
   "id": "31adaf4c-6ebb-4b12-b170-6739a74916e2",
   "metadata": {},
   "outputs": [
    {
     "data": {
      "text/markdown": [
       "# Analysis Column 31: updated_at"
      ],
      "text/plain": [
       "<IPython.core.display.Markdown object>"
      ]
     },
     "metadata": {},
     "output_type": "display_data"
    }
   ],
   "source": [
    "col_nm = df_raw.columns[col_idx]\n",
    "display(Markdown(f\"# Analysis Column {col_idx}: {col_nm}\"))\n",
    "col_idx += 1"
   ]
  },
  {
   "cell_type": "code",
   "execution_count": 69,
   "id": "813bd347-c260-490c-b8ce-339cf7c9cf20",
   "metadata": {},
   "outputs": [
    {
     "data": {
      "text/markdown": [
       "## Percentage of nulls 0.00%"
      ],
      "text/plain": [
       "<IPython.core.display.Markdown object>"
      ]
     },
     "metadata": {},
     "output_type": "display_data"
    },
    {
     "data": {
      "image/png": "[encoded data removed]",
      "text/plain": [
       "<Figure size 1500x500 with 1 Axes>"
      ]
     },
     "metadata": {},
     "output_type": "display_data"
    }
   ],
   "source": [
    "display(Markdown(f\"## Percentage of nulls {null_pct:.2%}\"))\n",
    "df_time_freq = pd.DataFrame(df_raw[col_nm].value_counts()).reset_index()\n",
    "df_time_freq['date'] = pd.to_datetime(df_time_freq[col_nm].str[:10]).dt.date\n",
    "df_date_freq = df_time_freq.groupby('date').sum('count')\n",
    "plt.figure(figsize=(15,5))\n",
    "plt.plot(df_date_freq)\n",
    "plt.xticks(rotation=90)\n",
    "pass"
   ]
  },
  {
   "cell_type": "code",
   "execution_count": 70,
   "id": "5602d87c-65b9-47cd-ac13-92bd49e33175",
   "metadata": {},
   "outputs": [
    {
     "data": {
      "text/markdown": [
       "# Analysis Column 32: updated_by"
      ],
      "text/plain": [
       "<IPython.core.display.Markdown object>"
      ]
     },
     "metadata": {},
     "output_type": "display_data"
    }
   ],
   "source": [
    "col_nm = df_raw.columns[col_idx]\n",
    "display(Markdown(f\"# Analysis Column {col_idx}: {col_nm}\"))\n",
    "col_idx += 1"
   ]
  },
  {
   "cell_type": "code",
   "execution_count": 71,
   "id": "c92c96df-35ac-447a-a3d4-2ba1fbb032eb",
   "metadata": {},
   "outputs": [
    {
     "data": {
      "text/markdown": [
       "## Percentage of nulls 0.00%"
      ],
      "text/plain": [
       "<IPython.core.display.Markdown object>"
      ]
     },
     "metadata": {},
     "output_type": "display_data"
    },
    {
     "data": {
      "text/html": [
       "<div>\n",
       "<style scoped>\n",
       "    .dataframe tbody tr th:only-of-type {\n",
       "        vertical-align: middle;\n",
       "    }\n",
       "\n",
       "    .dataframe tbody tr th {\n",
       "        vertical-align: top;\n",
       "    }\n",
       "\n",
       "    .dataframe thead th {\n",
       "        text-align: right;\n",
       "    }\n",
       "</style>\n",
       "<table border=\"1\" class=\"dataframe\">\n",
       "  <thead>\n",
       "    <tr style=\"text-align: right;\">\n",
       "      <th></th>\n",
       "      <th>count</th>\n",
       "    </tr>\n",
       "    <tr>\n",
       "      <th>updated_by</th>\n",
       "      <th></th>\n",
       "    </tr>\n",
       "  </thead>\n",
       "  <tbody>\n",
       "    <tr>\n",
       "      <th>blta65848e67b47489f</th>\n",
       "      <td>661</td>\n",
       "    </tr>\n",
       "  </tbody>\n",
       "</table>\n",
       "</div>"
      ],
      "text/plain": [
       "                     count\n",
       "updated_by                \n",
       "blta65848e67b47489f    661"
      ]
     },
     "execution_count": 71,
     "metadata": {},
     "output_type": "execute_result"
    }
   ],
   "source": [
    "null_pct = df_raw[df_raw[col_nm].isna()].shape[0]/df_raw.shape[0]\n",
    "display(Markdown(f\"## Percentage of nulls {null_pct:.2%}\"))\n",
    "pd.DataFrame(df_raw[col_nm].value_counts())"
   ]
  },
  {
   "cell_type": "code",
   "execution_count": 211,
   "id": "d4a9b5c1-425f-45fe-99cd-c368ef4315a2",
   "metadata": {},
   "outputs": [
    {
     "data": {
      "text/markdown": [
       "# Analysis Column 33: ingestion_timestamp"
      ],
      "text/plain": [
       "<IPython.core.display.Markdown object>"
      ]
     },
     "metadata": {},
     "output_type": "display_data"
    }
   ],
   "source": [
    "col_nm = df_raw.columns[col_idx]\n",
    "display(Markdown(f\"# Analysis Column {col_idx}: {col_nm}\"))\n",
    "col_idx += 1"
   ]
  },
  {
   "cell_type": "code",
   "execution_count": 212,
   "id": "5ed8df8f-e003-4471-ba11-37cf46e2836d",
   "metadata": {},
   "outputs": [
    {
     "data": {
      "text/markdown": [
       "## Percentage of nulls 0.00%"
      ],
      "text/plain": [
       "<IPython.core.display.Markdown object>"
      ]
     },
     "metadata": {},
     "output_type": "display_data"
    },
    {
     "data": {
      "image/png": "[encoded data removed]",
      "text/plain": [
       "<Figure size 640x480 with 1 Axes>"
      ]
     },
     "metadata": {},
     "output_type": "display_data"
    }
   ],
   "source": [
    "display(Markdown(f\"## Percentage of nulls {null_pct:.2%}\"))\n",
    "df_time_freq = pd.DataFrame(df_raw[col_nm].value_counts()).reset_index()\n",
    "df_time_freq['date'] = pd.to_datetime(df_time_freq[col_nm].str[:10]).dt.date\n",
    "df_date_freq = df_time_freq.groupby('date').sum('count')\n",
    "#plt.figure(figsize=(15,5))\n",
    "plt.plot(df_date_freq)\n",
    "plt.xticks(rotation=90)\n",
    "pass"
   ]
  },
  {
   "cell_type": "code",
   "execution_count": 213,
   "id": "566d78f1-9d15-4579-b54a-21729990fe37",
   "metadata": {},
   "outputs": [
    {
     "data": {
      "text/markdown": [
       "# Analysis Column 34: anomesdia"
      ],
      "text/plain": [
       "<IPython.core.display.Markdown object>"
      ]
     },
     "metadata": {},
     "output_type": "display_data"
    }
   ],
   "source": [
    "col_nm = df_raw.columns[col_idx]\n",
    "display(Markdown(f\"# Analysis Column {col_idx}: {col_nm}\"))\n",
    "col_idx += 1"
   ]
  },
  {
   "cell_type": "code",
   "execution_count": 214,
   "id": "4daa97d3-5217-4f3c-bbce-710456a275ab",
   "metadata": {},
   "outputs": [
    {
     "data": {
      "text/markdown": [
       "## Percentage of nulls 0.00%"
      ],
      "text/plain": [
       "<IPython.core.display.Markdown object>"
      ]
     },
     "metadata": {},
     "output_type": "display_data"
    },
    {
     "data": {
      "image/png": "[encoded data removed]",
      "text/plain": [
       "<Figure size 640x480 with 1 Axes>"
      ]
     },
     "metadata": {},
     "output_type": "display_data"
    }
   ],
   "source": [
    "display(Markdown(f\"## Percentage of nulls {null_pct:.2%}\"))\n",
    "df_time_freq = pd.DataFrame(df_raw[col_nm].value_counts()).reset_index().sort_values(col_nm)\n",
    "df_time_freq['date'] = pd.to_datetime(df_time_freq[col_nm].astype(str)).dt.date\n",
    "df_date_freq = pd.DataFrame(df_time_freq.groupby('date').sum('count')['count'])\n",
    "#plt.figure(figsize=(15,5))\n",
    "plt.plot(df_date_freq)\n",
    "plt.xticks(rotation=90)\n",
    "pass"
   ]
  },
  {
   "cell_type": "markdown",
   "id": "6774a727-3133-4364-8c10-876f72e9c7fa",
   "metadata": {},
   "source": [
    "# Next Steps\n",
    "* Create embeddings to questions and answers\n",
    "* Clustering analysis to experiment the best way to identify QnAs related to credit card benefits.\n",
    "* Clustering analysis to discover different answers semantically highly correlated.\n",
    "* Clustering analysis to discover different questions semantically highly correlated.\n",
    "* Analysis to properly relate questions and answers (is a simple similarity rank enough to related Q n A?"
   ]
  },
  {
   "cell_type": "code",
   "execution_count": null,
   "id": "6fb36dba-4f1c-42b7-b099-acd9abf0b6c0",
   "metadata": {},
   "outputs": [],
   "source": []
  }
 ],
 "metadata": {
  "kernelspec": {
   "display_name": "Python 3 (ipykernel)",
   "language": "python",
   "name": "python3"
  },
  "language_info": {
   "codemirror_mode": {
    "name": "ipython",
    "version": 3
   },
   "file_extension": ".py",
   "mimetype": "text/x-python",
   "name": "python",
   "nbconvert_exporter": "python",
   "pygments_lexer": "ipython3",
   "version": "3.12.3"
  }
 },
 "nbformat": 4,
 "nbformat_minor": 5
}
