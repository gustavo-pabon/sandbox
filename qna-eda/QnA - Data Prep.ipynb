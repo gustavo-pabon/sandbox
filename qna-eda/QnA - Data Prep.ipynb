{
 "cells": [
  {
   "cell_type": "code",
   "execution_count": 1,
   "id": "8e69db98-9da4-4ba5-986c-715e469ce0e2",
   "metadata": {},
   "outputs": [],
   "source": [
    "import pandas as pd"
   ]
  },
  {
   "cell_type": "code",
   "execution_count": 2,
   "id": "31071d7e-8c75-446a-8317-7b94bad68e19",
   "metadata": {},
   "outputs": [
    {
     "name": "stdout",
     "output_type": "stream",
     "text": [
      "Raw shape: (39796, 465)\n"
     ]
    }
   ],
   "source": [
    "df_raw = pd.read_csv(\n",
    "    \"local_data/raw_data_cms_3_teste_cleaned.csv\", \n",
    "    dtype={\n",
    "        'amigo contextualizada':str, \n",
    "        'atalhos':str,\n",
    "        'intencao contextualizada':str,\n",
    "        'relacionamentos':str,\n",
    "        'texto_botao_contextualizada':str,\n",
    "        'titulo_atalhos':str\n",
    "    }\n",
    ")\n",
    "print(f\"Raw shape: {df_raw.shape}\")"
   ]
  },
  {
   "cell_type": "markdown",
   "id": "cec97c5a-7da7-41c1-a9a5-491498bec65e",
   "metadata": {},
   "source": [
    "# Applying Known Filters\n",
    "* **Assunto:** benefícios\n",
    "* **Producto:** Cartão de Crédito\n",
    "* **Tags**: Is not *rascunho*"
   ]
  },
  {
   "cell_type": "code",
   "execution_count": 3,
   "id": "f1565bbc-7f30-4f46-8da6-d65abd770bec",
   "metadata": {},
   "outputs": [
    {
     "name": "stdout",
     "output_type": "stream",
     "text": [
      "(661, 465)\n"
     ]
    }
   ],
   "source": [
    "df_raw = df_raw[df_raw['assunto'] == 'benefícios']\n",
    "df_raw = df_raw[df_raw['produto'] == 'Cartão de Crédito']\n",
    "df_raw = df_raw[df_raw['tags'] != \"['rascunho']\"]\n",
    "print(df_raw.shape)"
   ]
  },
  {
   "cell_type": "markdown",
   "id": "8c4f68b0-6473-4975-a86b-efb59b92f1d8",
   "metadata": {},
   "source": [
    "# Use only relevant columns\n",
    "* **id:** Row Id from the original Dataset\n",
    "* **pergunta:** Question\n",
    "* **Resposta**: Answer\n",
    "* **tags**\n",
    "* **title**\n",
    "* **uid**: other id"
   ]
  },
  {
   "cell_type": "code",
   "execution_count": 4,
   "id": "24f43234-1092-4286-bf93-d4238f9f775c",
   "metadata": {},
   "outputs": [],
   "source": [
    "columns = ['id', 'pergunta', 'resposta', 'tags', 'title', 'uid']"
   ]
  },
  {
   "cell_type": "code",
   "execution_count": 5,
   "id": "b741cc32-13e6-477d-9e9a-72b3cc008c28",
   "metadata": {},
   "outputs": [
    {
     "data": {
      "text/html": [
       "<div>\n",
       "<style scoped>\n",
       "    .dataframe tbody tr th:only-of-type {\n",
       "        vertical-align: middle;\n",
       "    }\n",
       "\n",
       "    .dataframe tbody tr th {\n",
       "        vertical-align: top;\n",
       "    }\n",
       "\n",
       "    .dataframe thead th {\n",
       "        text-align: right;\n",
       "    }\n",
       "</style>\n",
       "<table border=\"1\" class=\"dataframe\">\n",
       "  <thead>\n",
       "    <tr style=\"text-align: right;\">\n",
       "      <th></th>\n",
       "      <th>id</th>\n",
       "      <th>pergunta</th>\n",
       "      <th>resposta</th>\n",
       "      <th>tags</th>\n",
       "      <th>title</th>\n",
       "      <th>uid</th>\n",
       "    </tr>\n",
       "  </thead>\n",
       "  <tbody>\n",
       "    <tr>\n",
       "      <th>17</th>\n",
       "      <td>17</td>\n",
       "      <td>Quais os benefícios dos cartões Click?</td>\n",
       "      <td>&lt;p&gt;&lt;strong&gt;Assunto: Benefícios do cartão de cr...</td>\n",
       "      <td>['final']</td>\n",
       "      <td>[PF] [Benefícios] [IA gen] Benefícios dos cart...</td>\n",
       "      <td>blt4f5a77237fdcf7ac</td>\n",
       "    </tr>\n",
       "    <tr>\n",
       "      <th>61</th>\n",
       "      <td>61</td>\n",
       "      <td>Meu cartão tem direito à sala vip?</td>\n",
       "      <td>&lt;p&gt;Dependendo do tipo de cartão, você tem aces...</td>\n",
       "      <td>[]</td>\n",
       "      <td>[PF] [Benefícios] [IA gen] Meu cartão tem dire...</td>\n",
       "      <td>blt1d112fef0d835dbf</td>\n",
       "    </tr>\n",
       "    <tr>\n",
       "      <th>68</th>\n",
       "      <td>68</td>\n",
       "      <td>Quais são os benefícios do cartão The One?</td>\n",
       "      <td>&lt;p&gt;&lt;strong&gt;O que é e como pedir o cartão The O...</td>\n",
       "      <td>[]</td>\n",
       "      <td>[PF] [Benefícios] [IA gen] Benefícios do cartã...</td>\n",
       "      <td>bltd9528ee11abd7873</td>\n",
       "    </tr>\n",
       "    <tr>\n",
       "      <th>69</th>\n",
       "      <td>69</td>\n",
       "      <td>Instituto Ayrton Senna Platinum (mastercard)</td>\n",
       "      <td>&lt;p&gt;Renda mínimaR$ 1.000,00&amp;nbsp;&lt;/p&gt;&lt;p&gt;Anuidad...</td>\n",
       "      <td>[]</td>\n",
       "      <td>[PF] [Benefícios] [IA gen] Instituto Ayrton Se...</td>\n",
       "      <td>bltd2bb3abc1adb7852</td>\n",
       "    </tr>\n",
       "    <tr>\n",
       "      <th>70</th>\n",
       "      <td>70</td>\n",
       "      <td>Instituto Ayrton Senna Platinum (visa)</td>\n",
       "      <td>&lt;p&gt;Renda mínima R$ 1.000,00&amp;nbsp;&lt;/p&gt;&lt;p&gt;Anuida...</td>\n",
       "      <td>[]</td>\n",
       "      <td>[PF] [Benefícios] [IA gen] Instituto Ayrton Se...</td>\n",
       "      <td>blt16b7d04514a969b3</td>\n",
       "    </tr>\n",
       "    <tr>\n",
       "      <th>...</th>\n",
       "      <td>...</td>\n",
       "      <td>...</td>\n",
       "      <td>...</td>\n",
       "      <td>...</td>\n",
       "      <td>...</td>\n",
       "      <td>...</td>\n",
       "    </tr>\n",
       "    <tr>\n",
       "      <th>34531</th>\n",
       "      <td>34531</td>\n",
       "      <td>Quais os benefícios dos cartões Vivo Platinum?</td>\n",
       "      <td>&lt;p&gt;Benefícios dos cartões Vivo Platinum&lt;/p&gt;&lt;p&gt;...</td>\n",
       "      <td>[]</td>\n",
       "      <td>[PF][Benefícios] [IA gen] Benefícios dos cartõ...</td>\n",
       "      <td>blt140f0b59f9a3cb76</td>\n",
       "    </tr>\n",
       "    <tr>\n",
       "      <th>34532</th>\n",
       "      <td>34532</td>\n",
       "      <td>Samsung Platinum</td>\n",
       "      <td>&lt;p&gt;Renda mínima R$ 1.500,00&lt;/p&gt;&lt;p&gt;&lt;/p&gt;&lt;p&gt;Anuid...</td>\n",
       "      <td>[]</td>\n",
       "      <td>[PF] [Benefícios] [IA gen] Samsung Platinum</td>\n",
       "      <td>blt5336bb9098c193cc</td>\n",
       "    </tr>\n",
       "    <tr>\n",
       "      <th>34533</th>\n",
       "      <td>34533</td>\n",
       "      <td>Decathlon Platinum</td>\n",
       "      <td>&lt;p&gt;Renda mínima R$ 800,00&lt;/p&gt;&lt;p&gt;Anuidade gráti...</td>\n",
       "      <td>[]</td>\n",
       "      <td>[PF] [Benefícios] [IA gen] Decathlon Platinum</td>\n",
       "      <td>blt73a6afc9343cbae0</td>\n",
       "    </tr>\n",
       "    <tr>\n",
       "      <th>34534</th>\n",
       "      <td>34534</td>\n",
       "      <td>Quais os benefícios dos cartões TIM?</td>\n",
       "      <td>&lt;p&gt;Benefícios dos cartões TIM&lt;/p&gt;&lt;p&gt;Informaçõe...</td>\n",
       "      <td>[]</td>\n",
       "      <td>[PF] [Benefícios] [IA gen] Benefícios dos cart...</td>\n",
       "      <td>bltd11ca24f97300331</td>\n",
       "    </tr>\n",
       "    <tr>\n",
       "      <th>34535</th>\n",
       "      <td>34535</td>\n",
       "      <td>Cartão Magalu Platinum (visa)</td>\n",
       "      <td>&lt;p&gt;Renda mínima R$ 800,00&amp;nbsp;&lt;/p&gt;&lt;p&gt;Anuidade...</td>\n",
       "      <td>[]</td>\n",
       "      <td>[PF] [Benefícios] [IA gen] Cartão Magalu Plati...</td>\n",
       "      <td>bltf6d39871e12da4aa</td>\n",
       "    </tr>\n",
       "  </tbody>\n",
       "</table>\n",
       "<p>661 rows × 6 columns</p>\n",
       "</div>"
      ],
      "text/plain": [
       "          id                                        pergunta  \\\n",
       "17        17          Quais os benefícios dos cartões Click?   \n",
       "61        61              Meu cartão tem direito à sala vip?   \n",
       "68        68      Quais são os benefícios do cartão The One?   \n",
       "69        69    Instituto Ayrton Senna Platinum (mastercard)   \n",
       "70        70          Instituto Ayrton Senna Platinum (visa)   \n",
       "...      ...                                             ...   \n",
       "34531  34531  Quais os benefícios dos cartões Vivo Platinum?   \n",
       "34532  34532                                Samsung Platinum   \n",
       "34533  34533                             Decathlon Platinum    \n",
       "34534  34534            Quais os benefícios dos cartões TIM?   \n",
       "34535  34535                   Cartão Magalu Platinum (visa)   \n",
       "\n",
       "                                                resposta       tags  \\\n",
       "17     <p><strong>Assunto: Benefícios do cartão de cr...  ['final']   \n",
       "61     <p>Dependendo do tipo de cartão, você tem aces...         []   \n",
       "68     <p><strong>O que é e como pedir o cartão The O...         []   \n",
       "69     <p>Renda mínimaR$ 1.000,00&nbsp;</p><p>Anuidad...         []   \n",
       "70     <p>Renda mínima R$ 1.000,00&nbsp;</p><p>Anuida...         []   \n",
       "...                                                  ...        ...   \n",
       "34531  <p>Benefícios dos cartões Vivo Platinum</p><p>...         []   \n",
       "34532  <p>Renda mínima R$ 1.500,00</p><p></p><p>Anuid...         []   \n",
       "34533  <p>Renda mínima R$ 800,00</p><p>Anuidade gráti...         []   \n",
       "34534  <p>Benefícios dos cartões TIM</p><p>Informaçõe...         []   \n",
       "34535  <p>Renda mínima R$ 800,00&nbsp;</p><p>Anuidade...         []   \n",
       "\n",
       "                                                   title                  uid  \n",
       "17     [PF] [Benefícios] [IA gen] Benefícios dos cart...  blt4f5a77237fdcf7ac  \n",
       "61     [PF] [Benefícios] [IA gen] Meu cartão tem dire...  blt1d112fef0d835dbf  \n",
       "68     [PF] [Benefícios] [IA gen] Benefícios do cartã...  bltd9528ee11abd7873  \n",
       "69     [PF] [Benefícios] [IA gen] Instituto Ayrton Se...  bltd2bb3abc1adb7852  \n",
       "70     [PF] [Benefícios] [IA gen] Instituto Ayrton Se...  blt16b7d04514a969b3  \n",
       "...                                                  ...                  ...  \n",
       "34531  [PF][Benefícios] [IA gen] Benefícios dos cartõ...  blt140f0b59f9a3cb76  \n",
       "34532        [PF] [Benefícios] [IA gen] Samsung Platinum  blt5336bb9098c193cc  \n",
       "34533      [PF] [Benefícios] [IA gen] Decathlon Platinum  blt73a6afc9343cbae0  \n",
       "34534  [PF] [Benefícios] [IA gen] Benefícios dos cart...  bltd11ca24f97300331  \n",
       "34535  [PF] [Benefícios] [IA gen] Cartão Magalu Plati...  bltf6d39871e12da4aa  \n",
       "\n",
       "[661 rows x 6 columns]"
      ]
     },
     "execution_count": 5,
     "metadata": {},
     "output_type": "execute_result"
    }
   ],
   "source": [
    "df_qna = df_raw[columns].copy()\n",
    "df_qna"
   ]
  },
  {
   "cell_type": "code",
   "execution_count": 6,
   "id": "c661a494-b6a5-407b-bbac-cce7d9e4e94a",
   "metadata": {},
   "outputs": [],
   "source": [
    "df_qna.to_csv(\"local_data/prepared.csv\", index=False)"
   ]
  },
  {
   "cell_type": "code",
   "execution_count": null,
   "id": "cbba9a91-70f6-4ad3-ab9e-4feac5d8c4fa",
   "metadata": {},
   "outputs": [],
   "source": []
  }
 ],
 "metadata": {
  "kernelspec": {
   "display_name": "Python 3 (ipykernel)",
   "language": "python",
   "name": "python3"
  },
  "language_info": {
   "codemirror_mode": {
    "name": "ipython",
    "version": 3
   },
   "file_extension": ".py",
   "mimetype": "text/x-python",
   "name": "python",
   "nbconvert_exporter": "python",
   "pygments_lexer": "ipython3",
   "version": "3.12.3"
  }
 },
 "nbformat": 4,
 "nbformat_minor": 5
}
