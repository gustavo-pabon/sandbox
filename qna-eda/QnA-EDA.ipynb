{
 "cells": [
  {
   "cell_type": "code",
   "execution_count": 41,
   "id": "fa466e97-fce2-45a7-9e03-eeabd6a41663",
   "metadata": {},
   "outputs": [],
   "source": [
    "import pandas as pd\n",
    "import matplotlib.pyplot as plt\n",
    "from IPython.display import display, Markdown"
   ]
  },
  {
   "cell_type": "code",
   "execution_count": 200,
   "id": "36f72491-be67-4256-8b81-a3c3a02e6c62",
   "metadata": {},
   "outputs": [
    {
     "name": "stdout",
     "output_type": "stream",
     "text": [
      "Raw shape: (39796, 465)\n",
      "Raw sample:\n",
      "CPU times: total: 2.17 s\n",
      "Wall time: 2.93 s\n"
     ]
    },
    {
     "data": {
      "text/html": [
       "<div>\n",
       "<style scoped>\n",
       "    .dataframe tbody tr th:only-of-type {\n",
       "        vertical-align: middle;\n",
       "    }\n",
       "\n",
       "    .dataframe tbody tr th {\n",
       "        vertical-align: top;\n",
       "    }\n",
       "\n",
       "    .dataframe thead th {\n",
       "        text-align: right;\n",
       "    }\n",
       "</style>\n",
       "<table border=\"1\" class=\"dataframe\">\n",
       "  <thead>\n",
       "    <tr style=\"text-align: right;\">\n",
       "      <th></th>\n",
       "      <th>id</th>\n",
       "      <th>amigo contextualizada</th>\n",
       "      <th>assunto</th>\n",
       "      <th>atalhos</th>\n",
       "      <th>canal</th>\n",
       "      <th>chave</th>\n",
       "      <th>created_at</th>\n",
       "      <th>created_by</th>\n",
       "      <th>faqs relacionadas</th>\n",
       "      <th>id vignette</th>\n",
       "      <th>...</th>\n",
       "      <th>Unnamed: 455</th>\n",
       "      <th>Unnamed: 456</th>\n",
       "      <th>Unnamed: 457</th>\n",
       "      <th>Unnamed: 458</th>\n",
       "      <th>Unnamed: 459</th>\n",
       "      <th>Unnamed: 460</th>\n",
       "      <th>Unnamed: 461</th>\n",
       "      <th>Unnamed: 462</th>\n",
       "      <th>Unnamed: 463</th>\n",
       "      <th>Unnamed: 464</th>\n",
       "    </tr>\n",
       "  </thead>\n",
       "  <tbody>\n",
       "    <tr>\n",
       "      <th>15779</th>\n",
       "      <td>15779</td>\n",
       "      <td>NaN</td>\n",
       "      <td>Detran SP</td>\n",
       "      <td>NaN</td>\n",
       "      <td>NaN</td>\n",
       "      <td></td>\n",
       "      <td>2021-05-14 18:38:17.723000+00:00</td>\n",
       "      <td>blt2db73e8283c60439</td>\n",
       "      <td>[]</td>\n",
       "      <td>NaN</td>\n",
       "      <td>...</td>\n",
       "      <td>NaN</td>\n",
       "      <td>NaN</td>\n",
       "      <td>NaN</td>\n",
       "      <td>NaN</td>\n",
       "      <td>NaN</td>\n",
       "      <td>NaN</td>\n",
       "      <td>NaN</td>\n",
       "      <td>NaN</td>\n",
       "      <td>NaN</td>\n",
       "      <td>NaN</td>\n",
       "    </tr>\n",
       "    <tr>\n",
       "      <th>37175</th>\n",
       "      <td>37175</td>\n",
       "      <td>NaN</td>\n",
       "      <td>iToken</td>\n",
       "      <td>[]</td>\n",
       "      <td>NaN</td>\n",
       "      <td>NaN</td>\n",
       "      <td>2023-03-14 15:53:25.222000+00:00</td>\n",
       "      <td>blt6e5ece5719920cc3</td>\n",
       "      <td>[]</td>\n",
       "      <td>NaN</td>\n",
       "      <td>...</td>\n",
       "      <td>NaN</td>\n",
       "      <td>NaN</td>\n",
       "      <td>NaN</td>\n",
       "      <td>NaN</td>\n",
       "      <td>NaN</td>\n",
       "      <td>NaN</td>\n",
       "      <td>NaN</td>\n",
       "      <td>NaN</td>\n",
       "      <td>NaN</td>\n",
       "      <td>NaN</td>\n",
       "    </tr>\n",
       "    <tr>\n",
       "      <th>11319</th>\n",
       "      <td>11319</td>\n",
       "      <td>NaN</td>\n",
       "      <td>Cheques</td>\n",
       "      <td>NaN</td>\n",
       "      <td>NaN</td>\n",
       "      <td>NaN</td>\n",
       "      <td>2021-10-22 21:38:10.566000+00:00</td>\n",
       "      <td>blt2d1fda930d804526</td>\n",
       "      <td>[]</td>\n",
       "      <td>NaN</td>\n",
       "      <td>...</td>\n",
       "      <td>NaN</td>\n",
       "      <td>NaN</td>\n",
       "      <td>NaN</td>\n",
       "      <td>NaN</td>\n",
       "      <td>NaN</td>\n",
       "      <td>NaN</td>\n",
       "      <td>NaN</td>\n",
       "      <td>NaN</td>\n",
       "      <td>NaN</td>\n",
       "      <td>NaN</td>\n",
       "    </tr>\n",
       "    <tr>\n",
       "      <th>39218</th>\n",
       "      <td>39218</td>\n",
       "      <td>NaN</td>\n",
       "      <td>contrato de conta pagamento</td>\n",
       "      <td>NaN</td>\n",
       "      <td>NaN</td>\n",
       "      <td>NaN</td>\n",
       "      <td>2022-11-09 15:23:08.905000+00:00</td>\n",
       "      <td>blt43949dc9b5ef8f15</td>\n",
       "      <td>[]</td>\n",
       "      <td>NaN</td>\n",
       "      <td>...</td>\n",
       "      <td>NaN</td>\n",
       "      <td>NaN</td>\n",
       "      <td>NaN</td>\n",
       "      <td>NaN</td>\n",
       "      <td>NaN</td>\n",
       "      <td>NaN</td>\n",
       "      <td>NaN</td>\n",
       "      <td>NaN</td>\n",
       "      <td>NaN</td>\n",
       "      <td>NaN</td>\n",
       "    </tr>\n",
       "    <tr>\n",
       "      <th>34800</th>\n",
       "      <td>34800</td>\n",
       "      <td>NaN</td>\n",
       "      <td>Boletos</td>\n",
       "      <td>NaN</td>\n",
       "      <td>NaN</td>\n",
       "      <td></td>\n",
       "      <td>2021-05-14 16:23:25.685000+00:00</td>\n",
       "      <td>blt2db73e8283c60439</td>\n",
       "      <td>[]</td>\n",
       "      <td>4226dda4ab984610VgnVCM1000009c3e3a0a____</td>\n",
       "      <td>...</td>\n",
       "      <td>NaN</td>\n",
       "      <td>NaN</td>\n",
       "      <td>NaN</td>\n",
       "      <td>NaN</td>\n",
       "      <td>NaN</td>\n",
       "      <td>NaN</td>\n",
       "      <td>NaN</td>\n",
       "      <td>NaN</td>\n",
       "      <td>NaN</td>\n",
       "      <td>NaN</td>\n",
       "    </tr>\n",
       "  </tbody>\n",
       "</table>\n",
       "<p>5 rows × 465 columns</p>\n",
       "</div>"
      ],
      "text/plain": [
       "          id amigo contextualizada                      assunto atalhos canal  \\\n",
       "15779  15779                   NaN                    Detran SP     NaN   NaN   \n",
       "37175  37175                   NaN                       iToken      []   NaN   \n",
       "11319  11319                   NaN                      Cheques     NaN   NaN   \n",
       "39218  39218                   NaN  contrato de conta pagamento     NaN   NaN   \n",
       "34800  34800                   NaN                      Boletos     NaN   NaN   \n",
       "\n",
       "      chave                        created_at           created_by  \\\n",
       "15779        2021-05-14 18:38:17.723000+00:00  blt2db73e8283c60439   \n",
       "37175   NaN  2023-03-14 15:53:25.222000+00:00  blt6e5ece5719920cc3   \n",
       "11319   NaN  2021-10-22 21:38:10.566000+00:00  blt2d1fda930d804526   \n",
       "39218   NaN  2022-11-09 15:23:08.905000+00:00  blt43949dc9b5ef8f15   \n",
       "34800        2021-05-14 16:23:25.685000+00:00  blt2db73e8283c60439   \n",
       "\n",
       "      faqs relacionadas                               id vignette  ...  \\\n",
       "15779                []                                       NaN  ...   \n",
       "37175                []                                       NaN  ...   \n",
       "11319                []                                       NaN  ...   \n",
       "39218                []                                       NaN  ...   \n",
       "34800                []  4226dda4ab984610VgnVCM1000009c3e3a0a____  ...   \n",
       "\n",
       "      Unnamed: 455 Unnamed: 456 Unnamed: 457 Unnamed: 458 Unnamed: 459  \\\n",
       "15779          NaN          NaN          NaN          NaN          NaN   \n",
       "37175          NaN          NaN          NaN          NaN          NaN   \n",
       "11319          NaN          NaN          NaN          NaN          NaN   \n",
       "39218          NaN          NaN          NaN          NaN          NaN   \n",
       "34800          NaN          NaN          NaN          NaN          NaN   \n",
       "\n",
       "      Unnamed: 460 Unnamed: 461 Unnamed: 462 Unnamed: 463 Unnamed: 464  \n",
       "15779          NaN          NaN          NaN          NaN          NaN  \n",
       "37175          NaN          NaN          NaN          NaN          NaN  \n",
       "11319          NaN          NaN          NaN          NaN          NaN  \n",
       "39218          NaN          NaN          NaN          NaN          NaN  \n",
       "34800          NaN          NaN          NaN          NaN          NaN  \n",
       "\n",
       "[5 rows x 465 columns]"
      ]
     },
     "execution_count": 200,
     "metadata": {},
     "output_type": "execute_result"
    }
   ],
   "source": [
    "%%time\n",
    "#df_raw = pd.read_excel(\"local_data/raw_data_cms_3_teste_source.xlsx\", \"raw_data_cms_2\")\n",
    "df_raw = pd.read_csv(\n",
    "    \"local_data/raw_data_cms_3_teste_cleaned.csv\", \n",
    "    dtype={\n",
    "        'amigo contextualizada':str, \n",
    "        'atalhos':str,\n",
    "        'intencao contextualizada':str,\n",
    "        'relacionamentos':str,\n",
    "        'texto_botao_contextualizada':str,\n",
    "        'titulo_atalhos':str\n",
    "    }\n",
    ")\n",
    "print(f\"Raw shape: {df_raw.shape}\")\n",
    "print(\"Raw sample:\")\n",
    "df_raw.sample(5)"
   ]
  },
  {
   "cell_type": "code",
   "execution_count": 132,
   "id": "5f81784d-2ac0-4d5a-bd1b-f9998d4a471a",
   "metadata": {},
   "outputs": [],
   "source": [
    "columns = df_raw.columns[:35]"
   ]
  },
  {
   "cell_type": "code",
   "execution_count": 133,
   "id": "2c9fc323-3f5c-47df-b4d8-925ee760edee",
   "metadata": {},
   "outputs": [],
   "source": [
    "col_idx = 0"
   ]
  },
  {
   "cell_type": "code",
   "execution_count": 134,
   "id": "23cb50c2-5b38-41ff-96f6-8f5e276c33d5",
   "metadata": {},
   "outputs": [
    {
     "data": {
      "text/markdown": [
       "# Analysis Column 0: id"
      ],
      "text/plain": [
       "<IPython.core.display.Markdown object>"
      ]
     },
     "metadata": {},
     "output_type": "display_data"
    }
   ],
   "source": [
    "col_nm = df_raw.columns[col_idx]\n",
    "display(Markdown(f\"# Analysis Column {col_idx}: {col_nm}\"))\n",
    "col_idx += 1"
   ]
  },
  {
   "cell_type": "code",
   "execution_count": 135,
   "id": "6a5330c6-a1df-4162-ae97-bd544ab7d086",
   "metadata": {},
   "outputs": [
    {
     "name": "stdout",
     "output_type": "stream",
     "text": [
      "Values of column id that are not numeric and occurs only once\n",
      "Empty DataFrame\n",
      "Columns: [id, count]\n",
      "Index: []\n",
      "\n",
      "Indexes and values of column id that are not numeric\n",
      "Errors found: 0\n"
     ]
    },
    {
     "data": {
      "text/plain": [
       "Series([], Name: id, dtype: int64)"
      ]
     },
     "execution_count": 135,
     "metadata": {},
     "output_type": "execute_result"
    }
   ],
   "source": [
    "df_col_freq = pd.DataFrame(df_raw[col_nm].value_counts()).reset_index()\n",
    "#df_col_freq[df_col_freq['count']>1]\n",
    "print(f\"Values of column {col_nm} that are not numeric and occurs only once\")\n",
    "print(df_col_freq[(df_col_freq['count']==1)&(~df_col_freq[col_nm].astype(str).str.isnumeric())])\n",
    "print()\n",
    "print(f\"Indexes and values of column {col_nm} that are not numeric\")\n",
    "df_err = df_raw.loc[~df_raw[col_nm].astype(str).str.isnumeric(),col_nm]\n",
    "print(f\"Errors found: {df_err.shape[0]}\")\n",
    "df_err"
   ]
  },
  {
   "cell_type": "markdown",
   "id": "396eefbc-6111-4f65-b21b-6f6065ce8ece",
   "metadata": {},
   "source": [
    "## Example of an error in column 1\n",
    "\n",
    "![](local_data/data_quality_issues.png \"Example of data quality issues\")"
   ]
  },
  {
   "cell_type": "code",
   "execution_count": 136,
   "id": "276e20a0-d4fc-4ad9-86ab-b9856648f16d",
   "metadata": {},
   "outputs": [
    {
     "data": {
      "text/markdown": [
       "# Analysis Column 1: amigo contextualizada"
      ],
      "text/plain": [
       "<IPython.core.display.Markdown object>"
      ]
     },
     "metadata": {},
     "output_type": "display_data"
    }
   ],
   "source": [
    "col_nm = df_raw.columns[col_idx]\n",
    "display(Markdown(f\"# Analysis Column {col_idx}: {col_nm}\"))\n",
    "col_idx += 1"
   ]
  },
  {
   "cell_type": "code",
   "execution_count": 137,
   "id": "6d041d2d-80a0-4b2e-aefe-0d607f35c20a",
   "metadata": {},
   "outputs": [
    {
     "data": {
      "text/html": [
       "<div>\n",
       "<style scoped>\n",
       "    .dataframe tbody tr th:only-of-type {\n",
       "        vertical-align: middle;\n",
       "    }\n",
       "\n",
       "    .dataframe tbody tr th {\n",
       "        vertical-align: top;\n",
       "    }\n",
       "\n",
       "    .dataframe thead th {\n",
       "        text-align: right;\n",
       "    }\n",
       "</style>\n",
       "<table border=\"1\" class=\"dataframe\">\n",
       "  <thead>\n",
       "    <tr style=\"text-align: right;\">\n",
       "      <th></th>\n",
       "      <th>amigo contextualizada</th>\n",
       "      <th>count</th>\n",
       "    </tr>\n",
       "  </thead>\n",
       "  <tbody>\n",
       "    <tr>\n",
       "      <th>0</th>\n",
       "      <td>cc1318f2-13ed-11e7-bd57-3307fe5296e4</td>\n",
       "      <td>452</td>\n",
       "    </tr>\n",
       "    <tr>\n",
       "      <th>1</th>\n",
       "      <td>81139d1d-aaa8-404d-9a0f-f4fee375a64a</td>\n",
       "      <td>204</td>\n",
       "    </tr>\n",
       "    <tr>\n",
       "      <th>2</th>\n",
       "      <td>eff55cf2-5e00-7d92-fa98-5fdb570b8319</td>\n",
       "      <td>64</td>\n",
       "    </tr>\n",
       "    <tr>\n",
       "      <th>3</th>\n",
       "      <td>6d908690-5004-9ebd-f939-d8295c2e6b3c</td>\n",
       "      <td>48</td>\n",
       "    </tr>\n",
       "    <tr>\n",
       "      <th>4</th>\n",
       "      <td>8d4b11ef-9a34-11e7-a9b4-7a4a71f757c3</td>\n",
       "      <td>16</td>\n",
       "    </tr>\n",
       "  </tbody>\n",
       "</table>\n",
       "</div>"
      ],
      "text/plain": [
       "                  amigo contextualizada  count\n",
       "0  cc1318f2-13ed-11e7-bd57-3307fe5296e4    452\n",
       "1  81139d1d-aaa8-404d-9a0f-f4fee375a64a    204\n",
       "2  eff55cf2-5e00-7d92-fa98-5fdb570b8319     64\n",
       "3  6d908690-5004-9ebd-f939-d8295c2e6b3c     48\n",
       "4  8d4b11ef-9a34-11e7-a9b4-7a4a71f757c3     16"
      ]
     },
     "execution_count": 137,
     "metadata": {},
     "output_type": "execute_result"
    }
   ],
   "source": [
    "pd.DataFrame(df_raw[col_nm].value_counts()).reset_index()"
   ]
  },
  {
   "cell_type": "code",
   "execution_count": 138,
   "id": "3791aa38-254c-4eb1-a212-442d6b93c625",
   "metadata": {},
   "outputs": [
    {
     "data": {
      "text/markdown": [
       "# Analysis Column 2: assunto"
      ],
      "text/plain": [
       "<IPython.core.display.Markdown object>"
      ]
     },
     "metadata": {},
     "output_type": "display_data"
    }
   ],
   "source": [
    "col_nm = df_raw.columns[col_idx]\n",
    "display(Markdown(f\"# Analysis Column {col_idx}: {col_nm}\"))\n",
    "col_idx += 1"
   ]
  },
  {
   "cell_type": "code",
   "execution_count": 139,
   "id": "6a4f39f9-9b39-46df-b70e-e51c798cd686",
   "metadata": {},
   "outputs": [
    {
     "data": {
      "image/png": "[encoded data removed]",
      "text/plain": [
       "<Figure size 3000x500 with 1 Axes>"
      ]
     },
     "metadata": {},
     "output_type": "display_data"
    }
   ],
   "source": [
    "df_values = df_raw[col_nm].value_counts()\n",
    "plt.figure(figsize=(30,5))\n",
    "plt.bar(x=df_values.index,height=df_values.values)\n",
    "plt.xticks(rotation=90, fontsize=8)\n",
    "pass\n"
   ]
  },
  {
   "cell_type": "markdown",
   "id": "b788bcd5-8f0e-4bf7-92fd-589f15ef4d36",
   "metadata": {},
   "source": [
    "## Highlights\n",
    "* Can we use `assunto` to filter all the QnA related to *Cartâo da crédito*?"
   ]
  },
  {
   "cell_type": "code",
   "execution_count": 140,
   "id": "df034e82-012e-4f8d-8656-0f467de2f237",
   "metadata": {},
   "outputs": [
    {
     "data": {
      "text/markdown": [
       "# Analysis Column 3: atalhos"
      ],
      "text/plain": [
       "<IPython.core.display.Markdown object>"
      ]
     },
     "metadata": {},
     "output_type": "display_data"
    }
   ],
   "source": [
    "col_nm = df_raw.columns[col_idx]\n",
    "display(Markdown(f\"# Analysis Column {col_idx}: {col_nm}\"))\n",
    "col_idx += 1"
   ]
  },
  {
   "cell_type": "code",
   "execution_count": 141,
   "id": "f2754b1a-096a-4ff5-a4b9-272fc794bc32",
   "metadata": {},
   "outputs": [
    {
     "data": {
      "text/markdown": [
       "## Percentage of nulls 75.89%"
      ],
      "text/plain": [
       "<IPython.core.display.Markdown object>"
      ]
     },
     "metadata": {},
     "output_type": "display_data"
    },
    {
     "data": {
      "text/html": [
       "<div>\n",
       "<style scoped>\n",
       "    .dataframe tbody tr th:only-of-type {\n",
       "        vertical-align: middle;\n",
       "    }\n",
       "\n",
       "    .dataframe tbody tr th {\n",
       "        vertical-align: top;\n",
       "    }\n",
       "\n",
       "    .dataframe thead th {\n",
       "        text-align: right;\n",
       "    }\n",
       "</style>\n",
       "<table border=\"1\" class=\"dataframe\">\n",
       "  <thead>\n",
       "    <tr style=\"text-align: right;\">\n",
       "      <th></th>\n",
       "      <th>count</th>\n",
       "    </tr>\n",
       "    <tr>\n",
       "      <th>atalhos</th>\n",
       "      <th></th>\n",
       "    </tr>\n",
       "  </thead>\n",
       "  <tbody>\n",
       "    <tr>\n",
       "      <th>[]</th>\n",
       "      <td>8848</td>\n",
       "    </tr>\n",
       "    <tr>\n",
       "      <th>[{'uid': 'blt9c7ea789646917e1', '_content_type_uid': 'atalhos_ca_atlas'}]</th>\n",
       "      <td>112</td>\n",
       "    </tr>\n",
       "    <tr>\n",
       "      <th>[{'uid': 'blt1cb0de381c4d6f48', '_content_type_uid': 'atalhos_ca_atlas'}]</th>\n",
       "      <td>80</td>\n",
       "    </tr>\n",
       "    <tr>\n",
       "      <th>[{'uid': 'blted65536d84c19fca', '_content_type_uid': 'atalhos_ca_atlas'}]</th>\n",
       "      <td>80</td>\n",
       "    </tr>\n",
       "    <tr>\n",
       "      <th>[{'uid': 'bltfc8cdb0bcc6cf78d', '_content_type_uid': 'atalhos_ca_atlas'}]</th>\n",
       "      <td>64</td>\n",
       "    </tr>\n",
       "    <tr>\n",
       "      <th>[{'uid': 'bltcab0a51024942c8a', '_content_type_uid': 'atalhos_ca_atlas'}]</th>\n",
       "      <td>48</td>\n",
       "    </tr>\n",
       "    <tr>\n",
       "      <th>[{'uid': 'blt177fa8d21bd562c3', '_content_type_uid': 'atalhos_ca_atlas'}]</th>\n",
       "      <td>48</td>\n",
       "    </tr>\n",
       "    <tr>\n",
       "      <th>[{'uid': 'blt3660329492b71226', '_content_type_uid': 'atalhos_ca_atlas'}]</th>\n",
       "      <td>46</td>\n",
       "    </tr>\n",
       "    <tr>\n",
       "      <th>[{'uid': 'blt23786df1e089ac20', '_content_type_uid': 'atalhos_ca_atlas'}]</th>\n",
       "      <td>32</td>\n",
       "    </tr>\n",
       "    <tr>\n",
       "      <th>[{'uid': 'blt65101c0c555cc59b', '_content_type_uid': 'atalhos_ca_atlas'}]</th>\n",
       "      <td>32</td>\n",
       "    </tr>\n",
       "    <tr>\n",
       "      <th>[{'uid': 'blt1fafff1db6e81526', '_content_type_uid': 'atalhos_ca_atlas'}, {'uid': 'blt3660329492b71226', '_content_type_uid': 'atalhos_ca_atlas'}]</th>\n",
       "      <td>27</td>\n",
       "    </tr>\n",
       "    <tr>\n",
       "      <th>[{'uid': 'blt2c7f691721311cb5', '_content_type_uid': 'atalhos_ca_atlas'}, {'uid': 'blt9c7ea789646917e1', '_content_type_uid': 'atalhos_ca_atlas'}]</th>\n",
       "      <td>16</td>\n",
       "    </tr>\n",
       "    <tr>\n",
       "      <th>[{'uid': 'bltf19a008257482c1a', '_content_type_uid': 'atalhos_ca_atlas'}]</th>\n",
       "      <td>16</td>\n",
       "    </tr>\n",
       "    <tr>\n",
       "      <th>[{'uid': 'bltc0b14f59de9df086', '_content_type_uid': 'atalhos_ca_atlas'}]</th>\n",
       "      <td>16</td>\n",
       "    </tr>\n",
       "    <tr>\n",
       "      <th>[{'uid': 'blted65536d84c19fca', '_content_type_uid': 'atalhos_ca_atlas'}, {'uid': 'bltfc8cdb0bcc6cf78d', '_content_type_uid': 'atalhos_ca_atlas'}]</th>\n",
       "      <td>16</td>\n",
       "    </tr>\n",
       "    <tr>\n",
       "      <th>[{'uid': 'blt99c2af8f7bb94fe0', '_content_type_uid': 'atalhos_ca_atlas'}]</th>\n",
       "      <td>16</td>\n",
       "    </tr>\n",
       "    <tr>\n",
       "      <th>[{'uid': 'blt177fa8d21bd562c3', '_content_type_uid': 'atalhos_ca_atlas'}, {'uid': 'blt1cb0de381c4d6f48', '_content_type_uid': 'atalhos_ca_atlas'}, {'uid': 'blt2c7f691721311cb5', '_content_type_uid': 'atalhos_ca_atlas'}]</th>\n",
       "      <td>16</td>\n",
       "    </tr>\n",
       "    <tr>\n",
       "      <th>[{'uid': 'blt2cbc9b8dde78cee6', '_content_type_uid': 'atalhos_ca_atlas'}]</th>\n",
       "      <td>16</td>\n",
       "    </tr>\n",
       "    <tr>\n",
       "      <th>[{'uid': 'blteb1fe7853bc6f9f1', '_content_type_uid': 'atalhos_ca_atlas'}]</th>\n",
       "      <td>16</td>\n",
       "    </tr>\n",
       "    <tr>\n",
       "      <th>[{'uid': 'blt3660329492b71226', '_content_type_uid': 'atalhos_ca_atlas'}, {'uid': 'blt1fafff1db6e81526', '_content_type_uid': 'atalhos_ca_atlas'}, {'uid': 'bltcab0a51024942c8a', '_content_type_uid': 'atalhos_ca_atlas'}]</th>\n",
       "      <td>16</td>\n",
       "    </tr>\n",
       "    <tr>\n",
       "      <th>[{'uid': 'bltcf653abfa3de37e8', '_content_type_uid': 'atalhos_ca_atlas'}]</th>\n",
       "      <td>16</td>\n",
       "    </tr>\n",
       "    <tr>\n",
       "      <th>[{'uid': 'blt3660329492b71226', '_content_type_uid': 'atalhos_ca_atlas'}, {'uid': 'blt1fafff1db6e81526', '_content_type_uid': 'atalhos_ca_atlas'}]</th>\n",
       "      <td>11</td>\n",
       "    </tr>\n",
       "    <tr>\n",
       "      <th>[{'uid': 'bltcab0a51024942c8a', '_content_type_uid': 'atalhos_ca_atlas'}, {'uid': 'blted65536d84c19fca', '_content_type_uid': 'atalhos_ca_atlas'}]</th>\n",
       "      <td>5</td>\n",
       "    </tr>\n",
       "    <tr>\n",
       "      <th>[{'uid': 'blt1fafff1db6e81526', '_content_type_uid': 'atalhos_ca_atlas'}]</th>\n",
       "      <td>1</td>\n",
       "    </tr>\n",
       "  </tbody>\n",
       "</table>\n",
       "</div>"
      ],
      "text/plain": [
       "                                                    count\n",
       "atalhos                                                  \n",
       "[]                                                   8848\n",
       "[{'uid': 'blt9c7ea789646917e1', '_content_type_...    112\n",
       "[{'uid': 'blt1cb0de381c4d6f48', '_content_type_...     80\n",
       "[{'uid': 'blted65536d84c19fca', '_content_type_...     80\n",
       "[{'uid': 'bltfc8cdb0bcc6cf78d', '_content_type_...     64\n",
       "[{'uid': 'bltcab0a51024942c8a', '_content_type_...     48\n",
       "[{'uid': 'blt177fa8d21bd562c3', '_content_type_...     48\n",
       "[{'uid': 'blt3660329492b71226', '_content_type_...     46\n",
       "[{'uid': 'blt23786df1e089ac20', '_content_type_...     32\n",
       "[{'uid': 'blt65101c0c555cc59b', '_content_type_...     32\n",
       "[{'uid': 'blt1fafff1db6e81526', '_content_type_...     27\n",
       "[{'uid': 'blt2c7f691721311cb5', '_content_type_...     16\n",
       "[{'uid': 'bltf19a008257482c1a', '_content_type_...     16\n",
       "[{'uid': 'bltc0b14f59de9df086', '_content_type_...     16\n",
       "[{'uid': 'blted65536d84c19fca', '_content_type_...     16\n",
       "[{'uid': 'blt99c2af8f7bb94fe0', '_content_type_...     16\n",
       "[{'uid': 'blt177fa8d21bd562c3', '_content_type_...     16\n",
       "[{'uid': 'blt2cbc9b8dde78cee6', '_content_type_...     16\n",
       "[{'uid': 'blteb1fe7853bc6f9f1', '_content_type_...     16\n",
       "[{'uid': 'blt3660329492b71226', '_content_type_...     16\n",
       "[{'uid': 'bltcf653abfa3de37e8', '_content_type_...     16\n",
       "[{'uid': 'blt3660329492b71226', '_content_type_...     11\n",
       "[{'uid': 'bltcab0a51024942c8a', '_content_type_...      5\n",
       "[{'uid': 'blt1fafff1db6e81526', '_content_type_...      1"
      ]
     },
     "execution_count": 141,
     "metadata": {},
     "output_type": "execute_result"
    }
   ],
   "source": [
    "null_pct = df_raw[df_raw[col_nm].isna()].shape[0]/df_raw.shape[0]\n",
    "display(Markdown(f\"## Percentage of nulls {null_pct:.2%}\"))\n",
    "pd.DataFrame(df_raw[col_nm].value_counts())"
   ]
  },
  {
   "cell_type": "code",
   "execution_count": 142,
   "id": "2392bc47-6a53-46ef-a56d-0620b7c6aafc",
   "metadata": {},
   "outputs": [
    {
     "data": {
      "text/markdown": [
       "# Analysis Column 4: canal"
      ],
      "text/plain": [
       "<IPython.core.display.Markdown object>"
      ]
     },
     "metadata": {},
     "output_type": "display_data"
    }
   ],
   "source": [
    "col_nm = df_raw.columns[col_idx]\n",
    "display(Markdown(f\"# Analysis Column {col_idx}: {col_nm}\"))\n",
    "col_idx += 1"
   ]
  },
  {
   "cell_type": "code",
   "execution_count": 143,
   "id": "10395a5f-02bd-4018-8779-18d0d70dc5cf",
   "metadata": {},
   "outputs": [
    {
     "data": {
      "text/markdown": [
       "## Percentage of nulls 97.60%"
      ],
      "text/plain": [
       "<IPython.core.display.Markdown object>"
      ]
     },
     "metadata": {},
     "output_type": "display_data"
    },
    {
     "data": {
      "text/html": [
       "<div>\n",
       "<style scoped>\n",
       "    .dataframe tbody tr th:only-of-type {\n",
       "        vertical-align: middle;\n",
       "    }\n",
       "\n",
       "    .dataframe tbody tr th {\n",
       "        vertical-align: top;\n",
       "    }\n",
       "\n",
       "    .dataframe thead th {\n",
       "        text-align: right;\n",
       "    }\n",
       "</style>\n",
       "<table border=\"1\" class=\"dataframe\">\n",
       "  <thead>\n",
       "    <tr style=\"text-align: right;\">\n",
       "      <th></th>\n",
       "      <th>count</th>\n",
       "    </tr>\n",
       "    <tr>\n",
       "      <th>canal</th>\n",
       "      <th></th>\n",
       "    </tr>\n",
       "  </thead>\n",
       "  <tbody>\n",
       "    <tr>\n",
       "      <th>537fb21b-3da3-4295-b99d-92d6227b2188</th>\n",
       "      <td>955</td>\n",
       "    </tr>\n",
       "  </tbody>\n",
       "</table>\n",
       "</div>"
      ],
      "text/plain": [
       "                                      count\n",
       "canal                                      \n",
       "537fb21b-3da3-4295-b99d-92d6227b2188    955"
      ]
     },
     "execution_count": 143,
     "metadata": {},
     "output_type": "execute_result"
    }
   ],
   "source": [
    "null_pct = df_raw[df_raw[col_nm].isna()].shape[0]/df_raw.shape[0]\n",
    "display(Markdown(f\"## Percentage of nulls {null_pct:.2%}\"))\n",
    "pd.DataFrame(df_raw[col_nm].value_counts())"
   ]
  },
  {
   "cell_type": "code",
   "execution_count": 144,
   "id": "9bdc41dd-4000-453a-accf-24aab576da71",
   "metadata": {},
   "outputs": [
    {
     "data": {
      "text/markdown": [
       "# Analysis Column 5: chave"
      ],
      "text/plain": [
       "<IPython.core.display.Markdown object>"
      ]
     },
     "metadata": {},
     "output_type": "display_data"
    }
   ],
   "source": [
    "col_nm = df_raw.columns[col_idx]\n",
    "display(Markdown(f\"# Analysis Column {col_idx}: {col_nm}\"))\n",
    "col_idx += 1"
   ]
  },
  {
   "cell_type": "code",
   "execution_count": 145,
   "id": "1c32427b-12eb-43e8-8827-14d83cdad381",
   "metadata": {},
   "outputs": [
    {
     "data": {
      "text/markdown": [
       "## Percentage of nulls 60.62%"
      ],
      "text/plain": [
       "<IPython.core.display.Markdown object>"
      ]
     },
     "metadata": {},
     "output_type": "display_data"
    },
    {
     "data": {
      "text/html": [
       "<div>\n",
       "<style scoped>\n",
       "    .dataframe tbody tr th:only-of-type {\n",
       "        vertical-align: middle;\n",
       "    }\n",
       "\n",
       "    .dataframe tbody tr th {\n",
       "        vertical-align: top;\n",
       "    }\n",
       "\n",
       "    .dataframe thead th {\n",
       "        text-align: right;\n",
       "    }\n",
       "</style>\n",
       "<table border=\"1\" class=\"dataframe\">\n",
       "  <thead>\n",
       "    <tr style=\"text-align: right;\">\n",
       "      <th></th>\n",
       "      <th>count</th>\n",
       "    </tr>\n",
       "    <tr>\n",
       "      <th>chave</th>\n",
       "      <th></th>\n",
       "    </tr>\n",
       "  </thead>\n",
       "  <tbody>\n",
       "    <tr>\n",
       "      <th></th>\n",
       "      <td>14836</td>\n",
       "    </tr>\n",
       "    <tr>\n",
       "      <th>cartao_credito</th>\n",
       "      <td>677</td>\n",
       "    </tr>\n",
       "    <tr>\n",
       "      <th>conta_corrente</th>\n",
       "      <td>16</td>\n",
       "    </tr>\n",
       "    <tr>\n",
       "      <th>cashback;</th>\n",
       "      <td>16</td>\n",
       "    </tr>\n",
       "    <tr>\n",
       "      <th>cancelar;excluir;cancelamento;canc;</th>\n",
       "      <td>16</td>\n",
       "    </tr>\n",
       "    <tr>\n",
       "      <th>cancelar;canc;cancelamento;cartao;cartão;quero;cancel;cancelar;cancelamento;cartao;cartão;</th>\n",
       "      <td>16</td>\n",
       "    </tr>\n",
       "    <tr>\n",
       "      <th>cancelamento; cancelar;</th>\n",
       "      <td>16</td>\n",
       "    </tr>\n",
       "    <tr>\n",
       "      <th>samsung;sansumg;samsungpay;pay;</th>\n",
       "      <td>16</td>\n",
       "    </tr>\n",
       "    <tr>\n",
       "      <th>NET_NEW_EMPRESTIMO</th>\n",
       "      <td>16</td>\n",
       "    </tr>\n",
       "    <tr>\n",
       "      <th>SPA/tributos</th>\n",
       "      <td>16</td>\n",
       "    </tr>\n",
       "    <tr>\n",
       "      <th>AtendimentoChat</th>\n",
       "      <td>15</td>\n",
       "    </tr>\n",
       "    <tr>\n",
       "      <th>cartao_debito</th>\n",
       "      <td>15</td>\n",
       "    </tr>\n",
       "  </tbody>\n",
       "</table>\n",
       "</div>"
      ],
      "text/plain": [
       "                                                    count\n",
       "chave                                                    \n",
       "                                                    14836\n",
       "cartao_credito                                        677\n",
       "conta_corrente                                         16\n",
       "cashback;                                              16\n",
       "cancelar;excluir;cancelamento;canc;                    16\n",
       "cancelar;canc;cancelamento;cartao;cartão;quero;...     16\n",
       "cancelamento; cancelar;                                16\n",
       "samsung;sansumg;samsungpay;pay;                        16\n",
       "NET_NEW_EMPRESTIMO                                     16\n",
       "SPA/tributos                                           16\n",
       "AtendimentoChat                                        15\n",
       "cartao_debito                                          15"
      ]
     },
     "execution_count": 145,
     "metadata": {},
     "output_type": "execute_result"
    }
   ],
   "source": [
    "null_pct = df_raw[df_raw[col_nm].isna()].shape[0]/df_raw.shape[0]\n",
    "display(Markdown(f\"## Percentage of nulls {null_pct:.2%}\"))\n",
    "pd.DataFrame(df_raw[col_nm].value_counts())"
   ]
  },
  {
   "cell_type": "code",
   "execution_count": 146,
   "id": "abc2f6fd-e11e-4fb9-8ae0-8cde330ba3a7",
   "metadata": {},
   "outputs": [
    {
     "data": {
      "text/markdown": [
       "# Analysis Column 6: created_at"
      ],
      "text/plain": [
       "<IPython.core.display.Markdown object>"
      ]
     },
     "metadata": {},
     "output_type": "display_data"
    }
   ],
   "source": [
    "col_nm = df_raw.columns[col_idx]\n",
    "display(Markdown(f\"# Analysis Column {col_idx}: {col_nm}\"))\n",
    "col_idx += 1"
   ]
  },
  {
   "cell_type": "code",
   "execution_count": 147,
   "id": "94d880ee-b648-4589-a72d-d2c7e3892529",
   "metadata": {},
   "outputs": [
    {
     "data": {
      "text/markdown": [
       "## Percentage of nulls 60.62%"
      ],
      "text/plain": [
       "<IPython.core.display.Markdown object>"
      ]
     },
     "metadata": {},
     "output_type": "display_data"
    },
    {
     "data": {
      "image/png": "[encoded data removed]",
      "text/plain": [
       "<Figure size 1500x500 with 1 Axes>"
      ]
     },
     "metadata": {},
     "output_type": "display_data"
    }
   ],
   "source": [
    "display(Markdown(f\"## Percentage of nulls {null_pct:.2%}\"))\n",
    "df_time_freq = pd.DataFrame(df_raw[col_nm].value_counts()).reset_index()\n",
    "df_time_freq['date'] = pd.to_datetime(df_time_freq[col_nm].str[:10]).dt.date\n",
    "df_date_freq = df_time_freq.groupby('date').sum('count')\n",
    "plt.figure(figsize=(15,5))\n",
    "plt.plot(df_date_freq)\n",
    "plt.xticks(rotation=90)\n",
    "pass"
   ]
  },
  {
   "cell_type": "code",
   "execution_count": 148,
   "id": "3f097798-8af4-4c9d-b710-3def5c688438",
   "metadata": {},
   "outputs": [
    {
     "data": {
      "text/markdown": [
       "# Analysis Column 7: created_by"
      ],
      "text/plain": [
       "<IPython.core.display.Markdown object>"
      ]
     },
     "metadata": {},
     "output_type": "display_data"
    }
   ],
   "source": [
    "col_nm = df_raw.columns[col_idx]\n",
    "display(Markdown(f\"# Analysis Column {col_idx}: {col_nm}\"))\n",
    "col_idx += 1"
   ]
  },
  {
   "cell_type": "code",
   "execution_count": 149,
   "id": "94e99e10-524a-4acf-bb2f-91efdbcd636e",
   "metadata": {},
   "outputs": [
    {
     "data": {
      "text/markdown": [
       "## Percentage of nulls 0.00%"
      ],
      "text/plain": [
       "<IPython.core.display.Markdown object>"
      ]
     },
     "metadata": {},
     "output_type": "display_data"
    },
    {
     "data": {
      "text/html": [
       "<div>\n",
       "<style scoped>\n",
       "    .dataframe tbody tr th:only-of-type {\n",
       "        vertical-align: middle;\n",
       "    }\n",
       "\n",
       "    .dataframe tbody tr th {\n",
       "        vertical-align: top;\n",
       "    }\n",
       "\n",
       "    .dataframe thead th {\n",
       "        text-align: right;\n",
       "    }\n",
       "</style>\n",
       "<table border=\"1\" class=\"dataframe\">\n",
       "  <thead>\n",
       "    <tr style=\"text-align: right;\">\n",
       "      <th></th>\n",
       "      <th>count</th>\n",
       "    </tr>\n",
       "    <tr>\n",
       "      <th>created_by</th>\n",
       "      <th></th>\n",
       "    </tr>\n",
       "  </thead>\n",
       "  <tbody>\n",
       "    <tr>\n",
       "      <th>blt43949dc9b5ef8f15</th>\n",
       "      <td>11648</td>\n",
       "    </tr>\n",
       "    <tr>\n",
       "      <th>blt2db73e8283c60439</th>\n",
       "      <td>11038</td>\n",
       "    </tr>\n",
       "    <tr>\n",
       "      <th>bltd75c6b984fa6718a</th>\n",
       "      <td>2701</td>\n",
       "    </tr>\n",
       "    <tr>\n",
       "      <th>blt2d1fda930d804526</th>\n",
       "      <td>1568</td>\n",
       "    </tr>\n",
       "    <tr>\n",
       "      <th>bltc73d2b6ddc340f5e</th>\n",
       "      <td>1481</td>\n",
       "    </tr>\n",
       "    <tr>\n",
       "      <th>bltd497be6c16d95e78</th>\n",
       "      <td>1107</td>\n",
       "    </tr>\n",
       "    <tr>\n",
       "      <th>bltba2205a2253a3d3e</th>\n",
       "      <td>1074</td>\n",
       "    </tr>\n",
       "    <tr>\n",
       "      <th>blt397cfef5a3267435</th>\n",
       "      <td>1008</td>\n",
       "    </tr>\n",
       "    <tr>\n",
       "      <th>blt6e5ece5719920cc3</th>\n",
       "      <td>974</td>\n",
       "    </tr>\n",
       "    <tr>\n",
       "      <th>blt12345ce8145dba43</th>\n",
       "      <td>970</td>\n",
       "    </tr>\n",
       "    <tr>\n",
       "      <th>blta65848e67b47489f</th>\n",
       "      <td>718</td>\n",
       "    </tr>\n",
       "    <tr>\n",
       "      <th>blt9331085030cf37d6</th>\n",
       "      <td>685</td>\n",
       "    </tr>\n",
       "    <tr>\n",
       "      <th>blt643c073ebc5f7a2e</th>\n",
       "      <td>672</td>\n",
       "    </tr>\n",
       "    <tr>\n",
       "      <th>blt882749c0616d51f4</th>\n",
       "      <td>648</td>\n",
       "    </tr>\n",
       "    <tr>\n",
       "      <th>blt0a7c1ba68f13341c</th>\n",
       "      <td>576</td>\n",
       "    </tr>\n",
       "    <tr>\n",
       "      <th>bltde2006cc113db001</th>\n",
       "      <td>496</td>\n",
       "    </tr>\n",
       "    <tr>\n",
       "      <th>blt8bc3626525a55876</th>\n",
       "      <td>492</td>\n",
       "    </tr>\n",
       "    <tr>\n",
       "      <th>blt2275bed96045a04a</th>\n",
       "      <td>463</td>\n",
       "    </tr>\n",
       "    <tr>\n",
       "      <th>blt97d1f819c6ea0445</th>\n",
       "      <td>448</td>\n",
       "    </tr>\n",
       "    <tr>\n",
       "      <th>blt14d8669af5b89ac8</th>\n",
       "      <td>247</td>\n",
       "    </tr>\n",
       "    <tr>\n",
       "      <th>bltc6cc486f6033a3e8</th>\n",
       "      <td>240</td>\n",
       "    </tr>\n",
       "    <tr>\n",
       "      <th>blt70edb28e2d8db26b</th>\n",
       "      <td>213</td>\n",
       "    </tr>\n",
       "    <tr>\n",
       "      <th>bltcf1455b9d5ce5e64</th>\n",
       "      <td>136</td>\n",
       "    </tr>\n",
       "    <tr>\n",
       "      <th>blt9739457121e093b8</th>\n",
       "      <td>64</td>\n",
       "    </tr>\n",
       "    <tr>\n",
       "      <th>blt493a4374621c886d</th>\n",
       "      <td>62</td>\n",
       "    </tr>\n",
       "    <tr>\n",
       "      <th>bltab075c6e1467fd1b</th>\n",
       "      <td>32</td>\n",
       "    </tr>\n",
       "    <tr>\n",
       "      <th>blt964069fb8bf93085</th>\n",
       "      <td>16</td>\n",
       "    </tr>\n",
       "    <tr>\n",
       "      <th>bltb6badb09e573f55a</th>\n",
       "      <td>16</td>\n",
       "    </tr>\n",
       "    <tr>\n",
       "      <th>bltae2d416d8f9c0970</th>\n",
       "      <td>3</td>\n",
       "    </tr>\n",
       "  </tbody>\n",
       "</table>\n",
       "</div>"
      ],
      "text/plain": [
       "                     count\n",
       "created_by                \n",
       "blt43949dc9b5ef8f15  11648\n",
       "blt2db73e8283c60439  11038\n",
       "bltd75c6b984fa6718a   2701\n",
       "blt2d1fda930d804526   1568\n",
       "bltc73d2b6ddc340f5e   1481\n",
       "bltd497be6c16d95e78   1107\n",
       "bltba2205a2253a3d3e   1074\n",
       "blt397cfef5a3267435   1008\n",
       "blt6e5ece5719920cc3    974\n",
       "blt12345ce8145dba43    970\n",
       "blta65848e67b47489f    718\n",
       "blt9331085030cf37d6    685\n",
       "blt643c073ebc5f7a2e    672\n",
       "blt882749c0616d51f4    648\n",
       "blt0a7c1ba68f13341c    576\n",
       "bltde2006cc113db001    496\n",
       "blt8bc3626525a55876    492\n",
       "blt2275bed96045a04a    463\n",
       "blt97d1f819c6ea0445    448\n",
       "blt14d8669af5b89ac8    247\n",
       "bltc6cc486f6033a3e8    240\n",
       "blt70edb28e2d8db26b    213\n",
       "bltcf1455b9d5ce5e64    136\n",
       "blt9739457121e093b8     64\n",
       "blt493a4374621c886d     62\n",
       "bltab075c6e1467fd1b     32\n",
       "blt964069fb8bf93085     16\n",
       "bltb6badb09e573f55a     16\n",
       "bltae2d416d8f9c0970      3"
      ]
     },
     "execution_count": 149,
     "metadata": {},
     "output_type": "execute_result"
    }
   ],
   "source": [
    "null_pct = df_raw[df_raw[col_nm].isna()].shape[0]/df_raw.shape[0]\n",
    "display(Markdown(f\"## Percentage of nulls {null_pct:.2%}\"))\n",
    "pd.DataFrame(df_raw[col_nm].value_counts())"
   ]
  },
  {
   "cell_type": "code",
   "execution_count": 150,
   "id": "733e7994-26e0-42f3-9aeb-c0a384d866af",
   "metadata": {},
   "outputs": [
    {
     "data": {
      "text/markdown": [
       "# Analysis Column 8: faqs relacionadas"
      ],
      "text/plain": [
       "<IPython.core.display.Markdown object>"
      ]
     },
     "metadata": {},
     "output_type": "display_data"
    }
   ],
   "source": [
    "col_nm = df_raw.columns[col_idx]\n",
    "display(Markdown(f\"# Analysis Column {col_idx}: {col_nm}\"))\n",
    "col_idx += 1"
   ]
  },
  {
   "cell_type": "code",
   "execution_count": 151,
   "id": "dc8124a4-1f94-448a-b638-1c3ed9b97a9e",
   "metadata": {},
   "outputs": [
    {
     "data": {
      "text/markdown": [
       "## Percentage of nulls 0.00%"
      ],
      "text/plain": [
       "<IPython.core.display.Markdown object>"
      ]
     },
     "metadata": {},
     "output_type": "display_data"
    },
    {
     "data": {
      "text/html": [
       "<div>\n",
       "<style scoped>\n",
       "    .dataframe tbody tr th:only-of-type {\n",
       "        vertical-align: middle;\n",
       "    }\n",
       "\n",
       "    .dataframe tbody tr th {\n",
       "        vertical-align: top;\n",
       "    }\n",
       "\n",
       "    .dataframe thead th {\n",
       "        text-align: right;\n",
       "    }\n",
       "</style>\n",
       "<table border=\"1\" class=\"dataframe\">\n",
       "  <thead>\n",
       "    <tr style=\"text-align: right;\">\n",
       "      <th></th>\n",
       "      <th>count</th>\n",
       "    </tr>\n",
       "    <tr>\n",
       "      <th>faqs relacionadas</th>\n",
       "      <th></th>\n",
       "    </tr>\n",
       "  </thead>\n",
       "  <tbody>\n",
       "    <tr>\n",
       "      <th>[]</th>\n",
       "      <td>39620</td>\n",
       "    </tr>\n",
       "    <tr>\n",
       "      <th>[{'uid': 'bltf7c13ec6ef28f358', '_content_type_uid': 'faq_mobile'}, {'uid': 'bltf06532869fa4c38e', '_content_type_uid': 'faq_mobile'}]</th>\n",
       "      <td>16</td>\n",
       "    </tr>\n",
       "    <tr>\n",
       "      <th>[{'uid': 'bltf7c13ec6ef28f358', '_content_type_uid': 'faq_mobile'}, {'uid': 'blt62ecbca423a5a8e0', '_content_type_uid': 'faq_mobile'}, {'uid': 'blt91524d7402640131', '_content_type_uid': 'faq_mobile'}, {'uid': 'blt66ae64cf963fa8ae', '_content_type_uid': 'faq_mobile'}]</th>\n",
       "      <td>16</td>\n",
       "    </tr>\n",
       "    <tr>\n",
       "      <th>[{'uid': 'bltf06532869fa4c38e', '_content_type_uid': 'faq_mobile'}, {'uid': 'blt909c5e8ef68f157a', '_content_type_uid': 'faq_mobile'}, {'uid': 'blt366d4f37df23fa7b', '_content_type_uid': 'faq_mobile'}, {'uid': 'blta74b8a06920ac2e3', '_content_type_uid': 'faq_mobile'}, {'uid': 'blt0fe745980e40780a', '_content_type_uid': 'faq_mobile'}, {'uid': 'blt62ecbca423a5a8e0', '_content_type_uid': 'faq_mobile'}, {'uid': 'bltbfbbd21cc372d89e', '_content_type_uid': 'faq_mobile'}]</th>\n",
       "      <td>16</td>\n",
       "    </tr>\n",
       "    <tr>\n",
       "      <th>[{'uid': 'blt62ecbca423a5a8e0', '_content_type_uid': 'faq_mobile'}, {'uid': 'blt366d4f37df23fa7b', '_content_type_uid': 'faq_mobile'}, {'uid': 'blt23c43c80d0f4952d', '_content_type_uid': 'faq_mobile'}, {'uid': 'blt91524d7402640131', '_content_type_uid': 'faq_mobile'}, {'uid': 'blt66ae64cf963fa8ae', '_content_type_uid': 'faq_mobile'}, {'uid': 'blt0fe745980e40780a', '_content_type_uid': 'faq_mobile'}]</th>\n",
       "      <td>16</td>\n",
       "    </tr>\n",
       "    <tr>\n",
       "      <th>[{'uid': 'blt62ecbca423a5a8e0', '_content_type_uid': 'faq_mobile'}, {'uid': 'blt366d4f37df23fa7b', '_content_type_uid': 'faq_mobile'}, {'uid': 'blt91524d7402640131', '_content_type_uid': 'faq_mobile'}, {'uid': 'bltbfbbd21cc372d89e', '_content_type_uid': 'faq_mobile'}, {'uid': 'blt66ae64cf963fa8ae', '_content_type_uid': 'faq_mobile'}, {'uid': 'blt909c5e8ef68f157a', '_content_type_uid': 'faq_mobile'}]</th>\n",
       "      <td>16</td>\n",
       "    </tr>\n",
       "    <tr>\n",
       "      <th>[{'uid': 'blt909c5e8ef68f157a', '_content_type_uid': 'faq_mobile'}, {'uid': 'blt3def68746dd59293', '_content_type_uid': 'faq_mobile'}, {'uid': 'blt8e34ed22367060df', '_content_type_uid': 'faq_mobile'}, {'uid': 'blt195f84befd9c1fb6', '_content_type_uid': 'faq_mobile'}, {'uid': 'blt74f4156fbe8691b4', '_content_type_uid': 'faq_mobile'}, {'uid': 'bltbff31660497f8d43', '_content_type_uid': 'faq_mobile'}, {'uid': 'blt53a27d143b179e3d', '_content_type_uid': 'faq_mobile'}, {'uid': 'blt20b5028cd497b8a3', '_content_type_uid': 'faq_mobile'}, {'uid': 'blt62ecbca423a5a8e0', '_content_type_uid': 'faq_mobile'}, {'uid': 'blt366d4f37df23fa7b', '_content_type_uid': 'faq_mobile'}, {'uid': 'blt91524d7402640131', '_content_type_uid': 'faq_mobile'}]</th>\n",
       "      <td>16</td>\n",
       "    </tr>\n",
       "    <tr>\n",
       "      <th>[{'uid': 'blt38000e7331c44987', '_content_type_uid': 'faq_mobile'}, {'uid': 'blt91524d7402640131', '_content_type_uid': 'faq_mobile'}, {'uid': 'bltf7c13ec6ef28f358', '_content_type_uid': 'faq_mobile'}, {'uid': 'bltf06532869fa4c38e', '_content_type_uid': 'faq_mobile'}, {'uid': 'blt909c5e8ef68f157a', '_content_type_uid': 'faq_mobile'}, {'uid': 'blt366d4f37df23fa7b', '_content_type_uid': 'faq_mobile'}]</th>\n",
       "      <td>16</td>\n",
       "    </tr>\n",
       "    <tr>\n",
       "      <th>[{'uid': 'bltf7c13ec6ef28f358', '_content_type_uid': 'faq_mobile'}, {'uid': 'bltf06532869fa4c38e', '_content_type_uid': 'faq_mobile'}, {'uid': 'blt909c5e8ef68f157a', '_content_type_uid': 'faq_mobile'}, {'uid': 'blt366d4f37df23fa7b', '_content_type_uid': 'faq_mobile'}, {'uid': 'blt62ecbca423a5a8e0', '_content_type_uid': 'faq_mobile'}]</th>\n",
       "      <td>16</td>\n",
       "    </tr>\n",
       "    <tr>\n",
       "      <th>[{'uid': 'blt366d4f37df23fa7b', '_content_type_uid': 'faq_mobile'}, {'uid': 'blt909c5e8ef68f157a', '_content_type_uid': 'faq_mobile'}, {'uid': 'blt62ecbca423a5a8e0', '_content_type_uid': 'faq_mobile'}, {'uid': 'blt91524d7402640131', '_content_type_uid': 'faq_mobile'}, {'uid': 'bltbfbbd21cc372d89e', '_content_type_uid': 'faq_mobile'}, {'uid': 'bltf06532869fa4c38e', '_content_type_uid': 'faq_mobile'}, {'uid': 'blt80c84773b6bee4e5', '_content_type_uid': 'faq_mobile'}, {'uid': 'bltf7c13ec6ef28f358', '_content_type_uid': 'faq_mobile'}]</th>\n",
       "      <td>16</td>\n",
       "    </tr>\n",
       "    <tr>\n",
       "      <th>[{'uid': 'bltf7c13ec6ef28f358', '_content_type_uid': 'faq_mobile'}, {'uid': 'bltf06532869fa4c38e', '_content_type_uid': 'faq_mobile'}, {'uid': 'bltbfbbd21cc372d89e', '_content_type_uid': 'faq_mobile'}, {'uid': 'blt66ae64cf963fa8ae', '_content_type_uid': 'faq_mobile'}]</th>\n",
       "      <td>16</td>\n",
       "    </tr>\n",
       "    <tr>\n",
       "      <th>[{'uid': 'blt781310619e07aaf0', '_content_type_uid': 'faq_mobile'}]</th>\n",
       "      <td>16</td>\n",
       "    </tr>\n",
       "  </tbody>\n",
       "</table>\n",
       "</div>"
      ],
      "text/plain": [
       "                                                    count\n",
       "faqs relacionadas                                        \n",
       "[]                                                  39620\n",
       "[{'uid': 'bltf7c13ec6ef28f358', '_content_type_...     16\n",
       "[{'uid': 'bltf7c13ec6ef28f358', '_content_type_...     16\n",
       "[{'uid': 'bltf06532869fa4c38e', '_content_type_...     16\n",
       "[{'uid': 'blt62ecbca423a5a8e0', '_content_type_...     16\n",
       "[{'uid': 'blt62ecbca423a5a8e0', '_content_type_...     16\n",
       "[{'uid': 'blt909c5e8ef68f157a', '_content_type_...     16\n",
       "[{'uid': 'blt38000e7331c44987', '_content_type_...     16\n",
       "[{'uid': 'bltf7c13ec6ef28f358', '_content_type_...     16\n",
       "[{'uid': 'blt366d4f37df23fa7b', '_content_type_...     16\n",
       "[{'uid': 'bltf7c13ec6ef28f358', '_content_type_...     16\n",
       "[{'uid': 'blt781310619e07aaf0', '_content_type_...     16"
      ]
     },
     "execution_count": 151,
     "metadata": {},
     "output_type": "execute_result"
    }
   ],
   "source": [
    "null_pct = df_raw[df_raw[col_nm].isna()].shape[0]/df_raw.shape[0]\n",
    "display(Markdown(f\"## Percentage of nulls {null_pct:.2%}\"))\n",
    "pd.DataFrame(df_raw[col_nm].value_counts())"
   ]
  },
  {
   "cell_type": "code",
   "execution_count": 152,
   "id": "16193c9f-707e-42cc-8a70-1e658d184b59",
   "metadata": {},
   "outputs": [
    {
     "data": {
      "text/markdown": [
       "# Analysis Column 9: id vignette"
      ],
      "text/plain": [
       "<IPython.core.display.Markdown object>"
      ]
     },
     "metadata": {},
     "output_type": "display_data"
    }
   ],
   "source": [
    "col_nm = df_raw.columns[col_idx]\n",
    "display(Markdown(f\"# Analysis Column {col_idx}: {col_nm}\"))\n",
    "col_idx += 1"
   ]
  },
  {
   "cell_type": "code",
   "execution_count": 153,
   "id": "8ad4fa2d-5727-4a60-aac3-c133d67d1cc2",
   "metadata": {},
   "outputs": [
    {
     "data": {
      "text/markdown": [
       "## Percentage of nulls 80.10%"
      ],
      "text/plain": [
       "<IPython.core.display.Markdown object>"
      ]
     },
     "metadata": {},
     "output_type": "display_data"
    },
    {
     "data": {
      "text/html": [
       "<div>\n",
       "<style scoped>\n",
       "    .dataframe tbody tr th:only-of-type {\n",
       "        vertical-align: middle;\n",
       "    }\n",
       "\n",
       "    .dataframe tbody tr th {\n",
       "        vertical-align: top;\n",
       "    }\n",
       "\n",
       "    .dataframe thead th {\n",
       "        text-align: right;\n",
       "    }\n",
       "</style>\n",
       "<table border=\"1\" class=\"dataframe\">\n",
       "  <thead>\n",
       "    <tr style=\"text-align: right;\">\n",
       "      <th></th>\n",
       "      <th>count</th>\n",
       "    </tr>\n",
       "    <tr>\n",
       "      <th>id vignette</th>\n",
       "      <th></th>\n",
       "    </tr>\n",
       "  </thead>\n",
       "  <tbody>\n",
       "    <tr>\n",
       "      <th>552404ef5e506710VgnVCM1000009c3e3a0a____</th>\n",
       "      <td>331</td>\n",
       "    </tr>\n",
       "    <tr>\n",
       "      <th>4c5b9efc995e1710VgnVCM1000009c3e3a0a____</th>\n",
       "      <td>239</td>\n",
       "    </tr>\n",
       "    <tr>\n",
       "      <th>48cd08b5a52b5710VgnVCM1000009c3e3a0a____</th>\n",
       "      <td>96</td>\n",
       "    </tr>\n",
       "    <tr>\n",
       "      <th>388d685f942c7610VgnVCM1000009c3e3a0a____</th>\n",
       "      <td>80</td>\n",
       "    </tr>\n",
       "    <tr>\n",
       "      <th>c08192fa525d4710VgnVCM2000009d3e3a0a____</th>\n",
       "      <td>79</td>\n",
       "    </tr>\n",
       "    <tr>\n",
       "      <th>...</th>\n",
       "      <td>...</td>\n",
       "    </tr>\n",
       "    <tr>\n",
       "      <th>97de85145b526710VgnVCM1000009c3e3a0a____</th>\n",
       "      <td>13</td>\n",
       "    </tr>\n",
       "    <tr>\n",
       "      <th>eb70b4b5e6dde510VgnVCM1000009c3e3a0a____</th>\n",
       "      <td>11</td>\n",
       "    </tr>\n",
       "    <tr>\n",
       "      <th>36fbb9f2b161f510VgnVCM1000009c3e3a0a____</th>\n",
       "      <td>5</td>\n",
       "    </tr>\n",
       "    <tr>\n",
       "      <th>3fcd64c41def8710VgnVCM1000009c3e3a0a____</th>\n",
       "      <td>5</td>\n",
       "    </tr>\n",
       "    <tr>\n",
       "      <th>b96d64c41def8710VgnVCM1000009c3e3a0a____</th>\n",
       "      <td>5</td>\n",
       "    </tr>\n",
       "  </tbody>\n",
       "</table>\n",
       "<p>459 rows × 1 columns</p>\n",
       "</div>"
      ],
      "text/plain": [
       "                                          count\n",
       "id vignette                                    \n",
       "552404ef5e506710VgnVCM1000009c3e3a0a____    331\n",
       "4c5b9efc995e1710VgnVCM1000009c3e3a0a____    239\n",
       "48cd08b5a52b5710VgnVCM1000009c3e3a0a____     96\n",
       "388d685f942c7610VgnVCM1000009c3e3a0a____     80\n",
       "c08192fa525d4710VgnVCM2000009d3e3a0a____     79\n",
       "...                                         ...\n",
       "97de85145b526710VgnVCM1000009c3e3a0a____     13\n",
       "eb70b4b5e6dde510VgnVCM1000009c3e3a0a____     11\n",
       "36fbb9f2b161f510VgnVCM1000009c3e3a0a____      5\n",
       "3fcd64c41def8710VgnVCM1000009c3e3a0a____      5\n",
       "b96d64c41def8710VgnVCM1000009c3e3a0a____      5\n",
       "\n",
       "[459 rows x 1 columns]"
      ]
     },
     "execution_count": 153,
     "metadata": {},
     "output_type": "execute_result"
    }
   ],
   "source": [
    "null_pct = df_raw[df_raw[col_nm].isna()].shape[0]/df_raw.shape[0]\n",
    "display(Markdown(f\"## Percentage of nulls {null_pct:.2%}\"))\n",
    "pd.DataFrame(df_raw[col_nm].value_counts())"
   ]
  },
  {
   "cell_type": "code",
   "execution_count": 154,
   "id": "dc5e78bc-e859-4643-84d5-05b267c72202",
   "metadata": {},
   "outputs": [
    {
     "data": {
      "text/markdown": [
       "# Analysis Column 10: intencao contextualizada"
      ],
      "text/plain": [
       "<IPython.core.display.Markdown object>"
      ]
     },
     "metadata": {},
     "output_type": "display_data"
    }
   ],
   "source": [
    "col_nm = df_raw.columns[col_idx]\n",
    "display(Markdown(f\"# Analysis Column {col_idx}: {col_nm}\"))\n",
    "col_idx += 1"
   ]
  },
  {
   "cell_type": "code",
   "execution_count": 155,
   "id": "cce824a4-5466-4ebf-a152-d5f134f860d0",
   "metadata": {},
   "outputs": [
    {
     "data": {
      "text/markdown": [
       "## Percentage of nulls 98.03%"
      ],
      "text/plain": [
       "<IPython.core.display.Markdown object>"
      ]
     },
     "metadata": {},
     "output_type": "display_data"
    },
    {
     "data": {
      "text/html": [
       "<div>\n",
       "<style scoped>\n",
       "    .dataframe tbody tr th:only-of-type {\n",
       "        vertical-align: middle;\n",
       "    }\n",
       "\n",
       "    .dataframe tbody tr th {\n",
       "        vertical-align: top;\n",
       "    }\n",
       "\n",
       "    .dataframe thead th {\n",
       "        text-align: right;\n",
       "    }\n",
       "</style>\n",
       "<table border=\"1\" class=\"dataframe\">\n",
       "  <thead>\n",
       "    <tr style=\"text-align: right;\">\n",
       "      <th></th>\n",
       "      <th>count</th>\n",
       "    </tr>\n",
       "    <tr>\n",
       "      <th>intencao contextualizada</th>\n",
       "      <th></th>\n",
       "    </tr>\n",
       "  </thead>\n",
       "  <tbody>\n",
       "    <tr>\n",
       "      <th>#Oi, quero consultar meu título de capitalização</th>\n",
       "      <td>32</td>\n",
       "    </tr>\n",
       "    <tr>\n",
       "      <th>#Oi, quero antecipar as parcelas do meu empréstimo</th>\n",
       "      <td>32</td>\n",
       "    </tr>\n",
       "    <tr>\n",
       "      <th>#Oi, preciso recuperar uma senha.</th>\n",
       "      <td>32</td>\n",
       "    </tr>\n",
       "    <tr>\n",
       "      <th>#Oi, Quero consultar meu pacote de serviços!</th>\n",
       "      <td>32</td>\n",
       "    </tr>\n",
       "    <tr>\n",
       "      <th>#oi, quero bloquear meu cartão de crédito</th>\n",
       "      <td>24</td>\n",
       "    </tr>\n",
       "    <tr>\n",
       "      <th>#simular avaliação emergencial de crédito</th>\n",
       "      <td>20</td>\n",
       "    </tr>\n",
       "    <tr>\n",
       "      <th>#Oi, quero cancelar meu adiantamento a depositante</th>\n",
       "      <td>16</td>\n",
       "    </tr>\n",
       "    <tr>\n",
       "      <th>#Oi, quero a 2ª via do boleto de consórcio</th>\n",
       "      <td>16</td>\n",
       "    </tr>\n",
       "    <tr>\n",
       "      <th>#Oi, preciso da 2 via do cartão de debito</th>\n",
       "      <td>16</td>\n",
       "    </tr>\n",
       "    <tr>\n",
       "      <th>#Oi, quero simular um empréstimo</th>\n",
       "      <td>16</td>\n",
       "    </tr>\n",
       "    <tr>\n",
       "      <th>#Oi, quero consultar o sinistro</th>\n",
       "      <td>16</td>\n",
       "    </tr>\n",
       "    <tr>\n",
       "      <th>#Oi, quero consultar os dados do financiamento do meu veículo</th>\n",
       "      <td>16</td>\n",
       "    </tr>\n",
       "    <tr>\n",
       "      <th>#Oi, quero antecipar as parcelas do meu financiamento de veículo</th>\n",
       "      <td>16</td>\n",
       "    </tr>\n",
       "    <tr>\n",
       "      <th>#Oi, quero a segunda via do boleto de financiamento de veículo</th>\n",
       "      <td>16</td>\n",
       "    </tr>\n",
       "    <tr>\n",
       "      <th>#Investimentos</th>\n",
       "      <td>16</td>\n",
       "    </tr>\n",
       "    <tr>\n",
       "      <th>#Parcelar fatura do cartão de crédito</th>\n",
       "      <td>16</td>\n",
       "    </tr>\n",
       "    <tr>\n",
       "      <th>#Oi, quero rastrear a entrega do cartão</th>\n",
       "      <td>16</td>\n",
       "    </tr>\n",
       "    <tr>\n",
       "      <th>#Oi, quero habilitar o iToken.</th>\n",
       "      <td>16</td>\n",
       "    </tr>\n",
       "    <tr>\n",
       "      <th>#Oi, quero cadastrar a chave Pix</th>\n",
       "      <td>16</td>\n",
       "    </tr>\n",
       "    <tr>\n",
       "      <th>#informações sobre o INSS</th>\n",
       "      <td>16</td>\n",
       "    </tr>\n",
       "    <tr>\n",
       "      <th>#entrega do cartão de crédito</th>\n",
       "      <td>16</td>\n",
       "    </tr>\n",
       "    <tr>\n",
       "      <th>#quero aumentar o limite do cartão de crédito</th>\n",
       "      <td>16</td>\n",
       "    </tr>\n",
       "    <tr>\n",
       "      <th>#simular empréstimo</th>\n",
       "      <td>16</td>\n",
       "    </tr>\n",
       "    <tr>\n",
       "      <th>#Alterar dados cadastrais</th>\n",
       "      <td>16</td>\n",
       "    </tr>\n",
       "    <tr>\n",
       "      <th>#oi, quero a segunda via do cartão de crédito</th>\n",
       "      <td>16</td>\n",
       "    </tr>\n",
       "    <tr>\n",
       "      <th>#Alterar o limite do cheque especial.</th>\n",
       "      <td>16</td>\n",
       "    </tr>\n",
       "    <tr>\n",
       "      <th>#Desbloquear cartão de débito.</th>\n",
       "      <td>16</td>\n",
       "    </tr>\n",
       "    <tr>\n",
       "      <th>#Quero simular uma renegociação</th>\n",
       "      <td>16</td>\n",
       "    </tr>\n",
       "    <tr>\n",
       "      <th>#Oi, quero consultar meu cheque especial</th>\n",
       "      <td>16</td>\n",
       "    </tr>\n",
       "    <tr>\n",
       "      <th>#Oi, quero saber quanto falta pagar do financiamento imobiliário</th>\n",
       "      <td>16</td>\n",
       "    </tr>\n",
       "    <tr>\n",
       "      <th>#Elegibilidade do FGTS do financiamento de imóvel</th>\n",
       "      <td>16</td>\n",
       "    </tr>\n",
       "    <tr>\n",
       "      <th>#Oi, quero simular a amortização do financiamento imobiliário</th>\n",
       "      <td>16</td>\n",
       "    </tr>\n",
       "    <tr>\n",
       "      <th>#Oi, poderia me enviar o boleto do financiamento imobiliário?</th>\n",
       "      <td>16</td>\n",
       "    </tr>\n",
       "    <tr>\n",
       "      <th>#Oi, qual o status da proposta do financiamento imobiliário?</th>\n",
       "      <td>16</td>\n",
       "    </tr>\n",
       "    <tr>\n",
       "      <th>#Oi, quero simular o crédito imobiliário</th>\n",
       "      <td>16</td>\n",
       "    </tr>\n",
       "    <tr>\n",
       "      <th>#consultar limite do cartão de crédito</th>\n",
       "      <td>16</td>\n",
       "    </tr>\n",
       "    <tr>\n",
       "      <th>#Oi, quero contratar o limite da conta</th>\n",
       "      <td>16</td>\n",
       "    </tr>\n",
       "    <tr>\n",
       "      <th>#Oi, quero bloquear meu cartão de débito</th>\n",
       "      <td>16</td>\n",
       "    </tr>\n",
       "    <tr>\n",
       "      <th>#Oi, quero alterar meu pacote de serviços</th>\n",
       "      <td>16</td>\n",
       "    </tr>\n",
       "    <tr>\n",
       "      <th>#Consultar código de barras da fatura</th>\n",
       "      <td>16</td>\n",
       "    </tr>\n",
       "    <tr>\n",
       "      <th>#Oi, preciso habilitar o iToken.</th>\n",
       "      <td>16</td>\n",
       "    </tr>\n",
       "    <tr>\n",
       "      <th>#oi, quero a segunda via da fatura</th>\n",
       "      <td>16</td>\n",
       "    </tr>\n",
       "    <tr>\n",
       "      <th>#minha compra foi negada</th>\n",
       "      <td>16</td>\n",
       "    </tr>\n",
       "    <tr>\n",
       "      <th>#Oi, Preciso cancelar meu cheque especial!</th>\n",
       "      <td>16</td>\n",
       "    </tr>\n",
       "    <tr>\n",
       "      <th>#Informe de Rendimentos</th>\n",
       "      <td>4</td>\n",
       "    </tr>\n",
       "  </tbody>\n",
       "</table>\n",
       "</div>"
      ],
      "text/plain": [
       "                                                    count\n",
       "intencao contextualizada                                 \n",
       "#Oi, quero consultar meu título de capitalização       32\n",
       "#Oi, quero antecipar as parcelas do meu empréstimo     32\n",
       "#Oi, preciso recuperar uma senha.                      32\n",
       "#Oi, Quero consultar meu pacote de serviços!           32\n",
       "#oi, quero bloquear meu cartão de crédito              24\n",
       "#simular avaliação emergencial de crédito              20\n",
       "#Oi, quero cancelar meu adiantamento a depositante     16\n",
       "#Oi, quero a 2ª via do boleto de consórcio             16\n",
       "#Oi, preciso da 2 via do cartão de debito              16\n",
       "#Oi, quero simular um empréstimo                       16\n",
       "#Oi, quero consultar o sinistro                        16\n",
       "#Oi, quero consultar os dados do financiamento ...     16\n",
       "#Oi, quero antecipar as parcelas do meu financi...     16\n",
       "#Oi, quero a segunda via do boleto de financiam...     16\n",
       "#Investimentos                                         16\n",
       "#Parcelar fatura do cartão de crédito                  16\n",
       "#Oi, quero rastrear a entrega do cartão                16\n",
       "#Oi, quero habilitar o iToken.                         16\n",
       "#Oi, quero cadastrar a chave Pix                       16\n",
       "#informações sobre o INSS                              16\n",
       "#entrega do cartão de crédito                          16\n",
       "#quero aumentar o limite do cartão de crédito          16\n",
       "#simular empréstimo                                    16\n",
       "#Alterar dados cadastrais                              16\n",
       "#oi, quero a segunda via do cartão de crédito          16\n",
       "#Alterar o limite do cheque especial.                  16\n",
       "#Desbloquear cartão de débito.                         16\n",
       "#Quero simular uma renegociação                        16\n",
       "#Oi, quero consultar meu cheque especial               16\n",
       "#Oi, quero saber quanto falta pagar do financia...     16\n",
       "#Elegibilidade do FGTS do financiamento de imóvel      16\n",
       "#Oi, quero simular a amortização do financiamen...     16\n",
       "#Oi, poderia me enviar o boleto do financiament...     16\n",
       "#Oi, qual o status da proposta do financiamento...     16\n",
       "#Oi, quero simular o crédito imobiliário               16\n",
       "#consultar limite do cartão de crédito                 16\n",
       "#Oi, quero contratar o limite da conta                 16\n",
       "#Oi, quero bloquear meu cartão de débito               16\n",
       "#Oi, quero alterar meu pacote de serviços              16\n",
       "#Consultar código de barras da fatura                  16\n",
       "#Oi, preciso habilitar o iToken.                       16\n",
       "#oi, quero a segunda via da fatura                     16\n",
       "#minha compra foi negada                               16\n",
       "#Oi, Preciso cancelar meu cheque especial!             16\n",
       "#Informe de Rendimentos                                 4"
      ]
     },
     "execution_count": 155,
     "metadata": {},
     "output_type": "execute_result"
    }
   ],
   "source": [
    "null_pct = df_raw[df_raw[col_nm].isna()].shape[0]/df_raw.shape[0]\n",
    "display(Markdown(f\"## Percentage of nulls {null_pct:.2%}\"))\n",
    "pd.DataFrame(df_raw[col_nm].value_counts())"
   ]
  },
  {
   "cell_type": "code",
   "execution_count": 157,
   "id": "b573a357-77cc-4a25-8f76-689edb1c4b3e",
   "metadata": {},
   "outputs": [
    {
     "data": {
      "text/markdown": [
       "# Analysis Column 11: menus"
      ],
      "text/plain": [
       "<IPython.core.display.Markdown object>"
      ]
     },
     "metadata": {},
     "output_type": "display_data"
    }
   ],
   "source": [
    "col_nm = df_raw.columns[col_idx]\n",
    "display(Markdown(f\"# Analysis Column {col_idx}: {col_nm}\"))\n",
    "col_idx += 1"
   ]
  },
  {
   "cell_type": "code",
   "execution_count": 158,
   "id": "c925647f-8ce3-44da-955b-c33cc7bcff0d",
   "metadata": {},
   "outputs": [
    {
     "data": {
      "text/markdown": [
       "## Percentage of nulls 60.86%"
      ],
      "text/plain": [
       "<IPython.core.display.Markdown object>"
      ]
     },
     "metadata": {},
     "output_type": "display_data"
    },
    {
     "data": {
      "text/html": [
       "<div>\n",
       "<style scoped>\n",
       "    .dataframe tbody tr th:only-of-type {\n",
       "        vertical-align: middle;\n",
       "    }\n",
       "\n",
       "    .dataframe tbody tr th {\n",
       "        vertical-align: top;\n",
       "    }\n",
       "\n",
       "    .dataframe thead th {\n",
       "        text-align: right;\n",
       "    }\n",
       "</style>\n",
       "<table border=\"1\" class=\"dataframe\">\n",
       "  <thead>\n",
       "    <tr style=\"text-align: right;\">\n",
       "      <th></th>\n",
       "      <th>count</th>\n",
       "    </tr>\n",
       "    <tr>\n",
       "      <th>menus</th>\n",
       "      <th></th>\n",
       "    </tr>\n",
       "  </thead>\n",
       "  <tbody>\n",
       "    <tr>\n",
       "      <th></th>\n",
       "      <td>15559</td>\n",
       "    </tr>\n",
       "    <tr>\n",
       "      <th>SPA/tributos</th>\n",
       "      <td>16</td>\n",
       "    </tr>\n",
       "  </tbody>\n",
       "</table>\n",
       "</div>"
      ],
      "text/plain": [
       "              count\n",
       "menus              \n",
       "              15559\n",
       "SPA/tributos     16"
      ]
     },
     "execution_count": 158,
     "metadata": {},
     "output_type": "execute_result"
    }
   ],
   "source": [
    "null_pct = df_raw[df_raw[col_nm].isna()].shape[0]/df_raw.shape[0]\n",
    "display(Markdown(f\"## Percentage of nulls {null_pct:.2%}\"))\n",
    "pd.DataFrame(df_raw[col_nm].value_counts())"
   ]
  },
  {
   "cell_type": "code",
   "execution_count": 159,
   "id": "7aecb1ea-ab8e-45cd-ad08-0ce20583bea6",
   "metadata": {},
   "outputs": [
    {
     "data": {
      "text/markdown": [
       "# Analysis Column 12: palavras chave"
      ],
      "text/plain": [
       "<IPython.core.display.Markdown object>"
      ]
     },
     "metadata": {},
     "output_type": "display_data"
    }
   ],
   "source": [
    "col_nm = df_raw.columns[col_idx]\n",
    "display(Markdown(f\"# Analysis Column {col_idx}: {col_nm}\"))\n",
    "col_idx += 1"
   ]
  },
  {
   "cell_type": "code",
   "execution_count": 160,
   "id": "6959d8f9-9c2c-41d4-a1c5-a77b2492618d",
   "metadata": {},
   "outputs": [
    {
     "data": {
      "text/markdown": [
       "## Percentage of nulls 69.73%"
      ],
      "text/plain": [
       "<IPython.core.display.Markdown object>"
      ]
     },
     "metadata": {},
     "output_type": "display_data"
    },
    {
     "data": {
      "text/html": [
       "<div>\n",
       "<style scoped>\n",
       "    .dataframe tbody tr th:only-of-type {\n",
       "        vertical-align: middle;\n",
       "    }\n",
       "\n",
       "    .dataframe tbody tr th {\n",
       "        vertical-align: top;\n",
       "    }\n",
       "\n",
       "    .dataframe thead th {\n",
       "        text-align: right;\n",
       "    }\n",
       "</style>\n",
       "<table border=\"1\" class=\"dataframe\">\n",
       "  <thead>\n",
       "    <tr style=\"text-align: right;\">\n",
       "      <th></th>\n",
       "      <th>count</th>\n",
       "    </tr>\n",
       "    <tr>\n",
       "      <th>palavras chave</th>\n",
       "      <th></th>\n",
       "    </tr>\n",
       "  </thead>\n",
       "  <tbody>\n",
       "    <tr>\n",
       "      <th>débitoautomático/debitoautomatico;debito aumentatico;</th>\n",
       "      <td>160</td>\n",
       "    </tr>\n",
       "    <tr>\n",
       "      <th>carteiras digitais;carteiras;carteira;carteira digital;apple pay;apple;samsung pay;samsung;google pay;google;wallet;pagar por aproximação;aproximação;nfc;carteirasdigitais;carteiradigital;applepay;samsungpay;googlepay;pagarporaproximação;aproximacao;</th>\n",
       "      <td>144</td>\n",
       "    </tr>\n",
       "    <tr>\n",
       "      <th>contest;contestar;contestação;contestacao;contestarcompras;contestarcomp;compranegada;compraneg;problemascomacompra;compraprobl;problemacompra;</th>\n",
       "      <td>144</td>\n",
       "    </tr>\n",
       "    <tr>\n",
       "      <th>segunda via;cartão digital;carteira digital;cardless;via digital;</th>\n",
       "      <td>142</td>\n",
       "    </tr>\n",
       "    <tr>\n",
       "      <th>máquina;maquina;maquininha;rede;maquineta;agenda;recebível;recebivel;recebiveis;credito;antecipar;anteci;</th>\n",
       "      <td>112</td>\n",
       "    </tr>\n",
       "    <tr>\n",
       "      <th>...</th>\n",
       "      <td>...</td>\n",
       "    </tr>\n",
       "    <tr>\n",
       "      <th>parcelamento da fatura; fatura; renegociar cartão; parcelar cartão;</th>\n",
       "      <td>1</td>\n",
       "    </tr>\n",
       "    <tr>\n",
       "      <th>apple pay; samsung pay; google pay; carteira digital; pagamento com celular; cartão no celular; celular; cartão</th>\n",
       "      <td>1</td>\n",
       "    </tr>\n",
       "    <tr>\n",
       "      <th>carteira digital; apple pay; google pay; samsung pay</th>\n",
       "      <td>1</td>\n",
       "    </tr>\n",
       "    <tr>\n",
       "      <th>iphone; limite; iphone para sempre; limite para compras</th>\n",
       "      <td>1</td>\n",
       "    </tr>\n",
       "    <tr>\n",
       "      <th>fatura; pagamento; compra parcelada; parcelas</th>\n",
       "      <td>1</td>\n",
       "    </tr>\n",
       "  </tbody>\n",
       "</table>\n",
       "<p>629 rows × 1 columns</p>\n",
       "</div>"
      ],
      "text/plain": [
       "                                                    count\n",
       "palavras chave                                           \n",
       "débitoautomático/debitoautomatico;debito aument...    160\n",
       "carteiras digitais;carteiras;carteira;carteira ...    144\n",
       "contest;contestar;contestação;contestacao;conte...    144\n",
       "segunda via;cartão digital;carteira digital;car...    142\n",
       "máquina;maquina;maquininha;rede;maquineta;agend...    112\n",
       "...                                                   ...\n",
       "parcelamento da fatura; fatura; renegociar cart...      1\n",
       "apple pay; samsung pay; google pay; carteira di...      1\n",
       "carteira digital; apple pay; google pay; samsun...      1\n",
       "iphone; limite; iphone para sempre; limite para...      1\n",
       "fatura; pagamento; compra parcelada; parcelas           1\n",
       "\n",
       "[629 rows x 1 columns]"
      ]
     },
     "execution_count": 160,
     "metadata": {},
     "output_type": "execute_result"
    }
   ],
   "source": [
    "null_pct = df_raw[df_raw[col_nm].isna()].shape[0]/df_raw.shape[0]\n",
    "display(Markdown(f\"## Percentage of nulls {null_pct:.2%}\"))\n",
    "pd.DataFrame(df_raw[col_nm].value_counts())"
   ]
  },
  {
   "cell_type": "code",
   "execution_count": 161,
   "id": "0c7d6e4b-5d9f-4f25-b70a-9b1d60b0858f",
   "metadata": {},
   "outputs": [
    {
     "data": {
      "text/markdown": [
       "# Analysis Column 13: pergunta"
      ],
      "text/plain": [
       "<IPython.core.display.Markdown object>"
      ]
     },
     "metadata": {},
     "output_type": "display_data"
    }
   ],
   "source": [
    "col_nm = df_raw.columns[col_idx]\n",
    "display(Markdown(f\"# Analysis Column {col_idx}: {col_nm}\"))\n",
    "col_idx += 1"
   ]
  },
  {
   "cell_type": "code",
   "execution_count": 162,
   "id": "43f2012a-e9ac-4f33-915b-06afefa80c19",
   "metadata": {},
   "outputs": [
    {
     "data": {
      "text/markdown": [
       "## Percentage of nulls 0.00%"
      ],
      "text/plain": [
       "<IPython.core.display.Markdown object>"
      ]
     },
     "metadata": {},
     "output_type": "display_data"
    },
    {
     "data": {
      "text/html": [
       "<div>\n",
       "<style scoped>\n",
       "    .dataframe tbody tr th:only-of-type {\n",
       "        vertical-align: middle;\n",
       "    }\n",
       "\n",
       "    .dataframe tbody tr th {\n",
       "        vertical-align: top;\n",
       "    }\n",
       "\n",
       "    .dataframe thead th {\n",
       "        text-align: right;\n",
       "    }\n",
       "</style>\n",
       "<table border=\"1\" class=\"dataframe\">\n",
       "  <thead>\n",
       "    <tr style=\"text-align: right;\">\n",
       "      <th></th>\n",
       "      <th>pergunta</th>\n",
       "      <th>count</th>\n",
       "    </tr>\n",
       "  </thead>\n",
       "  <tbody>\n",
       "    <tr>\n",
       "      <th>0</th>\n",
       "      <td>Como faço para cancelar meu cartão?</td>\n",
       "      <td>128</td>\n",
       "    </tr>\n",
       "    <tr>\n",
       "      <th>1</th>\n",
       "      <td>Como faço para gerar um cartão virtual?</td>\n",
       "      <td>96</td>\n",
       "    </tr>\n",
       "    <tr>\n",
       "      <th>2</th>\n",
       "      <td>Onde consulto o código de barras da fatura?</td>\n",
       "      <td>96</td>\n",
       "    </tr>\n",
       "    <tr>\n",
       "      <th>3</th>\n",
       "      <td>Recebi um aumento temporário de limite. O que ...</td>\n",
       "      <td>93</td>\n",
       "    </tr>\n",
       "    <tr>\n",
       "      <th>4</th>\n",
       "      <td>O que acontece depois da contestação?</td>\n",
       "      <td>80</td>\n",
       "    </tr>\n",
       "    <tr>\n",
       "      <th>...</th>\n",
       "      <td>...</td>\n",
       "      <td>...</td>\n",
       "    </tr>\n",
       "    <tr>\n",
       "      <th>2103</th>\n",
       "      <td>O que fazer quando não pedi um cartão adiciona...</td>\n",
       "      <td>1</td>\n",
       "    </tr>\n",
       "    <tr>\n",
       "      <th>2104</th>\n",
       "      <td>Se eu gerar um cartão de crédito virtual, o ca...</td>\n",
       "      <td>1</td>\n",
       "    </tr>\n",
       "    <tr>\n",
       "      <th>2105</th>\n",
       "      <td>Onde acompanho a entrega do meu cartão de créd...</td>\n",
       "      <td>1</td>\n",
       "    </tr>\n",
       "    <tr>\n",
       "      <th>2106</th>\n",
       "      <td>Posso gerar um cartão virtual mesmo sem ter um...</td>\n",
       "      <td>1</td>\n",
       "    </tr>\n",
       "    <tr>\n",
       "      <th>2107</th>\n",
       "      <td>Quais são as diferenças entre DOC, TED e TEF e...</td>\n",
       "      <td>1</td>\n",
       "    </tr>\n",
       "  </tbody>\n",
       "</table>\n",
       "<p>2108 rows × 2 columns</p>\n",
       "</div>"
      ],
      "text/plain": [
       "                                               pergunta  count\n",
       "0                   Como faço para cancelar meu cartão?    128\n",
       "1               Como faço para gerar um cartão virtual?     96\n",
       "2           Onde consulto o código de barras da fatura?     96\n",
       "3     Recebi um aumento temporário de limite. O que ...     93\n",
       "4                 O que acontece depois da contestação?     80\n",
       "...                                                 ...    ...\n",
       "2103  O que fazer quando não pedi um cartão adiciona...      1\n",
       "2104  Se eu gerar um cartão de crédito virtual, o ca...      1\n",
       "2105  Onde acompanho a entrega do meu cartão de créd...      1\n",
       "2106  Posso gerar um cartão virtual mesmo sem ter um...      1\n",
       "2107  Quais são as diferenças entre DOC, TED e TEF e...      1\n",
       "\n",
       "[2108 rows x 2 columns]"
      ]
     },
     "execution_count": 162,
     "metadata": {},
     "output_type": "execute_result"
    }
   ],
   "source": [
    "null_pct = df_raw[df_raw[col_nm].isna()].shape[0]/df_raw.shape[0]\n",
    "display(Markdown(f\"## Percentage of nulls {null_pct:.2%}\"))\n",
    "pd.DataFrame(df_raw[col_nm].value_counts()).reset_index()"
   ]
  },
  {
   "cell_type": "code",
   "execution_count": 163,
   "id": "00740d61-1e92-49a9-9396-36f5199eb969",
   "metadata": {},
   "outputs": [
    {
     "data": {
      "text/markdown": [
       "# Analysis Column 14: pergunta chave"
      ],
      "text/plain": [
       "<IPython.core.display.Markdown object>"
      ]
     },
     "metadata": {},
     "output_type": "display_data"
    }
   ],
   "source": [
    "col_nm = df_raw.columns[col_idx]\n",
    "display(Markdown(f\"# Analysis Column {col_idx}: {col_nm}\"))\n",
    "col_idx += 1"
   ]
  },
  {
   "cell_type": "code",
   "execution_count": 164,
   "id": "df2e3a02-0a0b-4d7b-a121-d89bdea323f4",
   "metadata": {},
   "outputs": [
    {
     "data": {
      "text/markdown": [
       "## Percentage of nulls 60.86%"
      ],
      "text/plain": [
       "<IPython.core.display.Markdown object>"
      ]
     },
     "metadata": {},
     "output_type": "display_data"
    },
    {
     "data": {
      "text/html": [
       "<div>\n",
       "<style scoped>\n",
       "    .dataframe tbody tr th:only-of-type {\n",
       "        vertical-align: middle;\n",
       "    }\n",
       "\n",
       "    .dataframe tbody tr th {\n",
       "        vertical-align: top;\n",
       "    }\n",
       "\n",
       "    .dataframe thead th {\n",
       "        text-align: right;\n",
       "    }\n",
       "</style>\n",
       "<table border=\"1\" class=\"dataframe\">\n",
       "  <thead>\n",
       "    <tr style=\"text-align: right;\">\n",
       "      <th></th>\n",
       "      <th>pergunta chave</th>\n",
       "      <th>count</th>\n",
       "    </tr>\n",
       "  </thead>\n",
       "  <tbody>\n",
       "    <tr>\n",
       "      <th>0</th>\n",
       "      <td></td>\n",
       "      <td>14926</td>\n",
       "    </tr>\n",
       "    <tr>\n",
       "      <th>1</th>\n",
       "      <td>anuidade</td>\n",
       "      <td>47</td>\n",
       "    </tr>\n",
       "    <tr>\n",
       "      <th>2</th>\n",
       "      <td>fatura fechada</td>\n",
       "      <td>47</td>\n",
       "    </tr>\n",
       "    <tr>\n",
       "      <th>3</th>\n",
       "      <td>aumentar limite do cartão</td>\n",
       "      <td>32</td>\n",
       "    </tr>\n",
       "    <tr>\n",
       "      <th>4</th>\n",
       "      <td>avaliação emergencial de crédito</td>\n",
       "      <td>32</td>\n",
       "    </tr>\n",
       "    <tr>\n",
       "      <th>5</th>\n",
       "      <td>cadastrar fatura digital</td>\n",
       "      <td>32</td>\n",
       "    </tr>\n",
       "    <tr>\n",
       "      <th>6</th>\n",
       "      <td>consultar limite</td>\n",
       "      <td>32</td>\n",
       "    </tr>\n",
       "    <tr>\n",
       "      <th>7</th>\n",
       "      <td>confirmação de compra</td>\n",
       "      <td>32</td>\n",
       "    </tr>\n",
       "    <tr>\n",
       "      <th>8</th>\n",
       "      <td>atualizar dados cadastrais</td>\n",
       "      <td>32</td>\n",
       "    </tr>\n",
       "    <tr>\n",
       "      <th>9</th>\n",
       "      <td>desbloquear cartão</td>\n",
       "      <td>31</td>\n",
       "    </tr>\n",
       "    <tr>\n",
       "      <th>10</th>\n",
       "      <td>aumentar;aumentar limi;aumentar limite;aumenta...</td>\n",
       "      <td>30</td>\n",
       "    </tr>\n",
       "    <tr>\n",
       "      <th>11</th>\n",
       "      <td>bloquear cartão</td>\n",
       "      <td>30</td>\n",
       "    </tr>\n",
       "    <tr>\n",
       "      <th>12</th>\n",
       "      <td>parcelar fatura</td>\n",
       "      <td>16</td>\n",
       "    </tr>\n",
       "    <tr>\n",
       "      <th>13</th>\n",
       "      <td>limite do cartão reduzido</td>\n",
       "      <td>16</td>\n",
       "    </tr>\n",
       "    <tr>\n",
       "      <th>14</th>\n",
       "      <td>Quem pode usar o WhatsApp Itaú</td>\n",
       "      <td>16</td>\n",
       "    </tr>\n",
       "    <tr>\n",
       "      <th>15</th>\n",
       "      <td>o que é aplic aut mais</td>\n",
       "      <td>16</td>\n",
       "    </tr>\n",
       "    <tr>\n",
       "      <th>16</th>\n",
       "      <td>pagamento em duplicidade</td>\n",
       "      <td>16</td>\n",
       "    </tr>\n",
       "    <tr>\n",
       "      <th>17</th>\n",
       "      <td>limite do cartão de crédito</td>\n",
       "      <td>16</td>\n",
       "    </tr>\n",
       "    <tr>\n",
       "      <th>18</th>\n",
       "      <td>limite do cartão reduzido.</td>\n",
       "      <td>16</td>\n",
       "    </tr>\n",
       "    <tr>\n",
       "      <th>19</th>\n",
       "      <td>alterar data de vencimento da fatura;alterar;m...</td>\n",
       "      <td>16</td>\n",
       "    </tr>\n",
       "    <tr>\n",
       "      <th>20</th>\n",
       "      <td>código de barras da fatura</td>\n",
       "      <td>16</td>\n",
       "    </tr>\n",
       "    <tr>\n",
       "      <th>21</th>\n",
       "      <td>fatura digital</td>\n",
       "      <td>16</td>\n",
       "    </tr>\n",
       "    <tr>\n",
       "      <th>22</th>\n",
       "      <td>2ª via de cartão</td>\n",
       "      <td>16</td>\n",
       "    </tr>\n",
       "    <tr>\n",
       "      <th>23</th>\n",
       "      <td>pagamento da fatura</td>\n",
       "      <td>16</td>\n",
       "    </tr>\n",
       "    <tr>\n",
       "      <th>24</th>\n",
       "      <td>data de validade do cartão</td>\n",
       "      <td>16</td>\n",
       "    </tr>\n",
       "    <tr>\n",
       "      <th>25</th>\n",
       "      <td>taxa de juros</td>\n",
       "      <td>15</td>\n",
       "    </tr>\n",
       "    <tr>\n",
       "      <th>26</th>\n",
       "      <td>compra suspeita;compras;compras;compras suspei...</td>\n",
       "      <td>15</td>\n",
       "    </tr>\n",
       "    <tr>\n",
       "      <th>27</th>\n",
       "      <td>compra desconhecida</td>\n",
       "      <td>15</td>\n",
       "    </tr>\n",
       "    <tr>\n",
       "      <th>28</th>\n",
       "      <td>antecipar pagamento</td>\n",
       "      <td>15</td>\n",
       "    </tr>\n",
       "    <tr>\n",
       "      <th>29</th>\n",
       "      <td>renegociar a fatura</td>\n",
       "      <td>5</td>\n",
       "    </tr>\n",
       "    <tr>\n",
       "      <th>30</th>\n",
       "      <td>pedido; cartão;</td>\n",
       "      <td>1</td>\n",
       "    </tr>\n",
       "  </tbody>\n",
       "</table>\n",
       "</div>"
      ],
      "text/plain": [
       "                                       pergunta chave  count\n",
       "0                                                      14926\n",
       "1                                            anuidade     47\n",
       "2                                      fatura fechada     47\n",
       "3                           aumentar limite do cartão     32\n",
       "4                    avaliação emergencial de crédito     32\n",
       "5                            cadastrar fatura digital     32\n",
       "6                                    consultar limite     32\n",
       "7                               confirmação de compra     32\n",
       "8                          atualizar dados cadastrais     32\n",
       "9                                  desbloquear cartão     31\n",
       "10  aumentar;aumentar limi;aumentar limite;aumenta...     30\n",
       "11                                    bloquear cartão     30\n",
       "12                                    parcelar fatura     16\n",
       "13                          limite do cartão reduzido     16\n",
       "14                     Quem pode usar o WhatsApp Itaú     16\n",
       "15                             o que é aplic aut mais     16\n",
       "16                           pagamento em duplicidade     16\n",
       "17                        limite do cartão de crédito     16\n",
       "18                         limite do cartão reduzido.     16\n",
       "19  alterar data de vencimento da fatura;alterar;m...     16\n",
       "20                         código de barras da fatura     16\n",
       "21                                     fatura digital     16\n",
       "22                                   2ª via de cartão     16\n",
       "23                                pagamento da fatura     16\n",
       "24                         data de validade do cartão     16\n",
       "25                                      taxa de juros     15\n",
       "26  compra suspeita;compras;compras;compras suspei...     15\n",
       "27                                compra desconhecida     15\n",
       "28                                antecipar pagamento     15\n",
       "29                                renegociar a fatura      5\n",
       "30                                   pedido; cartão;       1"
      ]
     },
     "execution_count": 164,
     "metadata": {},
     "output_type": "execute_result"
    }
   ],
   "source": [
    "null_pct = df_raw[df_raw[col_nm].isna()].shape[0]/df_raw.shape[0]\n",
    "display(Markdown(f\"## Percentage of nulls {null_pct:.2%}\"))\n",
    "pd.DataFrame(df_raw[col_nm].value_counts()).reset_index()"
   ]
  },
  {
   "cell_type": "code",
   "execution_count": 165,
   "id": "8463a3a7-3b94-4a38-8899-b09e78ac69f8",
   "metadata": {},
   "outputs": [
    {
     "data": {
      "text/markdown": [
       "# Analysis Column 15: portal"
      ],
      "text/plain": [
       "<IPython.core.display.Markdown object>"
      ]
     },
     "metadata": {},
     "output_type": "display_data"
    }
   ],
   "source": [
    "col_nm = df_raw.columns[col_idx]\n",
    "display(Markdown(f\"# Analysis Column {col_idx}: {col_nm}\"))\n",
    "col_idx += 1"
   ]
  },
  {
   "cell_type": "code",
   "execution_count": 166,
   "id": "10949469-7d10-4eae-aeac-8cffde4e1b9f",
   "metadata": {},
   "outputs": [
    {
     "data": {
      "text/markdown": [
       "## Percentage of nulls 0.00%"
      ],
      "text/plain": [
       "<IPython.core.display.Markdown object>"
      ]
     },
     "metadata": {},
     "output_type": "display_data"
    },
    {
     "data": {
      "text/html": [
       "<div>\n",
       "<style scoped>\n",
       "    .dataframe tbody tr th:only-of-type {\n",
       "        vertical-align: middle;\n",
       "    }\n",
       "\n",
       "    .dataframe tbody tr th {\n",
       "        vertical-align: top;\n",
       "    }\n",
       "\n",
       "    .dataframe thead th {\n",
       "        text-align: right;\n",
       "    }\n",
       "</style>\n",
       "<table border=\"1\" class=\"dataframe\">\n",
       "  <thead>\n",
       "    <tr style=\"text-align: right;\">\n",
       "      <th></th>\n",
       "      <th>portal</th>\n",
       "      <th>count</th>\n",
       "    </tr>\n",
       "  </thead>\n",
       "  <tbody>\n",
       "    <tr>\n",
       "      <th>0</th>\n",
       "      <td>mobile</td>\n",
       "      <td>33635</td>\n",
       "    </tr>\n",
       "    <tr>\n",
       "      <th>1</th>\n",
       "      <td>tokpag</td>\n",
       "      <td>6161</td>\n",
       "    </tr>\n",
       "  </tbody>\n",
       "</table>\n",
       "</div>"
      ],
      "text/plain": [
       "   portal  count\n",
       "0  mobile  33635\n",
       "1  tokpag   6161"
      ]
     },
     "execution_count": 166,
     "metadata": {},
     "output_type": "execute_result"
    }
   ],
   "source": [
    "null_pct = df_raw[df_raw[col_nm].isna()].shape[0]/df_raw.shape[0]\n",
    "display(Markdown(f\"## Percentage of nulls {null_pct:.2%}\"))\n",
    "pd.DataFrame(df_raw[col_nm].value_counts()).reset_index()"
   ]
  },
  {
   "cell_type": "code",
   "execution_count": 167,
   "id": "49d92ee5-fdf7-4bd9-8cbf-01b1e27d0937",
   "metadata": {},
   "outputs": [
    {
     "data": {
      "text/markdown": [
       "# Analysis Column 16: produto"
      ],
      "text/plain": [
       "<IPython.core.display.Markdown object>"
      ]
     },
     "metadata": {},
     "output_type": "display_data"
    }
   ],
   "source": [
    "col_nm = df_raw.columns[col_idx]\n",
    "display(Markdown(f\"# Analysis Column {col_idx}: {col_nm}\"))\n",
    "col_idx += 1"
   ]
  },
  {
   "cell_type": "code",
   "execution_count": 170,
   "id": "dedbb252-565a-4678-b91b-971ebf325311",
   "metadata": {},
   "outputs": [
    {
     "data": {
      "text/markdown": [
       "## Percentage of nulls 0.00%"
      ],
      "text/plain": [
       "<IPython.core.display.Markdown object>"
      ]
     },
     "metadata": {},
     "output_type": "display_data"
    },
    {
     "data": {
      "image/png": "[encoded data removed]",
      "text/plain": [
       "<Figure size 1500x500 with 1 Axes>"
      ]
     },
     "metadata": {},
     "output_type": "display_data"
    }
   ],
   "source": [
    "null_pct = df_raw[df_raw[col_nm].isna()].shape[0]/df_raw.shape[0]\n",
    "display(Markdown(f\"## Percentage of nulls {null_pct:.2%}\"))\n",
    "df_values = df_raw[col_nm].value_counts()\n",
    "plt.figure(figsize=(15,5))\n",
    "plt.bar(x=df_values.index,height=df_values.values)\n",
    "plt.xticks(rotation=90)#, fontsize=8)\n",
    "pass"
   ]
  },
  {
   "cell_type": "markdown",
   "id": "b00b8c71-fa1e-4c3c-8b81-317866bdd078",
   "metadata": {},
   "source": [
    "## Hightlights\n",
    "* Can we use `produto` to filter all QnA related to *Cartâo de Crédito*?"
   ]
  },
  {
   "cell_type": "code",
   "execution_count": 171,
   "id": "17af6181-8513-43fc-a62c-309ddd346609",
   "metadata": {},
   "outputs": [
    {
     "data": {
      "text/markdown": [
       "# Analysis Column 17: relacionamentos"
      ],
      "text/plain": [
       "<IPython.core.display.Markdown object>"
      ]
     },
     "metadata": {},
     "output_type": "display_data"
    }
   ],
   "source": [
    "col_nm = df_raw.columns[col_idx]\n",
    "display(Markdown(f\"# Analysis Column {col_idx}: {col_nm}\"))\n",
    "col_idx += 1"
   ]
  },
  {
   "cell_type": "code",
   "execution_count": 174,
   "id": "36f8815d-4c12-4c37-8df1-f42b55611100",
   "metadata": {},
   "outputs": [
    {
     "data": {
      "text/markdown": [
       "## Percentage of nulls 77.46%"
      ],
      "text/plain": [
       "<IPython.core.display.Markdown object>"
      ]
     },
     "metadata": {},
     "output_type": "display_data"
    },
    {
     "data": {
      "text/html": [
       "<div>\n",
       "<style scoped>\n",
       "    .dataframe tbody tr th:only-of-type {\n",
       "        vertical-align: middle;\n",
       "    }\n",
       "\n",
       "    .dataframe tbody tr th {\n",
       "        vertical-align: top;\n",
       "    }\n",
       "\n",
       "    .dataframe thead th {\n",
       "        text-align: right;\n",
       "    }\n",
       "</style>\n",
       "<table border=\"1\" class=\"dataframe\">\n",
       "  <thead>\n",
       "    <tr style=\"text-align: right;\">\n",
       "      <th></th>\n",
       "      <th>count</th>\n",
       "    </tr>\n",
       "    <tr>\n",
       "      <th>relacionamentos</th>\n",
       "      <th></th>\n",
       "    </tr>\n",
       "  </thead>\n",
       "  <tbody>\n",
       "    <tr>\n",
       "      <th>[]</th>\n",
       "      <td>8834</td>\n",
       "    </tr>\n",
       "    <tr>\n",
       "      <th>[{'uid': 'blt712e4fe01211055f', '_content_type_uid': 'relacionamentos_cliente'}, {'uid': 'blt12d404c243787112', '_content_type_uid': 'relacionamentos_cliente'}, {'uid': 'blt70dea5049f79f495', '_content_type_uid': 'relacionamentos_cliente'}]</th>\n",
       "      <td>94</td>\n",
       "    </tr>\n",
       "    <tr>\n",
       "      <th>[{'uid': 'blt70dea5049f79f495', '_content_type_uid': 'relacionamentos_cliente'}]</th>\n",
       "      <td>35</td>\n",
       "    </tr>\n",
       "    <tr>\n",
       "      <th>[{'uid': 'blt12d404c243787112', '_content_type_uid': 'relacionamentos_cliente'}]</th>\n",
       "      <td>3</td>\n",
       "    </tr>\n",
       "    <tr>\n",
       "      <th>[{'uid': 'blt70dea5049f79f495', '_content_type_uid': 'relacionamentos_cliente'}, {'uid': 'blt12d404c243787112', '_content_type_uid': 'relacionamentos_cliente'}, {'uid': 'blt712e4fe01211055f', '_content_type_uid': 'relacionamentos_cliente'}]</th>\n",
       "      <td>2</td>\n",
       "    </tr>\n",
       "    <tr>\n",
       "      <th>[{'uid': 'blt12d404c243787112', '_content_type_uid': 'relacionamentos_cliente'}, {'uid': 'blt712e4fe01211055f', '_content_type_uid': 'relacionamentos_cliente'}, {'uid': 'blt70dea5049f79f495', '_content_type_uid': 'relacionamentos_cliente'}]</th>\n",
       "      <td>1</td>\n",
       "    </tr>\n",
       "    <tr>\n",
       "      <th>[{'uid': 'blt712e4fe01211055f', '_content_type_uid': 'relacionamentos_cliente'}, {'uid': 'blt70dea5049f79f495', '_content_type_uid': 'relacionamentos_cliente'}, {'uid': 'blt12d404c243787112', '_content_type_uid': 'relacionamentos_cliente'}]</th>\n",
       "      <td>1</td>\n",
       "    </tr>\n",
       "  </tbody>\n",
       "</table>\n",
       "</div>"
      ],
      "text/plain": [
       "                                                    count\n",
       "relacionamentos                                          \n",
       "[]                                                   8834\n",
       "[{'uid': 'blt712e4fe01211055f', '_content_type_...     94\n",
       "[{'uid': 'blt70dea5049f79f495', '_content_type_...     35\n",
       "[{'uid': 'blt12d404c243787112', '_content_type_...      3\n",
       "[{'uid': 'blt70dea5049f79f495', '_content_type_...      2\n",
       "[{'uid': 'blt12d404c243787112', '_content_type_...      1\n",
       "[{'uid': 'blt712e4fe01211055f', '_content_type_...      1"
      ]
     },
     "execution_count": 174,
     "metadata": {},
     "output_type": "execute_result"
    }
   ],
   "source": [
    "null_pct = df_raw[df_raw[col_nm].isna()].shape[0]/df_raw.shape[0]\n",
    "display(Markdown(f\"## Percentage of nulls {null_pct:.2%}\"))\n",
    "pd.DataFrame(df_raw[col_nm].value_counts())"
   ]
  },
  {
   "cell_type": "code",
   "execution_count": 176,
   "id": "08972ac0-4c63-4e2c-b41c-350c44d47835",
   "metadata": {},
   "outputs": [
    {
     "data": {
      "text/markdown": [
       "# Analysis Column 18: resposta"
      ],
      "text/plain": [
       "<IPython.core.display.Markdown object>"
      ]
     },
     "metadata": {},
     "output_type": "display_data"
    }
   ],
   "source": [
    "col_nm = df_raw.columns[col_idx]\n",
    "display(Markdown(f\"# Analysis Column {col_idx}: {col_nm}\"))\n",
    "col_idx += 1"
   ]
  },
  {
   "cell_type": "code",
   "execution_count": 177,
   "id": "df1d5eac-958a-4271-a9af-827b932cc791",
   "metadata": {},
   "outputs": [
    {
     "data": {
      "text/markdown": [
       "## Percentage of nulls 0.00%"
      ],
      "text/plain": [
       "<IPython.core.display.Markdown object>"
      ]
     },
     "metadata": {},
     "output_type": "display_data"
    },
    {
     "data": {
      "text/html": [
       "<div>\n",
       "<style scoped>\n",
       "    .dataframe tbody tr th:only-of-type {\n",
       "        vertical-align: middle;\n",
       "    }\n",
       "\n",
       "    .dataframe tbody tr th {\n",
       "        vertical-align: top;\n",
       "    }\n",
       "\n",
       "    .dataframe thead th {\n",
       "        text-align: right;\n",
       "    }\n",
       "</style>\n",
       "<table border=\"1\" class=\"dataframe\">\n",
       "  <thead>\n",
       "    <tr style=\"text-align: right;\">\n",
       "      <th></th>\n",
       "      <th>resposta</th>\n",
       "      <th>count</th>\n",
       "    </tr>\n",
       "  </thead>\n",
       "  <tbody>\n",
       "    <tr>\n",
       "      <th>0</th>\n",
       "      <td>É o valor mínimo a ser pago para que a fatura ...</td>\n",
       "      <td>64</td>\n",
       "    </tr>\n",
       "    <tr>\n",
       "      <th>1</th>\n",
       "      <td>Ligue para a nossa central de atendimento, no ...</td>\n",
       "      <td>60</td>\n",
       "    </tr>\n",
       "    <tr>\n",
       "      <th>2</th>\n",
       "      <td>&lt;p&gt;Sim, pode! Pra fazer isso, é só tocar em \"&lt;...</td>\n",
       "      <td>48</td>\n",
       "    </tr>\n",
       "    <tr>\n",
       "      <th>3</th>\n",
       "      <td>&lt;p&gt;Se você quiser alterar dados como endereço,...</td>\n",
       "      <td>48</td>\n",
       "    </tr>\n",
       "    <tr>\n",
       "      <th>4</th>\n",
       "      <td>Depois de habilitar o iToken, você pode acessa...</td>\n",
       "      <td>45</td>\n",
       "    </tr>\n",
       "    <tr>\n",
       "      <th>...</th>\n",
       "      <td>...</td>\n",
       "      <td>...</td>\n",
       "    </tr>\n",
       "    <tr>\n",
       "      <th>2651</th>\n",
       "      <td>&lt;p&gt;Pode! O retorno sobre a sua proposta é imed...</td>\n",
       "      <td>1</td>\n",
       "    </tr>\n",
       "    <tr>\n",
       "      <th>2652</th>\n",
       "      <td>&lt;p&gt;Pode sim! Se o seu cartão é novo, você prec...</td>\n",
       "      <td>1</td>\n",
       "    </tr>\n",
       "    <tr>\n",
       "      <th>2653</th>\n",
       "      <td>&lt;p&gt;Você pode ter informações sobre o status do...</td>\n",
       "      <td>1</td>\n",
       "    </tr>\n",
       "    <tr>\n",
       "      <th>2654</th>\n",
       "      <td>&lt;p&gt;Você pode acompanhar a entrega do seu cartã...</td>\n",
       "      <td>1</td>\n",
       "    </tr>\n",
       "    <tr>\n",
       "      <th>2655</th>\n",
       "      <td>TED e DOC são as transferências feitas para ou...</td>\n",
       "      <td>1</td>\n",
       "    </tr>\n",
       "  </tbody>\n",
       "</table>\n",
       "<p>2656 rows × 2 columns</p>\n",
       "</div>"
      ],
      "text/plain": [
       "                                               resposta  count\n",
       "0     É o valor mínimo a ser pago para que a fatura ...     64\n",
       "1     Ligue para a nossa central de atendimento, no ...     60\n",
       "2     <p>Sim, pode! Pra fazer isso, é só tocar em \"<...     48\n",
       "3     <p>Se você quiser alterar dados como endereço,...     48\n",
       "4     Depois de habilitar o iToken, você pode acessa...     45\n",
       "...                                                 ...    ...\n",
       "2651  <p>Pode! O retorno sobre a sua proposta é imed...      1\n",
       "2652  <p>Pode sim! Se o seu cartão é novo, você prec...      1\n",
       "2653  <p>Você pode ter informações sobre o status do...      1\n",
       "2654  <p>Você pode acompanhar a entrega do seu cartã...      1\n",
       "2655  TED e DOC são as transferências feitas para ou...      1\n",
       "\n",
       "[2656 rows x 2 columns]"
      ]
     },
     "execution_count": 177,
     "metadata": {},
     "output_type": "execute_result"
    }
   ],
   "source": [
    "null_pct = df_raw[df_raw[col_nm].isna()].shape[0]/df_raw.shape[0]\n",
    "display(Markdown(f\"## Percentage of nulls {null_pct:.2%}\"))\n",
    "pd.DataFrame(df_raw[col_nm].value_counts()).reset_index()"
   ]
  },
  {
   "cell_type": "code",
   "execution_count": 178,
   "id": "7162beb9-b97d-447b-92dd-929472127b21",
   "metadata": {},
   "outputs": [
    {
     "data": {
      "text/markdown": [
       "# Analysis Column 19: resposta_caixa"
      ],
      "text/plain": [
       "<IPython.core.display.Markdown object>"
      ]
     },
     "metadata": {},
     "output_type": "display_data"
    }
   ],
   "source": [
    "col_nm = df_raw.columns[col_idx]\n",
    "display(Markdown(f\"# Analysis Column {col_idx}: {col_nm}\"))\n",
    "col_idx += 1"
   ]
  },
  {
   "cell_type": "code",
   "execution_count": 179,
   "id": "a970aa6b-f5af-4492-abdc-2f977c76e074",
   "metadata": {},
   "outputs": [
    {
     "data": {
      "text/markdown": [
       "## Percentage of nulls 60.86%"
      ],
      "text/plain": [
       "<IPython.core.display.Markdown object>"
      ]
     },
     "metadata": {},
     "output_type": "display_data"
    },
    {
     "data": {
      "text/html": [
       "<div>\n",
       "<style scoped>\n",
       "    .dataframe tbody tr th:only-of-type {\n",
       "        vertical-align: middle;\n",
       "    }\n",
       "\n",
       "    .dataframe tbody tr th {\n",
       "        vertical-align: top;\n",
       "    }\n",
       "\n",
       "    .dataframe thead th {\n",
       "        text-align: right;\n",
       "    }\n",
       "</style>\n",
       "<table border=\"1\" class=\"dataframe\">\n",
       "  <thead>\n",
       "    <tr style=\"text-align: right;\">\n",
       "      <th></th>\n",
       "      <th>resposta_caixa</th>\n",
       "      <th>count</th>\n",
       "    </tr>\n",
       "  </thead>\n",
       "  <tbody>\n",
       "    <tr>\n",
       "      <th>0</th>\n",
       "      <td></td>\n",
       "      <td>15559</td>\n",
       "    </tr>\n",
       "    <tr>\n",
       "      <th>1</th>\n",
       "      <td>Você pode alterá-la em qualquer caixa eletrôni...</td>\n",
       "      <td>16</td>\n",
       "    </tr>\n",
       "  </tbody>\n",
       "</table>\n",
       "</div>"
      ],
      "text/plain": [
       "                                      resposta_caixa  count\n",
       "0                                                     15559\n",
       "1  Você pode alterá-la em qualquer caixa eletrôni...     16"
      ]
     },
     "execution_count": 179,
     "metadata": {},
     "output_type": "execute_result"
    }
   ],
   "source": [
    "null_pct = df_raw[df_raw[col_nm].isna()].shape[0]/df_raw.shape[0]\n",
    "display(Markdown(f\"## Percentage of nulls {null_pct:.2%}\"))\n",
    "pd.DataFrame(df_raw[col_nm].value_counts()).reset_index()"
   ]
  },
  {
   "cell_type": "code",
   "execution_count": 180,
   "id": "e75c4e19-1e4b-4442-b59b-5f8b2c00795e",
   "metadata": {},
   "outputs": [
    {
     "data": {
      "text/markdown": [
       "# Analysis Column 20: resposta computador"
      ],
      "text/plain": [
       "<IPython.core.display.Markdown object>"
      ]
     },
     "metadata": {},
     "output_type": "display_data"
    }
   ],
   "source": [
    "col_nm = df_raw.columns[col_idx]\n",
    "display(Markdown(f\"# Analysis Column {col_idx}: {col_nm}\"))\n",
    "col_idx += 1"
   ]
  },
  {
   "cell_type": "code",
   "execution_count": 181,
   "id": "4aaf00bb-4ad3-476e-b2ff-5df3f1db0c29",
   "metadata": {},
   "outputs": [
    {
     "data": {
      "text/markdown": [
       "## Percentage of nulls 60.86%"
      ],
      "text/plain": [
       "<IPython.core.display.Markdown object>"
      ]
     },
     "metadata": {},
     "output_type": "display_data"
    },
    {
     "data": {
      "text/html": [
       "<div>\n",
       "<style scoped>\n",
       "    .dataframe tbody tr th:only-of-type {\n",
       "        vertical-align: middle;\n",
       "    }\n",
       "\n",
       "    .dataframe tbody tr th {\n",
       "        vertical-align: top;\n",
       "    }\n",
       "\n",
       "    .dataframe thead th {\n",
       "        text-align: right;\n",
       "    }\n",
       "</style>\n",
       "<table border=\"1\" class=\"dataframe\">\n",
       "  <thead>\n",
       "    <tr style=\"text-align: right;\">\n",
       "      <th></th>\n",
       "      <th>resposta computador</th>\n",
       "      <th>count</th>\n",
       "    </tr>\n",
       "  </thead>\n",
       "  <tbody>\n",
       "    <tr>\n",
       "      <th>0</th>\n",
       "      <td></td>\n",
       "      <td>15543</td>\n",
       "    </tr>\n",
       "    <tr>\n",
       "      <th>1</th>\n",
       "      <td>amortização;amortizacao;amortizar;amortiza;amo...</td>\n",
       "      <td>16</td>\n",
       "    </tr>\n",
       "    <tr>\n",
       "      <th>2</th>\n",
       "      <td>Você acessa a sua conta no Itaú na internet pe...</td>\n",
       "      <td>16</td>\n",
       "    </tr>\n",
       "  </tbody>\n",
       "</table>\n",
       "</div>"
      ],
      "text/plain": [
       "                                 resposta computador  count\n",
       "0                                                     15543\n",
       "1  amortização;amortizacao;amortizar;amortiza;amo...     16\n",
       "2  Você acessa a sua conta no Itaú na internet pe...     16"
      ]
     },
     "execution_count": 181,
     "metadata": {},
     "output_type": "execute_result"
    }
   ],
   "source": [
    "null_pct = df_raw[df_raw[col_nm].isna()].shape[0]/df_raw.shape[0]\n",
    "display(Markdown(f\"## Percentage of nulls {null_pct:.2%}\"))\n",
    "pd.DataFrame(df_raw[col_nm].value_counts()).reset_index()"
   ]
  },
  {
   "cell_type": "code",
   "execution_count": 182,
   "id": "4a10b396-47d1-425a-ab2f-b1babeec40c4",
   "metadata": {},
   "outputs": [
    {
     "data": {
      "text/markdown": [
       "# Analysis Column 21: resposta_telefone"
      ],
      "text/plain": [
       "<IPython.core.display.Markdown object>"
      ]
     },
     "metadata": {},
     "output_type": "display_data"
    }
   ],
   "source": [
    "col_nm = df_raw.columns[col_idx]\n",
    "display(Markdown(f\"# Analysis Column {col_idx}: {col_nm}\"))\n",
    "col_idx += 1"
   ]
  },
  {
   "cell_type": "code",
   "execution_count": 183,
   "id": "82744077-8e84-4215-9b7d-65f48ae199e5",
   "metadata": {},
   "outputs": [
    {
     "data": {
      "text/markdown": [
       "## Percentage of nulls 61.13%"
      ],
      "text/plain": [
       "<IPython.core.display.Markdown object>"
      ]
     },
     "metadata": {},
     "output_type": "display_data"
    },
    {
     "data": {
      "text/html": [
       "<div>\n",
       "<style scoped>\n",
       "    .dataframe tbody tr th:only-of-type {\n",
       "        vertical-align: middle;\n",
       "    }\n",
       "\n",
       "    .dataframe tbody tr th {\n",
       "        vertical-align: top;\n",
       "    }\n",
       "\n",
       "    .dataframe thead th {\n",
       "        text-align: right;\n",
       "    }\n",
       "</style>\n",
       "<table border=\"1\" class=\"dataframe\">\n",
       "  <thead>\n",
       "    <tr style=\"text-align: right;\">\n",
       "      <th></th>\n",
       "      <th>resposta_telefone</th>\n",
       "      <th>count</th>\n",
       "    </tr>\n",
       "  </thead>\n",
       "  <tbody>\n",
       "    <tr>\n",
       "      <th>0</th>\n",
       "      <td></td>\n",
       "      <td>15141</td>\n",
       "    </tr>\n",
       "    <tr>\n",
       "      <th>1</th>\n",
       "      <td>3003-3030 (capitais e regiões metropolitanas)\\...</td>\n",
       "      <td>139</td>\n",
       "    </tr>\n",
       "    <tr>\n",
       "      <th>2</th>\n",
       "      <td>3003-3030 (capitais e regiões metropolitanas)\\...</td>\n",
       "      <td>47</td>\n",
       "    </tr>\n",
       "    <tr>\n",
       "      <th>3</th>\n",
       "      <td>Basta ligar para: 4090-1100 (capitais e regiõe...</td>\n",
       "      <td>32</td>\n",
       "    </tr>\n",
       "    <tr>\n",
       "      <th>4</th>\n",
       "      <td>Você pode ligar para: 3003-3030</td>\n",
       "      <td>31</td>\n",
       "    </tr>\n",
       "    <tr>\n",
       "      <th>5</th>\n",
       "      <td>Basta ligar para: 3003-3030 (capitais e regiõe...</td>\n",
       "      <td>31</td>\n",
       "    </tr>\n",
       "    <tr>\n",
       "      <th>6</th>\n",
       "      <td>Basta ligar para: 3003 3030 (capitais e regiõe...</td>\n",
       "      <td>16</td>\n",
       "    </tr>\n",
       "    <tr>\n",
       "      <th>7</th>\n",
       "      <td>Basta ligar para: 3003-3030 (capitais e regiõe...</td>\n",
       "      <td>16</td>\n",
       "    </tr>\n",
       "    <tr>\n",
       "      <th>8</th>\n",
       "      <td>2a via;segunda via;atualizar;novo boleto;</td>\n",
       "      <td>15</td>\n",
       "    </tr>\n",
       "  </tbody>\n",
       "</table>\n",
       "</div>"
      ],
      "text/plain": [
       "                                   resposta_telefone  count\n",
       "0                                                     15141\n",
       "1  3003-3030 (capitais e regiões metropolitanas)\\...    139\n",
       "2  3003-3030 (capitais e regiões metropolitanas)\\...     47\n",
       "3  Basta ligar para: 4090-1100 (capitais e regiõe...     32\n",
       "4                    Você pode ligar para: 3003-3030     31\n",
       "5  Basta ligar para: 3003-3030 (capitais e regiõe...     31\n",
       "6  Basta ligar para: 3003 3030 (capitais e regiõe...     16\n",
       "7  Basta ligar para: 3003-3030 (capitais e regiõe...     16\n",
       "8          2a via;segunda via;atualizar;novo boleto;     15"
      ]
     },
     "execution_count": 183,
     "metadata": {},
     "output_type": "execute_result"
    }
   ],
   "source": [
    "null_pct = df_raw[df_raw[col_nm].isna()].shape[0]/df_raw.shape[0]\n",
    "display(Markdown(f\"## Percentage of nulls {null_pct:.2%}\"))\n",
    "pd.DataFrame(df_raw[col_nm].value_counts()).reset_index()"
   ]
  },
  {
   "cell_type": "code",
   "execution_count": 184,
   "id": "d87dd047-7f67-40c0-9995-70288a2380a1",
   "metadata": {},
   "outputs": [
    {
     "data": {
      "text/markdown": [
       "# Analysis Column 22: rota"
      ],
      "text/plain": [
       "<IPython.core.display.Markdown object>"
      ]
     },
     "metadata": {},
     "output_type": "display_data"
    }
   ],
   "source": [
    "col_nm = df_raw.columns[col_idx]\n",
    "display(Markdown(f\"# Analysis Column {col_idx}: {col_nm}\"))\n",
    "col_idx += 1"
   ]
  },
  {
   "cell_type": "code",
   "execution_count": 185,
   "id": "82e4898c-3ac5-4fd5-bda4-0385aea6f379",
   "metadata": {},
   "outputs": [
    {
     "data": {
      "text/markdown": [
       "## Percentage of nulls 60.86%"
      ],
      "text/plain": [
       "<IPython.core.display.Markdown object>"
      ]
     },
     "metadata": {},
     "output_type": "display_data"
    },
    {
     "data": {
      "text/html": [
       "<div>\n",
       "<style scoped>\n",
       "    .dataframe tbody tr th:only-of-type {\n",
       "        vertical-align: middle;\n",
       "    }\n",
       "\n",
       "    .dataframe tbody tr th {\n",
       "        vertical-align: top;\n",
       "    }\n",
       "\n",
       "    .dataframe thead th {\n",
       "        text-align: right;\n",
       "    }\n",
       "</style>\n",
       "<table border=\"1\" class=\"dataframe\">\n",
       "  <thead>\n",
       "    <tr style=\"text-align: right;\">\n",
       "      <th></th>\n",
       "      <th>rota</th>\n",
       "      <th>count</th>\n",
       "    </tr>\n",
       "  </thead>\n",
       "  <tbody>\n",
       "    <tr>\n",
       "      <th>0</th>\n",
       "      <td></td>\n",
       "      <td>15575</td>\n",
       "    </tr>\n",
       "  </tbody>\n",
       "</table>\n",
       "</div>"
      ],
      "text/plain": [
       "  rota  count\n",
       "0       15575"
      ]
     },
     "execution_count": 185,
     "metadata": {},
     "output_type": "execute_result"
    }
   ],
   "source": [
    "null_pct = df_raw[df_raw[col_nm].isna()].shape[0]/df_raw.shape[0]\n",
    "display(Markdown(f\"## Percentage of nulls {null_pct:.2%}\"))\n",
    "pd.DataFrame(df_raw[col_nm].value_counts()).reset_index()"
   ]
  },
  {
   "cell_type": "code",
   "execution_count": 186,
   "id": "7a414747-4031-4584-94c7-7e2539ee77f6",
   "metadata": {},
   "outputs": [
    {
     "data": {
      "text/markdown": [
       "# Analysis Column 23: segmento"
      ],
      "text/plain": [
       "<IPython.core.display.Markdown object>"
      ]
     },
     "metadata": {},
     "output_type": "display_data"
    }
   ],
   "source": [
    "col_nm = df_raw.columns[col_idx]\n",
    "display(Markdown(f\"# Analysis Column {col_idx}: {col_nm}\"))\n",
    "col_idx += 1"
   ]
  },
  {
   "cell_type": "code",
   "execution_count": 188,
   "id": "452bf823-7c7c-485d-953d-e799da81c1af",
   "metadata": {},
   "outputs": [
    {
     "data": {
      "text/markdown": [
       "## Percentage of nulls 0.00%"
      ],
      "text/plain": [
       "<IPython.core.display.Markdown object>"
      ]
     },
     "metadata": {},
     "output_type": "display_data"
    },
    {
     "data": {
      "text/html": [
       "<div>\n",
       "<style scoped>\n",
       "    .dataframe tbody tr th:only-of-type {\n",
       "        vertical-align: middle;\n",
       "    }\n",
       "\n",
       "    .dataframe tbody tr th {\n",
       "        vertical-align: top;\n",
       "    }\n",
       "\n",
       "    .dataframe thead th {\n",
       "        text-align: right;\n",
       "    }\n",
       "</style>\n",
       "<table border=\"1\" class=\"dataframe\">\n",
       "  <thead>\n",
       "    <tr style=\"text-align: right;\">\n",
       "      <th></th>\n",
       "      <th>count</th>\n",
       "    </tr>\n",
       "    <tr>\n",
       "      <th>segmento</th>\n",
       "      <th></th>\n",
       "    </tr>\n",
       "  </thead>\n",
       "  <tbody>\n",
       "    <tr>\n",
       "      <th>['playersbank']</th>\n",
       "      <td>6384</td>\n",
       "    </tr>\n",
       "    <tr>\n",
       "      <th>['PF', 'PJ']</th>\n",
       "      <td>3272</td>\n",
       "    </tr>\n",
       "    <tr>\n",
       "      <th>['PJ', 'PF']</th>\n",
       "      <td>2757</td>\n",
       "    </tr>\n",
       "    <tr>\n",
       "      <th>['VAREJO', 'UNICLA', 'PERSON']</th>\n",
       "      <td>2240</td>\n",
       "    </tr>\n",
       "    <tr>\n",
       "      <th>['EMPPLU', 'EMP2', 'EMP3', 'EMP4']</th>\n",
       "      <td>1772</td>\n",
       "    </tr>\n",
       "    <tr>\n",
       "      <th>...</th>\n",
       "      <td>...</td>\n",
       "    </tr>\n",
       "    <tr>\n",
       "      <th>['VAREJO', 'UNICLA', 'PERSON', 'PAGAMENTO', 'SEM_SEGMENTO']</th>\n",
       "      <td>3</td>\n",
       "    </tr>\n",
       "    <tr>\n",
       "      <th>['cartaoluiza', 'Itaucard', 'Credicard', 'Hipercard']</th>\n",
       "      <td>2</td>\n",
       "    </tr>\n",
       "    <tr>\n",
       "      <th>['VAREJO', 'UNICLA', 'PERSON', 'PRIVCO', 'Itaucard', 'Credicard', 'Hipercard', 'cartaoluiza', 'SEM_SEGMENTO']</th>\n",
       "      <td>1</td>\n",
       "    </tr>\n",
       "    <tr>\n",
       "      <th>['Hipercard', 'cartaoluiza', 'Credicard', 'Itaucard', 'SEM_SEGMENTO']</th>\n",
       "      <td>1</td>\n",
       "    </tr>\n",
       "    <tr>\n",
       "      <th>['Itaucard', 'Hipercard', 'Credicard', 'SEM_SEGMENTO']</th>\n",
       "      <td>1</td>\n",
       "    </tr>\n",
       "  </tbody>\n",
       "</table>\n",
       "<p>196 rows × 1 columns</p>\n",
       "</div>"
      ],
      "text/plain": [
       "                                                    count\n",
       "segmento                                                 \n",
       "['playersbank']                                      6384\n",
       "['PF', 'PJ']                                         3272\n",
       "['PJ', 'PF']                                         2757\n",
       "['VAREJO', 'UNICLA', 'PERSON']                       2240\n",
       "['EMPPLU', 'EMP2', 'EMP3', 'EMP4']                   1772\n",
       "...                                                   ...\n",
       "['VAREJO', 'UNICLA', 'PERSON', 'PAGAMENTO', 'SE...      3\n",
       "['cartaoluiza', 'Itaucard', 'Credicard', 'Hiper...      2\n",
       "['VAREJO', 'UNICLA', 'PERSON', 'PRIVCO', 'Itauc...      1\n",
       "['Hipercard', 'cartaoluiza', 'Credicard', 'Itau...      1\n",
       "['Itaucard', 'Hipercard', 'Credicard', 'SEM_SEG...      1\n",
       "\n",
       "[196 rows x 1 columns]"
      ]
     },
     "execution_count": 188,
     "metadata": {},
     "output_type": "execute_result"
    }
   ],
   "source": [
    "null_pct = df_raw[df_raw[col_nm].isna()].shape[0]/df_raw.shape[0]\n",
    "display(Markdown(f\"## Percentage of nulls {null_pct:.2%}\"))\n",
    "pd.DataFrame(df_raw[col_nm].value_counts())"
   ]
  },
  {
   "cell_type": "markdown",
   "id": "f9c16ffa-fb76-42d2-969d-422e5993fffc",
   "metadata": {},
   "source": [
    "## Hightlights\n",
    "\n",
    "* What does `segmento` means?\n",
    "* Do we need to take it into account?"
   ]
  },
  {
   "cell_type": "code",
   "execution_count": 189,
   "id": "395965ee-b2a3-4ad0-b014-23c61db0674e",
   "metadata": {},
   "outputs": [
    {
     "data": {
      "text/markdown": [
       "# Analysis Column 24: tags"
      ],
      "text/plain": [
       "<IPython.core.display.Markdown object>"
      ]
     },
     "metadata": {},
     "output_type": "display_data"
    }
   ],
   "source": [
    "col_nm = df_raw.columns[col_idx]\n",
    "display(Markdown(f\"# Analysis Column {col_idx}: {col_nm}\"))\n",
    "col_idx += 1"
   ]
  },
  {
   "cell_type": "code",
   "execution_count": 190,
   "id": "7dc0a87d-d64b-46fc-9d57-daedd83c2400",
   "metadata": {},
   "outputs": [
    {
     "data": {
      "text/markdown": [
       "## Percentage of nulls 0.00%"
      ],
      "text/plain": [
       "<IPython.core.display.Markdown object>"
      ]
     },
     "metadata": {},
     "output_type": "display_data"
    },
    {
     "data": {
      "text/html": [
       "<div>\n",
       "<style scoped>\n",
       "    .dataframe tbody tr th:only-of-type {\n",
       "        vertical-align: middle;\n",
       "    }\n",
       "\n",
       "    .dataframe tbody tr th {\n",
       "        vertical-align: top;\n",
       "    }\n",
       "\n",
       "    .dataframe thead th {\n",
       "        text-align: right;\n",
       "    }\n",
       "</style>\n",
       "<table border=\"1\" class=\"dataframe\">\n",
       "  <thead>\n",
       "    <tr style=\"text-align: right;\">\n",
       "      <th></th>\n",
       "      <th>count</th>\n",
       "    </tr>\n",
       "    <tr>\n",
       "      <th>tags</th>\n",
       "      <th></th>\n",
       "    </tr>\n",
       "  </thead>\n",
       "  <tbody>\n",
       "    <tr>\n",
       "      <th>[]</th>\n",
       "      <td>37734</td>\n",
       "    </tr>\n",
       "    <tr>\n",
       "      <th>['idl']</th>\n",
       "      <td>432</td>\n",
       "    </tr>\n",
       "    <tr>\n",
       "      <th>['rascunho']</th>\n",
       "      <td>258</td>\n",
       "    </tr>\n",
       "    <tr>\n",
       "      <th>['cartão digital', 'segunda via', '2ª via digital']</th>\n",
       "      <td>158</td>\n",
       "    </tr>\n",
       "    <tr>\n",
       "      <th>['openfinance']</th>\n",
       "      <td>128</td>\n",
       "    </tr>\n",
       "    <tr>\n",
       "      <th>['facebook pay']</th>\n",
       "      <td>128</td>\n",
       "    </tr>\n",
       "    <tr>\n",
       "      <th>['rendimento', 'iti']</th>\n",
       "      <td>80</td>\n",
       "    </tr>\n",
       "    <tr>\n",
       "      <th>['senha', 'segurança']</th>\n",
       "      <td>79</td>\n",
       "    </tr>\n",
       "    <tr>\n",
       "      <th>['crise']</th>\n",
       "      <td>60</td>\n",
       "    </tr>\n",
       "    <tr>\n",
       "      <th>['pagamentos', 'detran']</th>\n",
       "      <td>48</td>\n",
       "    </tr>\n",
       "    <tr>\n",
       "      <th>['cartão virtual']</th>\n",
       "      <td>48</td>\n",
       "    </tr>\n",
       "    <tr>\n",
       "      <th>['itokenapp']</th>\n",
       "      <td>47</td>\n",
       "    </tr>\n",
       "    <tr>\n",
       "      <th>['final']</th>\n",
       "      <td>47</td>\n",
       "    </tr>\n",
       "    <tr>\n",
       "      <th>['reconhecimento facial']</th>\n",
       "      <td>46</td>\n",
       "    </tr>\n",
       "    <tr>\n",
       "      <th>['seguro pet', 'assistência para pets', 'pets', 'seguro para gato', 'seguro para cachorro', 'cachorro', 'gato', 'animal de estimação', 'pet']</th>\n",
       "      <td>45</td>\n",
       "    </tr>\n",
       "    <tr>\n",
       "      <th>['conectcar', 'tag itaú']</th>\n",
       "      <td>32</td>\n",
       "    </tr>\n",
       "    <tr>\n",
       "      <th>['aumento temporário', 'aumento temporario de limite']</th>\n",
       "      <td>29</td>\n",
       "    </tr>\n",
       "    <tr>\n",
       "      <th>['#teste']</th>\n",
       "      <td>16</td>\n",
       "    </tr>\n",
       "    <tr>\n",
       "      <th>['antecipar pagamento', 'pagamento antecipado', 'adiantar parcela']</th>\n",
       "      <td>16</td>\n",
       "    </tr>\n",
       "    <tr>\n",
       "      <th>['titular falecido']</th>\n",
       "      <td>16</td>\n",
       "    </tr>\n",
       "    <tr>\n",
       "      <th>['limite', 'iti']</th>\n",
       "      <td>16</td>\n",
       "    </tr>\n",
       "    <tr>\n",
       "      <th>['pagar', 'contas', 'pagamento', 'iti']</th>\n",
       "      <td>16</td>\n",
       "    </tr>\n",
       "    <tr>\n",
       "      <th>['liberação de limite', 'liberar limite', 'limite liberado']</th>\n",
       "      <td>16</td>\n",
       "    </tr>\n",
       "    <tr>\n",
       "      <th>['aumentar limite do cartão', 'aumento de limite', 'aumentar meu limite']</th>\n",
       "      <td>16</td>\n",
       "    </tr>\n",
       "    <tr>\n",
       "      <th>['limites', 'pix']</th>\n",
       "      <td>16</td>\n",
       "    </tr>\n",
       "    <tr>\n",
       "      <th>['minhasfinancas']</th>\n",
       "      <td>16</td>\n",
       "    </tr>\n",
       "    <tr>\n",
       "      <th>['aec', 'avaliação emergencial de crédito', 'compras acima do limite do cartão']</th>\n",
       "      <td>16</td>\n",
       "    </tr>\n",
       "    <tr>\n",
       "      <th>['cartão virtual', 'itaucard']</th>\n",
       "      <td>16</td>\n",
       "    </tr>\n",
       "    <tr>\n",
       "      <th>['avaliação emergencial de crédito', 'avaliacao de emergencia', 'avaliacao emergencial', 'aumento de credito', 'aumentar crédito']</th>\n",
       "      <td>16</td>\n",
       "    </tr>\n",
       "    <tr>\n",
       "      <th>['aumento temporario', 'aumento temporário', 'aumento temporario de limite']</th>\n",
       "      <td>16</td>\n",
       "    </tr>\n",
       "    <tr>\n",
       "      <th>['avaliação emergencial de crédito', 'aec', 'compras acima do limite do cartão']</th>\n",
       "      <td>16</td>\n",
       "    </tr>\n",
       "    <tr>\n",
       "      <th>['aumentar limite do cartão', 'limite do cartão de crédito', 'aumento de limite']</th>\n",
       "      <td>16</td>\n",
       "    </tr>\n",
       "    <tr>\n",
       "      <th>['chave pix', 'cadastrar chave pix']</th>\n",
       "      <td>16</td>\n",
       "    </tr>\n",
       "    <tr>\n",
       "      <th>['limite liberado', 'liberação de limite']</th>\n",
       "      <td>16</td>\n",
       "    </tr>\n",
       "    <tr>\n",
       "      <th>['cartão virtual', 'credicard']</th>\n",
       "      <td>16</td>\n",
       "    </tr>\n",
       "    <tr>\n",
       "      <th>['#consultar limite do cartão de crédito', 'ver limite do cartão', 'limite do cartão', 'limite']</th>\n",
       "      <td>16</td>\n",
       "    </tr>\n",
       "    <tr>\n",
       "      <th>['limites', 'iti']</th>\n",
       "      <td>16</td>\n",
       "    </tr>\n",
       "    <tr>\n",
       "      <th>['final', 'ia gen']</th>\n",
       "      <td>16</td>\n",
       "    </tr>\n",
       "    <tr>\n",
       "      <th>['ia gen', 'final']</th>\n",
       "      <td>16</td>\n",
       "    </tr>\n",
       "    <tr>\n",
       "      <th>['nova lei cambial', 'nova lei de câmbio', 'nova norma cambial', 'nova norma de câmbio', 'mudança câmbio', 'câmbio 2023']</th>\n",
       "      <td>15</td>\n",
       "    </tr>\n",
       "    <tr>\n",
       "      <th>['rascunhos']</th>\n",
       "      <td>15</td>\n",
       "    </tr>\n",
       "    <tr>\n",
       "      <th>['detran', 'pagamentos']</th>\n",
       "      <td>15</td>\n",
       "    </tr>\n",
       "  </tbody>\n",
       "</table>\n",
       "</div>"
      ],
      "text/plain": [
       "                                                    count\n",
       "tags                                                     \n",
       "[]                                                  37734\n",
       "['idl']                                               432\n",
       "['rascunho']                                          258\n",
       "['cartão digital', 'segunda via', '2ª via digit...    158\n",
       "['openfinance']                                       128\n",
       "['facebook pay']                                      128\n",
       "['rendimento', 'iti']                                  80\n",
       "['senha', 'segurança']                                 79\n",
       "['crise']                                              60\n",
       "['pagamentos', 'detran']                               48\n",
       "['cartão virtual']                                     48\n",
       "['itokenapp']                                          47\n",
       "['final']                                              47\n",
       "['reconhecimento facial']                              46\n",
       "['seguro pet', 'assistência para pets', 'pets',...     45\n",
       "['conectcar', 'tag itaú']                              32\n",
       "['aumento temporário', 'aumento temporario de l...     29\n",
       "['#teste']                                             16\n",
       "['antecipar pagamento', 'pagamento antecipado',...     16\n",
       "['titular falecido']                                   16\n",
       "['limite', 'iti']                                      16\n",
       "['pagar', 'contas', 'pagamento', 'iti']                16\n",
       "['liberação de limite', 'liberar limite', 'limi...     16\n",
       "['aumentar limite do cartão', 'aumento de limit...     16\n",
       "['limites', 'pix']                                     16\n",
       "['minhasfinancas']                                     16\n",
       "['aec', 'avaliação emergencial de crédito', 'co...     16\n",
       "['cartão virtual', 'itaucard']                         16\n",
       "['avaliação emergencial de crédito', 'avaliacao...     16\n",
       "['aumento temporario', 'aumento temporário', 'a...     16\n",
       "['avaliação emergencial de crédito', 'aec', 'co...     16\n",
       "['aumentar limite do cartão', 'limite do cartão...     16\n",
       "['chave pix', 'cadastrar chave pix']                   16\n",
       "['limite liberado', 'liberação de limite']             16\n",
       "['cartão virtual', 'credicard']                        16\n",
       "['#consultar limite do cartão de crédito', 'ver...     16\n",
       "['limites', 'iti']                                     16\n",
       "['final', 'ia gen']                                    16\n",
       "['ia gen', 'final']                                    16\n",
       "['nova lei cambial', 'nova lei de câmbio', 'nov...     15\n",
       "['rascunhos']                                          15\n",
       "['detran', 'pagamentos']                               15"
      ]
     },
     "execution_count": 190,
     "metadata": {},
     "output_type": "execute_result"
    }
   ],
   "source": [
    "null_pct = df_raw[df_raw[col_nm].isna()].shape[0]/df_raw.shape[0]\n",
    "display(Markdown(f\"## Percentage of nulls {null_pct:.2%}\"))\n",
    "pd.DataFrame(df_raw[col_nm].value_counts())"
   ]
  },
  {
   "cell_type": "code",
   "execution_count": 191,
   "id": "dc30bf51-513f-4380-9864-35da8e57c83e",
   "metadata": {},
   "outputs": [
    {
     "data": {
      "text/markdown": [
       "# Analysis Column 25: texto_botao_contextualizada"
      ],
      "text/plain": [
       "<IPython.core.display.Markdown object>"
      ]
     },
     "metadata": {},
     "output_type": "display_data"
    }
   ],
   "source": [
    "col_nm = df_raw.columns[col_idx]\n",
    "display(Markdown(f\"# Analysis Column {col_idx}: {col_nm}\"))\n",
    "col_idx += 1"
   ]
  },
  {
   "cell_type": "code",
   "execution_count": 192,
   "id": "bd94e6f7-4417-4765-b821-5f2929bc32ab",
   "metadata": {},
   "outputs": [
    {
     "data": {
      "text/markdown": [
       "## Percentage of nulls 98.03%"
      ],
      "text/plain": [
       "<IPython.core.display.Markdown object>"
      ]
     },
     "metadata": {},
     "output_type": "display_data"
    },
    {
     "data": {
      "text/html": [
       "<div>\n",
       "<style scoped>\n",
       "    .dataframe tbody tr th:only-of-type {\n",
       "        vertical-align: middle;\n",
       "    }\n",
       "\n",
       "    .dataframe tbody tr th {\n",
       "        vertical-align: top;\n",
       "    }\n",
       "\n",
       "    .dataframe thead th {\n",
       "        text-align: right;\n",
       "    }\n",
       "</style>\n",
       "<table border=\"1\" class=\"dataframe\">\n",
       "  <thead>\n",
       "    <tr style=\"text-align: right;\">\n",
       "      <th></th>\n",
       "      <th>count</th>\n",
       "    </tr>\n",
       "    <tr>\n",
       "      <th>texto_botao_contextualizada</th>\n",
       "      <th></th>\n",
       "    </tr>\n",
       "  </thead>\n",
       "  <tbody>\n",
       "    <tr>\n",
       "      <th>bloquear cartão</th>\n",
       "      <td>36</td>\n",
       "    </tr>\n",
       "    <tr>\n",
       "      <th>saber mais</th>\n",
       "      <td>32</td>\n",
       "    </tr>\n",
       "    <tr>\n",
       "      <th>2ª via do boleto</th>\n",
       "      <td>32</td>\n",
       "    </tr>\n",
       "    <tr>\n",
       "      <th>antecipar parcela</th>\n",
       "      <td>32</td>\n",
       "    </tr>\n",
       "    <tr>\n",
       "      <th>quero habilitar</th>\n",
       "      <td>32</td>\n",
       "    </tr>\n",
       "    <tr>\n",
       "      <th>rastrear entrega</th>\n",
       "      <td>32</td>\n",
       "    </tr>\n",
       "    <tr>\n",
       "      <th>consultar pelo chat</th>\n",
       "      <td>32</td>\n",
       "    </tr>\n",
       "    <tr>\n",
       "      <th>recuperar senha</th>\n",
       "      <td>32</td>\n",
       "    </tr>\n",
       "    <tr>\n",
       "      <th>alterar pacote</th>\n",
       "      <td>32</td>\n",
       "    </tr>\n",
       "    <tr>\n",
       "      <th>pedir aumento do limite</th>\n",
       "      <td>16</td>\n",
       "    </tr>\n",
       "    <tr>\n",
       "      <th>consultar INSS</th>\n",
       "      <td>16</td>\n",
       "    </tr>\n",
       "    <tr>\n",
       "      <th>cadastrar chave Pix</th>\n",
       "      <td>16</td>\n",
       "    </tr>\n",
       "    <tr>\n",
       "      <th>simular crédito consignado</th>\n",
       "      <td>16</td>\n",
       "    </tr>\n",
       "    <tr>\n",
       "      <th>pedir 2ª via</th>\n",
       "      <td>16</td>\n",
       "    </tr>\n",
       "    <tr>\n",
       "      <th>alterar endereço pelo chat</th>\n",
       "      <td>16</td>\n",
       "    </tr>\n",
       "    <tr>\n",
       "      <th>parcelar fatura pelo chat</th>\n",
       "      <td>16</td>\n",
       "    </tr>\n",
       "    <tr>\n",
       "      <th>ir para o chat</th>\n",
       "      <td>16</td>\n",
       "    </tr>\n",
       "    <tr>\n",
       "      <th>cancelar AD pelo chat</th>\n",
       "      <td>16</td>\n",
       "    </tr>\n",
       "    <tr>\n",
       "      <th>emitir boleto</th>\n",
       "      <td>16</td>\n",
       "    </tr>\n",
       "    <tr>\n",
       "      <th>antecipar ou quitar financiamento</th>\n",
       "      <td>16</td>\n",
       "    </tr>\n",
       "    <tr>\n",
       "      <th>consultar informações</th>\n",
       "      <td>16</td>\n",
       "    </tr>\n",
       "    <tr>\n",
       "      <th>consultar acionamento</th>\n",
       "      <td>16</td>\n",
       "    </tr>\n",
       "    <tr>\n",
       "      <th>simular empréstimo</th>\n",
       "      <td>16</td>\n",
       "    </tr>\n",
       "    <tr>\n",
       "      <th>2ª via do cartão</th>\n",
       "      <td>16</td>\n",
       "    </tr>\n",
       "    <tr>\n",
       "      <th>alterar limite</th>\n",
       "      <td>16</td>\n",
       "    </tr>\n",
       "    <tr>\n",
       "      <th>desbloquear cartão</th>\n",
       "      <td>16</td>\n",
       "    </tr>\n",
       "    <tr>\n",
       "      <th>simular contratação</th>\n",
       "      <td>16</td>\n",
       "    </tr>\n",
       "    <tr>\n",
       "      <th>consultar Limite da Conta</th>\n",
       "      <td>16</td>\n",
       "    </tr>\n",
       "    <tr>\n",
       "      <th>consultar no chat</th>\n",
       "      <td>16</td>\n",
       "    </tr>\n",
       "    <tr>\n",
       "      <th>consultar elegibilidade</th>\n",
       "      <td>16</td>\n",
       "    </tr>\n",
       "    <tr>\n",
       "      <th>acessar chat</th>\n",
       "      <td>16</td>\n",
       "    </tr>\n",
       "    <tr>\n",
       "      <th>consultar proposta</th>\n",
       "      <td>16</td>\n",
       "    </tr>\n",
       "    <tr>\n",
       "      <th>simular agora</th>\n",
       "      <td>16</td>\n",
       "    </tr>\n",
       "    <tr>\n",
       "      <th>simular renegociação</th>\n",
       "      <td>16</td>\n",
       "    </tr>\n",
       "    <tr>\n",
       "      <th>alterar pacote pelo chat</th>\n",
       "      <td>16</td>\n",
       "    </tr>\n",
       "    <tr>\n",
       "      <th>consultar código pelo chat</th>\n",
       "      <td>16</td>\n",
       "    </tr>\n",
       "    <tr>\n",
       "      <th>2ª via da fatura</th>\n",
       "      <td>16</td>\n",
       "    </tr>\n",
       "    <tr>\n",
       "      <th>consultar compra negada</th>\n",
       "      <td>16</td>\n",
       "    </tr>\n",
       "    <tr>\n",
       "      <th>cancelar Limite da Conta</th>\n",
       "      <td>16</td>\n",
       "    </tr>\n",
       "    <tr>\n",
       "      <th>consultar IR</th>\n",
       "      <td>4</td>\n",
       "    </tr>\n",
       "    <tr>\n",
       "      <th>bloqueio definitivo</th>\n",
       "      <td>4</td>\n",
       "    </tr>\n",
       "    <tr>\n",
       "      <th>simular</th>\n",
       "      <td>4</td>\n",
       "    </tr>\n",
       "  </tbody>\n",
       "</table>\n",
       "</div>"
      ],
      "text/plain": [
       "                                   count\n",
       "texto_botao_contextualizada             \n",
       "bloquear cartão                       36\n",
       "saber mais                            32\n",
       "2ª via do boleto                      32\n",
       "antecipar parcela                     32\n",
       "quero habilitar                       32\n",
       "rastrear entrega                      32\n",
       "consultar pelo chat                   32\n",
       "recuperar senha                       32\n",
       "alterar pacote                        32\n",
       "pedir aumento do limite               16\n",
       "consultar INSS                        16\n",
       "cadastrar chave Pix                   16\n",
       "simular crédito consignado            16\n",
       "pedir 2ª via                          16\n",
       "alterar endereço pelo chat            16\n",
       "parcelar fatura pelo chat             16\n",
       "ir para o chat                        16\n",
       "cancelar AD pelo chat                 16\n",
       "emitir boleto                         16\n",
       "antecipar ou quitar financiamento     16\n",
       "consultar informações                 16\n",
       "consultar acionamento                 16\n",
       "simular empréstimo                    16\n",
       "2ª via do cartão                      16\n",
       "alterar limite                        16\n",
       "desbloquear cartão                    16\n",
       "simular contratação                   16\n",
       "consultar Limite da Conta             16\n",
       "consultar no chat                     16\n",
       "consultar elegibilidade               16\n",
       "acessar chat                          16\n",
       "consultar proposta                    16\n",
       "simular agora                         16\n",
       "simular renegociação                  16\n",
       "alterar pacote pelo chat              16\n",
       "consultar código pelo chat            16\n",
       "2ª via da fatura                      16\n",
       "consultar compra negada               16\n",
       "cancelar Limite da Conta              16\n",
       "consultar IR                           4\n",
       "bloqueio definitivo                    4\n",
       "simular                                4"
      ]
     },
     "execution_count": 192,
     "metadata": {},
     "output_type": "execute_result"
    }
   ],
   "source": [
    "null_pct = df_raw[df_raw[col_nm].isna()].shape[0]/df_raw.shape[0]\n",
    "display(Markdown(f\"## Percentage of nulls {null_pct:.2%}\"))\n",
    "pd.DataFrame(df_raw[col_nm].value_counts())"
   ]
  },
  {
   "cell_type": "code",
   "execution_count": 194,
   "id": "4354e4ac-c125-439b-8f4d-acf33bce3d08",
   "metadata": {},
   "outputs": [
    {
     "data": {
      "text/markdown": [
       "# Analysis Column 26: title"
      ],
      "text/plain": [
       "<IPython.core.display.Markdown object>"
      ]
     },
     "metadata": {},
     "output_type": "display_data"
    }
   ],
   "source": [
    "col_nm = df_raw.columns[col_idx]\n",
    "display(Markdown(f\"# Analysis Column {col_idx}: {col_nm}\"))\n",
    "col_idx += 1"
   ]
  },
  {
   "cell_type": "code",
   "execution_count": 195,
   "id": "fa3257a6-d185-4350-9850-69965a66ff29",
   "metadata": {},
   "outputs": [
    {
     "data": {
      "text/markdown": [
       "## Percentage of nulls 0.00%"
      ],
      "text/plain": [
       "<IPython.core.display.Markdown object>"
      ]
     },
     "metadata": {},
     "output_type": "display_data"
    },
    {
     "data": {
      "text/html": [
       "<div>\n",
       "<style scoped>\n",
       "    .dataframe tbody tr th:only-of-type {\n",
       "        vertical-align: middle;\n",
       "    }\n",
       "\n",
       "    .dataframe tbody tr th {\n",
       "        vertical-align: top;\n",
       "    }\n",
       "\n",
       "    .dataframe thead th {\n",
       "        text-align: right;\n",
       "    }\n",
       "</style>\n",
       "<table border=\"1\" class=\"dataframe\">\n",
       "  <thead>\n",
       "    <tr style=\"text-align: right;\">\n",
       "      <th></th>\n",
       "      <th>count</th>\n",
       "    </tr>\n",
       "    <tr>\n",
       "      <th>title</th>\n",
       "      <th></th>\n",
       "    </tr>\n",
       "  </thead>\n",
       "  <tbody>\n",
       "    <tr>\n",
       "      <th>[Crediicard On/Samsung/PlayersBank/Decathlon] Paguei a fatura duas vezes ou um valor a mais. E agora?</th>\n",
       "      <td>32</td>\n",
       "    </tr>\n",
       "    <tr>\n",
       "      <th>Como cadastro minha fatura em débito automático? c6ee8436</th>\n",
       "      <td>16</td>\n",
       "    </tr>\n",
       "    <tr>\n",
       "      <th>[PlayersBank] Quanto vou receber de cashback?</th>\n",
       "      <td>16</td>\n",
       "    </tr>\n",
       "    <tr>\n",
       "      <th>[Players Bank] Como faço para alterar a senha do meu app?</th>\n",
       "      <td>16</td>\n",
       "    </tr>\n",
       "    <tr>\n",
       "      <th>[Players Bank] Como faço para cancelar meu cartão?</th>\n",
       "      <td>16</td>\n",
       "    </tr>\n",
       "    <tr>\n",
       "      <th>...</th>\n",
       "      <td>...</td>\n",
       "    </tr>\n",
       "    <tr>\n",
       "      <th>[PF] [Benefícios] Tenho benefícios de compras com o cartão The One?</th>\n",
       "      <td>1</td>\n",
       "    </tr>\n",
       "    <tr>\n",
       "      <th>[PF] [Benefícios] Como funciona o serviço da Flapper para clientes The One?</th>\n",
       "      <td>1</td>\n",
       "    </tr>\n",
       "    <tr>\n",
       "      <th>[PF] [Benefícios] Como funciona o benefício de transportes do Cartão The One?</th>\n",
       "      <td>1</td>\n",
       "    </tr>\n",
       "    <tr>\n",
       "      <th>[PF] [Benefícios]Quais são os benefícios nos resorts Club Med para o cartão The One?</th>\n",
       "      <td>1</td>\n",
       "    </tr>\n",
       "    <tr>\n",
       "      <th>[PJ] Quais são as diferenças entre DOC, TED e TEF e Pix?</th>\n",
       "      <td>1</td>\n",
       "    </tr>\n",
       "  </tbody>\n",
       "</table>\n",
       "<p>2734 rows × 1 columns</p>\n",
       "</div>"
      ],
      "text/plain": [
       "                                                    count\n",
       "title                                                    \n",
       "[Crediicard On/Samsung/PlayersBank/Decathlon] P...     32\n",
       "Como cadastro minha fatura em débito automático...     16\n",
       "[PlayersBank] Quanto vou receber de cashback?          16\n",
       "[Players Bank] Como faço para alterar a senha d...     16\n",
       "[Players Bank] Como faço para cancelar meu cartão?     16\n",
       "...                                                   ...\n",
       "[PF] [Benefícios] Tenho benefícios de compras c...      1\n",
       "[PF] [Benefícios] Como funciona o serviço da Fl...      1\n",
       "[PF] [Benefícios] Como funciona o benefício de ...      1\n",
       "[PF] [Benefícios]Quais são os benefícios nos re...      1\n",
       "[PJ] Quais são as diferenças entre DOC, TED e T...      1\n",
       "\n",
       "[2734 rows x 1 columns]"
      ]
     },
     "execution_count": 195,
     "metadata": {},
     "output_type": "execute_result"
    }
   ],
   "source": [
    "null_pct = df_raw[df_raw[col_nm].isna()].shape[0]/df_raw.shape[0]\n",
    "display(Markdown(f\"## Percentage of nulls {null_pct:.2%}\"))\n",
    "pd.DataFrame(df_raw[col_nm].value_counts())"
   ]
  },
  {
   "cell_type": "markdown",
   "id": "f1771a19-a271-4e49-9b25-3d7f97fff9f7",
   "metadata": {},
   "source": [
    "## Hightlights\n",
    "* Can we use `title` to filter the QnA related to benefits?"
   ]
  },
  {
   "cell_type": "code",
   "execution_count": 196,
   "id": "e7aab5ce-b073-4fdd-aa49-358d4096db83",
   "metadata": {},
   "outputs": [
    {
     "data": {
      "text/markdown": [
       "# Analysis Column 27: titularidade"
      ],
      "text/plain": [
       "<IPython.core.display.Markdown object>"
      ]
     },
     "metadata": {},
     "output_type": "display_data"
    }
   ],
   "source": [
    "col_nm = df_raw.columns[col_idx]\n",
    "display(Markdown(f\"# Analysis Column {col_idx}: {col_nm}\"))\n",
    "col_idx += 1"
   ]
  },
  {
   "cell_type": "code",
   "execution_count": 197,
   "id": "61984a29-100a-4add-a1a4-fea58d2fe50f",
   "metadata": {},
   "outputs": [
    {
     "data": {
      "text/markdown": [
       "## Percentage of nulls 0.00%"
      ],
      "text/plain": [
       "<IPython.core.display.Markdown object>"
      ]
     },
     "metadata": {},
     "output_type": "display_data"
    },
    {
     "data": {
      "text/html": [
       "<div>\n",
       "<style scoped>\n",
       "    .dataframe tbody tr th:only-of-type {\n",
       "        vertical-align: middle;\n",
       "    }\n",
       "\n",
       "    .dataframe tbody tr th {\n",
       "        vertical-align: top;\n",
       "    }\n",
       "\n",
       "    .dataframe thead th {\n",
       "        text-align: right;\n",
       "    }\n",
       "</style>\n",
       "<table border=\"1\" class=\"dataframe\">\n",
       "  <thead>\n",
       "    <tr style=\"text-align: right;\">\n",
       "      <th></th>\n",
       "      <th>count</th>\n",
       "    </tr>\n",
       "    <tr>\n",
       "      <th>titularidade</th>\n",
       "      <th></th>\n",
       "    </tr>\n",
       "  </thead>\n",
       "  <tbody>\n",
       "    <tr>\n",
       "      <th>---</th>\n",
       "      <td>22694</td>\n",
       "    </tr>\n",
       "    <tr>\n",
       "      <th>T</th>\n",
       "      <td>17055</td>\n",
       "    </tr>\n",
       "    <tr>\n",
       "      <th>A</th>\n",
       "      <td>47</td>\n",
       "    </tr>\n",
       "  </tbody>\n",
       "</table>\n",
       "</div>"
      ],
      "text/plain": [
       "              count\n",
       "titularidade       \n",
       "---           22694\n",
       "T             17055\n",
       "A                47"
      ]
     },
     "execution_count": 197,
     "metadata": {},
     "output_type": "execute_result"
    }
   ],
   "source": [
    "null_pct = df_raw[df_raw[col_nm].isna()].shape[0]/df_raw.shape[0]\n",
    "display(Markdown(f\"## Percentage of nulls {null_pct:.2%}\"))\n",
    "pd.DataFrame(df_raw[col_nm].value_counts())"
   ]
  },
  {
   "cell_type": "code",
   "execution_count": 198,
   "id": "a8f884c6-0f87-45b9-9e0d-35cfe93cf4d3",
   "metadata": {},
   "outputs": [
    {
     "data": {
      "text/markdown": [
       "# Analysis Column 28: titulo_atalhos"
      ],
      "text/plain": [
       "<IPython.core.display.Markdown object>"
      ]
     },
     "metadata": {},
     "output_type": "display_data"
    }
   ],
   "source": [
    "col_nm = df_raw.columns[col_idx]\n",
    "display(Markdown(f\"# Analysis Column {col_idx}: {col_nm}\"))\n",
    "col_idx += 1"
   ]
  },
  {
   "cell_type": "code",
   "execution_count": 199,
   "id": "4bd6c8ad-443e-465f-86fc-6634c0ce95d2",
   "metadata": {},
   "outputs": [
    {
     "data": {
      "text/markdown": [
       "## Percentage of nulls 75.89%"
      ],
      "text/plain": [
       "<IPython.core.display.Markdown object>"
      ]
     },
     "metadata": {},
     "output_type": "display_data"
    },
    {
     "data": {
      "text/html": [
       "<div>\n",
       "<style scoped>\n",
       "    .dataframe tbody tr th:only-of-type {\n",
       "        vertical-align: middle;\n",
       "    }\n",
       "\n",
       "    .dataframe tbody tr th {\n",
       "        vertical-align: top;\n",
       "    }\n",
       "\n",
       "    .dataframe thead th {\n",
       "        text-align: right;\n",
       "    }\n",
       "</style>\n",
       "<table border=\"1\" class=\"dataframe\">\n",
       "  <thead>\n",
       "    <tr style=\"text-align: right;\">\n",
       "      <th></th>\n",
       "      <th>count</th>\n",
       "    </tr>\n",
       "    <tr>\n",
       "      <th>titulo_atalhos</th>\n",
       "      <th></th>\n",
       "    </tr>\n",
       "  </thead>\n",
       "  <tbody>\n",
       "    <tr>\n",
       "      <th>[]</th>\n",
       "      <td>8849</td>\n",
       "    </tr>\n",
       "    <tr>\n",
       "      <th>[{'uid': 'bltf6fc33db0080d867', '_content_type_uid': 'titulos_ca_atlas'}]</th>\n",
       "      <td>745</td>\n",
       "    </tr>\n",
       "  </tbody>\n",
       "</table>\n",
       "</div>"
      ],
      "text/plain": [
       "                                                    count\n",
       "titulo_atalhos                                           \n",
       "[]                                                   8849\n",
       "[{'uid': 'bltf6fc33db0080d867', '_content_type_...    745"
      ]
     },
     "execution_count": 199,
     "metadata": {},
     "output_type": "execute_result"
    }
   ],
   "source": [
    "null_pct = df_raw[df_raw[col_nm].isna()].shape[0]/df_raw.shape[0]\n",
    "display(Markdown(f\"## Percentage of nulls {null_pct:.2%}\"))\n",
    "pd.DataFrame(df_raw[col_nm].value_counts())"
   ]
  },
  {
   "cell_type": "code",
   "execution_count": 201,
   "id": "ecdf6dc5-4fef-497a-8a44-353ff0b6a113",
   "metadata": {},
   "outputs": [
    {
     "data": {
      "text/markdown": [
       "# Analysis Column 29: top"
      ],
      "text/plain": [
       "<IPython.core.display.Markdown object>"
      ]
     },
     "metadata": {},
     "output_type": "display_data"
    }
   ],
   "source": [
    "col_nm = df_raw.columns[col_idx]\n",
    "display(Markdown(f\"# Analysis Column {col_idx}: {col_nm}\"))\n",
    "col_idx += 1"
   ]
  },
  {
   "cell_type": "code",
   "execution_count": 202,
   "id": "ff3b44ae-27dc-4886-a0c7-a1720cfb5353",
   "metadata": {},
   "outputs": [
    {
     "data": {
      "text/markdown": [
       "## Percentage of nulls 0.00%"
      ],
      "text/plain": [
       "<IPython.core.display.Markdown object>"
      ]
     },
     "metadata": {},
     "output_type": "display_data"
    },
    {
     "data": {
      "text/html": [
       "<div>\n",
       "<style scoped>\n",
       "    .dataframe tbody tr th:only-of-type {\n",
       "        vertical-align: middle;\n",
       "    }\n",
       "\n",
       "    .dataframe tbody tr th {\n",
       "        vertical-align: top;\n",
       "    }\n",
       "\n",
       "    .dataframe thead th {\n",
       "        text-align: right;\n",
       "    }\n",
       "</style>\n",
       "<table border=\"1\" class=\"dataframe\">\n",
       "  <thead>\n",
       "    <tr style=\"text-align: right;\">\n",
       "      <th></th>\n",
       "      <th>count</th>\n",
       "    </tr>\n",
       "    <tr>\n",
       "      <th>top</th>\n",
       "      <th></th>\n",
       "    </tr>\n",
       "  </thead>\n",
       "  <tbody>\n",
       "    <tr>\n",
       "      <th>---</th>\n",
       "      <td>38816</td>\n",
       "    </tr>\n",
       "    <tr>\n",
       "      <th>X</th>\n",
       "      <td>980</td>\n",
       "    </tr>\n",
       "  </tbody>\n",
       "</table>\n",
       "</div>"
      ],
      "text/plain": [
       "     count\n",
       "top       \n",
       "---  38816\n",
       "X      980"
      ]
     },
     "execution_count": 202,
     "metadata": {},
     "output_type": "execute_result"
    }
   ],
   "source": [
    "null_pct = df_raw[df_raw[col_nm].isna()].shape[0]/df_raw.shape[0]\n",
    "display(Markdown(f\"## Percentage of nulls {null_pct:.2%}\"))\n",
    "pd.DataFrame(df_raw[col_nm].value_counts())"
   ]
  },
  {
   "cell_type": "code",
   "execution_count": 203,
   "id": "f97b3665-c2e5-4a9c-9d73-449c1644f6d0",
   "metadata": {},
   "outputs": [
    {
     "data": {
      "text/markdown": [
       "# Analysis Column 30: uid"
      ],
      "text/plain": [
       "<IPython.core.display.Markdown object>"
      ]
     },
     "metadata": {},
     "output_type": "display_data"
    }
   ],
   "source": [
    "col_nm = df_raw.columns[col_idx]\n",
    "display(Markdown(f\"# Analysis Column {col_idx}: {col_nm}\"))\n",
    "col_idx += 1"
   ]
  },
  {
   "cell_type": "code",
   "execution_count": 204,
   "id": "fd343ae7-ac74-436a-9aa1-075f37751eb4",
   "metadata": {},
   "outputs": [
    {
     "data": {
      "text/markdown": [
       "## Percentage of nulls 0.00%"
      ],
      "text/plain": [
       "<IPython.core.display.Markdown object>"
      ]
     },
     "metadata": {},
     "output_type": "display_data"
    },
    {
     "data": {
      "text/html": [
       "<div>\n",
       "<style scoped>\n",
       "    .dataframe tbody tr th:only-of-type {\n",
       "        vertical-align: middle;\n",
       "    }\n",
       "\n",
       "    .dataframe tbody tr th {\n",
       "        vertical-align: top;\n",
       "    }\n",
       "\n",
       "    .dataframe thead th {\n",
       "        text-align: right;\n",
       "    }\n",
       "</style>\n",
       "<table border=\"1\" class=\"dataframe\">\n",
       "  <thead>\n",
       "    <tr style=\"text-align: right;\">\n",
       "      <th></th>\n",
       "      <th>count</th>\n",
       "    </tr>\n",
       "    <tr>\n",
       "      <th>uid</th>\n",
       "      <th></th>\n",
       "    </tr>\n",
       "  </thead>\n",
       "  <tbody>\n",
       "    <tr>\n",
       "      <th>bltc45bbb6c632af545</th>\n",
       "      <td>16</td>\n",
       "    </tr>\n",
       "    <tr>\n",
       "      <th>bltc06bb7279e33325e</th>\n",
       "      <td>16</td>\n",
       "    </tr>\n",
       "    <tr>\n",
       "      <th>bltf23b3bf924a2400d</th>\n",
       "      <td>16</td>\n",
       "    </tr>\n",
       "    <tr>\n",
       "      <th>bltf10485df8943234c</th>\n",
       "      <td>16</td>\n",
       "    </tr>\n",
       "    <tr>\n",
       "      <th>blt3ca00a120a021e71</th>\n",
       "      <td>16</td>\n",
       "    </tr>\n",
       "    <tr>\n",
       "      <th>...</th>\n",
       "      <td>...</td>\n",
       "    </tr>\n",
       "    <tr>\n",
       "      <th>blt6a210e505dc6c2e3</th>\n",
       "      <td>1</td>\n",
       "    </tr>\n",
       "    <tr>\n",
       "      <th>blta6ec2f8f64c35091</th>\n",
       "      <td>1</td>\n",
       "    </tr>\n",
       "    <tr>\n",
       "      <th>bltd211cd915002d7e2</th>\n",
       "      <td>1</td>\n",
       "    </tr>\n",
       "    <tr>\n",
       "      <th>bltd403a4a720c2e98c</th>\n",
       "      <td>1</td>\n",
       "    </tr>\n",
       "    <tr>\n",
       "      <th>bltc92f972ee847a09b</th>\n",
       "      <td>1</td>\n",
       "    </tr>\n",
       "  </tbody>\n",
       "</table>\n",
       "<p>2655 rows × 1 columns</p>\n",
       "</div>"
      ],
      "text/plain": [
       "                     count\n",
       "uid                       \n",
       "bltc45bbb6c632af545     16\n",
       "bltc06bb7279e33325e     16\n",
       "bltf23b3bf924a2400d     16\n",
       "bltf10485df8943234c     16\n",
       "blt3ca00a120a021e71     16\n",
       "...                    ...\n",
       "blt6a210e505dc6c2e3      1\n",
       "blta6ec2f8f64c35091      1\n",
       "bltd211cd915002d7e2      1\n",
       "bltd403a4a720c2e98c      1\n",
       "bltc92f972ee847a09b      1\n",
       "\n",
       "[2655 rows x 1 columns]"
      ]
     },
     "execution_count": 204,
     "metadata": {},
     "output_type": "execute_result"
    }
   ],
   "source": [
    "null_pct = df_raw[df_raw[col_nm].isna()].shape[0]/df_raw.shape[0]\n",
    "display(Markdown(f\"## Percentage of nulls {null_pct:.2%}\"))\n",
    "pd.DataFrame(df_raw[col_nm].value_counts())"
   ]
  },
  {
   "cell_type": "code",
   "execution_count": 205,
   "id": "31adaf4c-6ebb-4b12-b170-6739a74916e2",
   "metadata": {},
   "outputs": [
    {
     "data": {
      "text/markdown": [
       "# Analysis Column 31: updated_at"
      ],
      "text/plain": [
       "<IPython.core.display.Markdown object>"
      ]
     },
     "metadata": {},
     "output_type": "display_data"
    }
   ],
   "source": [
    "col_nm = df_raw.columns[col_idx]\n",
    "display(Markdown(f\"# Analysis Column {col_idx}: {col_nm}\"))\n",
    "col_idx += 1"
   ]
  },
  {
   "cell_type": "code",
   "execution_count": 206,
   "id": "813bd347-c260-490c-b8ce-339cf7c9cf20",
   "metadata": {},
   "outputs": [
    {
     "data": {
      "text/markdown": [
       "## Percentage of nulls 0.00%"
      ],
      "text/plain": [
       "<IPython.core.display.Markdown object>"
      ]
     },
     "metadata": {},
     "output_type": "display_data"
    },
    {
     "data": {
      "image/png": "[encoded data removed]",
      "text/plain": [
       "<Figure size 1500x500 with 1 Axes>"
      ]
     },
     "metadata": {},
     "output_type": "display_data"
    }
   ],
   "source": [
    "display(Markdown(f\"## Percentage of nulls {null_pct:.2%}\"))\n",
    "df_time_freq = pd.DataFrame(df_raw[col_nm].value_counts()).reset_index()\n",
    "df_time_freq['date'] = pd.to_datetime(df_time_freq[col_nm].str[:10]).dt.date\n",
    "df_date_freq = df_time_freq.groupby('date').sum('count')\n",
    "plt.figure(figsize=(15,5))\n",
    "plt.plot(df_date_freq)\n",
    "plt.xticks(rotation=90)\n",
    "pass"
   ]
  },
  {
   "cell_type": "code",
   "execution_count": 207,
   "id": "5602d87c-65b9-47cd-ac13-92bd49e33175",
   "metadata": {},
   "outputs": [
    {
     "data": {
      "text/markdown": [
       "# Analysis Column 32: updated_by"
      ],
      "text/plain": [
       "<IPython.core.display.Markdown object>"
      ]
     },
     "metadata": {},
     "output_type": "display_data"
    }
   ],
   "source": [
    "col_nm = df_raw.columns[col_idx]\n",
    "display(Markdown(f\"# Analysis Column {col_idx}: {col_nm}\"))\n",
    "col_idx += 1"
   ]
  },
  {
   "cell_type": "code",
   "execution_count": 208,
   "id": "c92c96df-35ac-447a-a3d4-2ba1fbb032eb",
   "metadata": {},
   "outputs": [
    {
     "data": {
      "text/markdown": [
       "## Percentage of nulls 0.00%"
      ],
      "text/plain": [
       "<IPython.core.display.Markdown object>"
      ]
     },
     "metadata": {},
     "output_type": "display_data"
    },
    {
     "data": {
      "text/html": [
       "<div>\n",
       "<style scoped>\n",
       "    .dataframe tbody tr th:only-of-type {\n",
       "        vertical-align: middle;\n",
       "    }\n",
       "\n",
       "    .dataframe tbody tr th {\n",
       "        vertical-align: top;\n",
       "    }\n",
       "\n",
       "    .dataframe thead th {\n",
       "        text-align: right;\n",
       "    }\n",
       "</style>\n",
       "<table border=\"1\" class=\"dataframe\">\n",
       "  <thead>\n",
       "    <tr style=\"text-align: right;\">\n",
       "      <th></th>\n",
       "      <th>count</th>\n",
       "    </tr>\n",
       "    <tr>\n",
       "      <th>updated_by</th>\n",
       "      <th></th>\n",
       "    </tr>\n",
       "  </thead>\n",
       "  <tbody>\n",
       "    <tr>\n",
       "      <th>blt43949dc9b5ef8f15</th>\n",
       "      <td>14864</td>\n",
       "    </tr>\n",
       "    <tr>\n",
       "      <th>bltd75c6b984fa6718a</th>\n",
       "      <td>3900</td>\n",
       "    </tr>\n",
       "    <tr>\n",
       "      <th>blt12345ce8145dba43</th>\n",
       "      <td>3562</td>\n",
       "    </tr>\n",
       "    <tr>\n",
       "      <th>blt2d1fda930d804526</th>\n",
       "      <td>2469</td>\n",
       "    </tr>\n",
       "    <tr>\n",
       "      <th>bltc73d2b6ddc340f5e</th>\n",
       "      <td>1464</td>\n",
       "    </tr>\n",
       "    <tr>\n",
       "      <th>blt643c073ebc5f7a2e</th>\n",
       "      <td>1342</td>\n",
       "    </tr>\n",
       "    <tr>\n",
       "      <th>blt397cfef5a3267435</th>\n",
       "      <td>1207</td>\n",
       "    </tr>\n",
       "    <tr>\n",
       "      <th>blt9331085030cf37d6</th>\n",
       "      <td>1174</td>\n",
       "    </tr>\n",
       "    <tr>\n",
       "      <th>blta65848e67b47489f</th>\n",
       "      <td>1131</td>\n",
       "    </tr>\n",
       "    <tr>\n",
       "      <th>blt2db73e8283c60439</th>\n",
       "      <td>951</td>\n",
       "    </tr>\n",
       "    <tr>\n",
       "      <th>blt8bc3626525a55876</th>\n",
       "      <td>908</td>\n",
       "    </tr>\n",
       "    <tr>\n",
       "      <th>blt2275bed96045a04a</th>\n",
       "      <td>787</td>\n",
       "    </tr>\n",
       "    <tr>\n",
       "      <th>bltde2006cc113db001</th>\n",
       "      <td>746</td>\n",
       "    </tr>\n",
       "    <tr>\n",
       "      <th>blt6e5ece5719920cc3</th>\n",
       "      <td>664</td>\n",
       "    </tr>\n",
       "    <tr>\n",
       "      <th>blt0a7c1ba68f13341c</th>\n",
       "      <td>531</td>\n",
       "    </tr>\n",
       "    <tr>\n",
       "      <th>blt882749c0616d51f4</th>\n",
       "      <td>468</td>\n",
       "    </tr>\n",
       "    <tr>\n",
       "      <th>bltae2d416d8f9c0970</th>\n",
       "      <td>467</td>\n",
       "    </tr>\n",
       "    <tr>\n",
       "      <th>bltd497be6c16d95e78</th>\n",
       "      <td>460</td>\n",
       "    </tr>\n",
       "    <tr>\n",
       "      <th>blt97d1f819c6ea0445</th>\n",
       "      <td>448</td>\n",
       "    </tr>\n",
       "    <tr>\n",
       "      <th>bltba2205a2253a3d3e</th>\n",
       "      <td>442</td>\n",
       "    </tr>\n",
       "    <tr>\n",
       "      <th>bltfa571e3c17b46d39</th>\n",
       "      <td>428</td>\n",
       "    </tr>\n",
       "    <tr>\n",
       "      <th>bltc6cc486f6033a3e8</th>\n",
       "      <td>413</td>\n",
       "    </tr>\n",
       "    <tr>\n",
       "      <th>blt14d8669af5b89ac8</th>\n",
       "      <td>321</td>\n",
       "    </tr>\n",
       "    <tr>\n",
       "      <th>blt493a4374621c886d</th>\n",
       "      <td>171</td>\n",
       "    </tr>\n",
       "    <tr>\n",
       "      <th>blt964069fb8bf93085</th>\n",
       "      <td>136</td>\n",
       "    </tr>\n",
       "    <tr>\n",
       "      <th>blt70edb28e2d8db26b</th>\n",
       "      <td>90</td>\n",
       "    </tr>\n",
       "    <tr>\n",
       "      <th>blt9739457121e093b8</th>\n",
       "      <td>64</td>\n",
       "    </tr>\n",
       "    <tr>\n",
       "      <th>bltcf1455b9d5ce5e64</th>\n",
       "      <td>60</td>\n",
       "    </tr>\n",
       "    <tr>\n",
       "      <th>blt4db427e79c80b4d5</th>\n",
       "      <td>30</td>\n",
       "    </tr>\n",
       "    <tr>\n",
       "      <th>bltc8d7bc761ec86818</th>\n",
       "      <td>28</td>\n",
       "    </tr>\n",
       "    <tr>\n",
       "      <th>blt2247bc4437aaf305</th>\n",
       "      <td>17</td>\n",
       "    </tr>\n",
       "    <tr>\n",
       "      <th>bltb6badb09e573f55a</th>\n",
       "      <td>16</td>\n",
       "    </tr>\n",
       "    <tr>\n",
       "      <th>bltdc6912cba6060deb</th>\n",
       "      <td>16</td>\n",
       "    </tr>\n",
       "    <tr>\n",
       "      <th>bltdacfef30c727a72d</th>\n",
       "      <td>15</td>\n",
       "    </tr>\n",
       "    <tr>\n",
       "      <th>blt4b154a14c8a0eb8d</th>\n",
       "      <td>5</td>\n",
       "    </tr>\n",
       "    <tr>\n",
       "      <th>blt36c4b010652241a7</th>\n",
       "      <td>1</td>\n",
       "    </tr>\n",
       "  </tbody>\n",
       "</table>\n",
       "</div>"
      ],
      "text/plain": [
       "                     count\n",
       "updated_by                \n",
       "blt43949dc9b5ef8f15  14864\n",
       "bltd75c6b984fa6718a   3900\n",
       "blt12345ce8145dba43   3562\n",
       "blt2d1fda930d804526   2469\n",
       "bltc73d2b6ddc340f5e   1464\n",
       "blt643c073ebc5f7a2e   1342\n",
       "blt397cfef5a3267435   1207\n",
       "blt9331085030cf37d6   1174\n",
       "blta65848e67b47489f   1131\n",
       "blt2db73e8283c60439    951\n",
       "blt8bc3626525a55876    908\n",
       "blt2275bed96045a04a    787\n",
       "bltde2006cc113db001    746\n",
       "blt6e5ece5719920cc3    664\n",
       "blt0a7c1ba68f13341c    531\n",
       "blt882749c0616d51f4    468\n",
       "bltae2d416d8f9c0970    467\n",
       "bltd497be6c16d95e78    460\n",
       "blt97d1f819c6ea0445    448\n",
       "bltba2205a2253a3d3e    442\n",
       "bltfa571e3c17b46d39    428\n",
       "bltc6cc486f6033a3e8    413\n",
       "blt14d8669af5b89ac8    321\n",
       "blt493a4374621c886d    171\n",
       "blt964069fb8bf93085    136\n",
       "blt70edb28e2d8db26b     90\n",
       "blt9739457121e093b8     64\n",
       "bltcf1455b9d5ce5e64     60\n",
       "blt4db427e79c80b4d5     30\n",
       "bltc8d7bc761ec86818     28\n",
       "blt2247bc4437aaf305     17\n",
       "bltb6badb09e573f55a     16\n",
       "bltdc6912cba6060deb     16\n",
       "bltdacfef30c727a72d     15\n",
       "blt4b154a14c8a0eb8d      5\n",
       "blt36c4b010652241a7      1"
      ]
     },
     "execution_count": 208,
     "metadata": {},
     "output_type": "execute_result"
    }
   ],
   "source": [
    "null_pct = df_raw[df_raw[col_nm].isna()].shape[0]/df_raw.shape[0]\n",
    "display(Markdown(f\"## Percentage of nulls {null_pct:.2%}\"))\n",
    "pd.DataFrame(df_raw[col_nm].value_counts())"
   ]
  },
  {
   "cell_type": "code",
   "execution_count": 209,
   "id": "d4a9b5c1-425f-45fe-99cd-c368ef4315a2",
   "metadata": {},
   "outputs": [
    {
     "data": {
      "text/markdown": [
       "# Analysis Column 33: ingestion_timestamp"
      ],
      "text/plain": [
       "<IPython.core.display.Markdown object>"
      ]
     },
     "metadata": {},
     "output_type": "display_data"
    }
   ],
   "source": [
    "col_nm = df_raw.columns[col_idx]\n",
    "display(Markdown(f\"# Analysis Column {col_idx}: {col_nm}\"))\n",
    "col_idx += 1"
   ]
  },
  {
   "cell_type": "code",
   "execution_count": 210,
   "id": "5ed8df8f-e003-4471-ba11-37cf46e2836d",
   "metadata": {},
   "outputs": [
    {
     "data": {
      "text/markdown": [
       "## Percentage of nulls 0.00%"
      ],
      "text/plain": [
       "<IPython.core.display.Markdown object>"
      ]
     },
     "metadata": {},
     "output_type": "display_data"
    },
    {
     "data": {
      "image/png": "[encoded data removed]",
      "text/plain": [
       "<Figure size 1500x500 with 1 Axes>"
      ]
     },
     "metadata": {},
     "output_type": "display_data"
    }
   ],
   "source": [
    "display(Markdown(f\"## Percentage of nulls {null_pct:.2%}\"))\n",
    "df_time_freq = pd.DataFrame(df_raw[col_nm].value_counts()).reset_index()\n",
    "df_time_freq['date'] = pd.to_datetime(df_time_freq[col_nm].str[:10]).dt.date\n",
    "df_date_freq = df_time_freq.groupby('date').sum('count')\n",
    "plt.figure(figsize=(15,5))\n",
    "plt.plot(df_date_freq)\n",
    "plt.xticks(rotation=90)\n",
    "pass"
   ]
  },
  {
   "cell_type": "code",
   "execution_count": 211,
   "id": "566d78f1-9d15-4579-b54a-21729990fe37",
   "metadata": {},
   "outputs": [
    {
     "data": {
      "text/markdown": [
       "# Analysis Column 34: anomesdia"
      ],
      "text/plain": [
       "<IPython.core.display.Markdown object>"
      ]
     },
     "metadata": {},
     "output_type": "display_data"
    }
   ],
   "source": [
    "col_nm = df_raw.columns[col_idx]\n",
    "display(Markdown(f\"# Analysis Column {col_idx}: {col_nm}\"))\n",
    "col_idx += 1"
   ]
  },
  {
   "cell_type": "code",
   "execution_count": 226,
   "id": "4daa97d3-5217-4f3c-bbce-710456a275ab",
   "metadata": {},
   "outputs": [
    {
     "data": {
      "text/markdown": [
       "## Percentage of nulls 0.00%"
      ],
      "text/plain": [
       "<IPython.core.display.Markdown object>"
      ]
     },
     "metadata": {},
     "output_type": "display_data"
    },
    {
     "data": {
      "image/png": "[encoded data removed]",
      "text/plain": [
       "<Figure size 1500x500 with 1 Axes>"
      ]
     },
     "metadata": {},
     "output_type": "display_data"
    }
   ],
   "source": [
    "display(Markdown(f\"## Percentage of nulls {null_pct:.2%}\"))\n",
    "df_time_freq = pd.DataFrame(df_raw[col_nm].value_counts()).reset_index().sort_values(col_nm)\n",
    "df_time_freq['date'] = pd.to_datetime(df_time_freq[col_nm].astype(str)).dt.date\n",
    "df_date_freq = pd.DataFrame(df_time_freq.groupby('date').sum('count')['count'])\n",
    "plt.figure(figsize=(15,5))\n",
    "plt.plot(df_date_freq)\n",
    "plt.xticks(rotation=90)\n",
    "pass"
   ]
  },
  {
   "cell_type": "markdown",
   "id": "6774a727-3133-4364-8c10-876f72e9c7fa",
   "metadata": {},
   "source": [
    "# Next Steps\n",
    "* Create embeddings to questions and answers\n",
    "* Clustering analysis to experiment the best way to identify QnAs related to credit card benefits.\n",
    "* Clustering analysis to discover different answers semantically highly correlated.\n",
    "* Clustering analysis to discover different questions semantically highly correlated.\n",
    "* Analysis to properly relate questions and answers (is a simple similarity rank enough to related Q n A?"
   ]
  },
  {
   "cell_type": "code",
   "execution_count": null,
   "id": "6fb36dba-4f1c-42b7-b099-acd9abf0b6c0",
   "metadata": {},
   "outputs": [],
   "source": []
  }
 ],
 "metadata": {
  "kernelspec": {
   "display_name": "Python 3 (ipykernel)",
   "language": "python",
   "name": "python3"
  },
  "language_info": {
   "codemirror_mode": {
    "name": "ipython",
    "version": 3
   },
   "file_extension": ".py",
   "mimetype": "text/x-python",
   "name": "python",
   "nbconvert_exporter": "python",
   "pygments_lexer": "ipython3",
   "version": "3.12.3"
  }
 },
 "nbformat": 4,
 "nbformat_minor": 5
}
